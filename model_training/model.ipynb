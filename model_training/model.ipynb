{
 "cells": [
  {
   "cell_type": "code",
   "execution_count": 1,
   "metadata": {},
   "outputs": [],
   "source": [
    "import pandas as pd\n",
<<<<<<< HEAD
    "import seaborn as sns\n",
    "from sklearn.preprocessing import StandardScaler,LabelEncoder,OneHotEncoder\n",
    "from sklearn.model_selection import train_test_split\n",
    "import tensorflow as tf\n",
    "from tensorflow import keras\n",
    "from tensorflow.keras.models import Sequential\n",
    "from tensorflow.keras.layers import Dense, Dropout\n",
    "import datetime"
=======
    "import seaborn as sns"
>>>>>>> 3a9edb88 (Initial commit)
   ]
  },
  {
   "cell_type": "code",
   "execution_count": 2,
   "metadata": {},
   "outputs": [],
   "source": [
    "df_final=pd.read_csv(r'C:\\Users\\nkn05\\OneDrive\\Desktop\\DL_proj\\.venv\\Data\\df_final.csv')"
   ]
  },
  {
   "cell_type": "code",
   "execution_count": 3,
   "metadata": {},
   "outputs": [
    {
     "data": {
      "text/html": [
       "<div>\n",
       "<style scoped>\n",
       "    .dataframe tbody tr th:only-of-type {\n",
       "        vertical-align: middle;\n",
       "    }\n",
       "\n",
       "    .dataframe tbody tr th {\n",
       "        vertical-align: top;\n",
       "    }\n",
       "\n",
       "    .dataframe thead th {\n",
       "        text-align: right;\n",
       "    }\n",
       "</style>\n",
       "<table border=\"1\" class=\"dataframe\">\n",
       "  <thead>\n",
       "    <tr style=\"text-align: right;\">\n",
       "      <th></th>\n",
       "      <th>customer_id</th>\n",
       "      <th>total_orders</th>\n",
       "      <th>days_since_last_order</th>\n",
       "      <th>average_order_value</th>\n",
       "      <th>completed_orders</th>\n",
       "      <th>canceled_orders</th>\n",
       "      <th>address_status_changed</th>\n",
       "      <th>shipping_method_preference</th>\n",
       "      <th>churn</th>\n",
       "    </tr>\n",
       "  </thead>\n",
       "  <tbody>\n",
       "    <tr>\n",
       "      <th>0</th>\n",
       "      <td>2</td>\n",
       "      <td>1</td>\n",
       "      <td>1041</td>\n",
       "      <td>4.360</td>\n",
       "      <td>0</td>\n",
       "      <td>0</td>\n",
       "      <td>False</td>\n",
       "      <td>International</td>\n",
       "      <td>1</td>\n",
       "    </tr>\n",
       "    <tr>\n",
       "      <th>1</th>\n",
       "      <td>4</td>\n",
       "      <td>1</td>\n",
       "      <td>393</td>\n",
       "      <td>26.760</td>\n",
       "      <td>1</td>\n",
       "      <td>0</td>\n",
       "      <td>False</td>\n",
       "      <td>International</td>\n",
       "      <td>1</td>\n",
       "    </tr>\n",
       "    <tr>\n",
       "      <th>2</th>\n",
       "      <td>5</td>\n",
       "      <td>2</td>\n",
       "      <td>760</td>\n",
       "      <td>260.640</td>\n",
       "      <td>6</td>\n",
       "      <td>0</td>\n",
       "      <td>True</td>\n",
       "      <td>Express</td>\n",
       "      <td>1</td>\n",
       "    </tr>\n",
       "    <tr>\n",
       "      <th>3</th>\n",
       "      <td>6</td>\n",
       "      <td>4</td>\n",
       "      <td>397</td>\n",
       "      <td>134.824</td>\n",
       "      <td>8</td>\n",
       "      <td>0</td>\n",
       "      <td>False</td>\n",
       "      <td>Priority</td>\n",
       "      <td>1</td>\n",
       "    </tr>\n",
       "    <tr>\n",
       "      <th>4</th>\n",
       "      <td>7</td>\n",
       "      <td>1</td>\n",
       "      <td>544</td>\n",
       "      <td>125.360</td>\n",
       "      <td>2</td>\n",
       "      <td>0</td>\n",
       "      <td>False</td>\n",
       "      <td>Standard</td>\n",
       "      <td>1</td>\n",
       "    </tr>\n",
       "  </tbody>\n",
       "</table>\n",
       "</div>"
      ],
      "text/plain": [
       "   customer_id  total_orders  days_since_last_order  average_order_value  \\\n",
       "0            2             1                   1041                4.360   \n",
       "1            4             1                    393               26.760   \n",
       "2            5             2                    760              260.640   \n",
       "3            6             4                    397              134.824   \n",
       "4            7             1                    544              125.360   \n",
       "\n",
       "   completed_orders  canceled_orders  address_status_changed  \\\n",
       "0                 0                0                   False   \n",
       "1                 1                0                   False   \n",
       "2                 6                0                    True   \n",
       "3                 8                0                   False   \n",
       "4                 2                0                   False   \n",
       "\n",
       "  shipping_method_preference  churn  \n",
       "0              International      1  \n",
       "1              International      1  \n",
       "2                    Express      1  \n",
       "3                   Priority      1  \n",
       "4                   Standard      1  "
      ]
     },
     "execution_count": 3,
     "metadata": {},
     "output_type": "execute_result"
    }
   ],
   "source": [
    "df_final.head()"
   ]
  },
  {
   "cell_type": "markdown",
   "metadata": {},
   "source": [
    "Encode Categorical Variables:"
   ]
  },
  {
   "cell_type": "code",
   "execution_count": 4,
   "metadata": {},
   "outputs": [],
   "source": [
<<<<<<< HEAD
    "# One-hot encode categorical features\n",
    "one_hot_shipping=OneHotEncoder()\n",
    "shipping_encoder=one_hot_shipping.fit_transform(df_final[['shipping_method_preference']]).toarray()"
=======
    "\n",
    "# One-hot encode categorical features\n",
    "df_final = pd.get_dummies(df_final, columns=['shipping_method_preference'], drop_first=True)"
>>>>>>> 3a9edb88 (Initial commit)
   ]
  },
  {
   "cell_type": "code",
   "execution_count": 5,
   "metadata": {},
   "outputs": [
    {
     "data": {
<<<<<<< HEAD
      "text/plain": [
       "array(['shipping_method_preference_Express',\n",
       "       'shipping_method_preference_International',\n",
       "       'shipping_method_preference_Priority',\n",
       "       'shipping_method_preference_Standard'], dtype=object)"
      ]
     },
     "execution_count": 5,
     "metadata": {},
     "output_type": "execute_result"
    }
   ],
   "source": [
    "one_hot_shipping.get_feature_names_out(['shipping_method_preference'])"
   ]
  },
  {
   "cell_type": "code",
   "execution_count": 6,
   "metadata": {},
   "outputs": [
    {
     "data": {
      "text/html": [
       "<div>\n",
       "<style scoped>\n",
       "    .dataframe tbody tr th:only-of-type {\n",
       "        vertical-align: middle;\n",
       "    }\n",
       "\n",
       "    .dataframe tbody tr th {\n",
       "        vertical-align: top;\n",
       "    }\n",
       "\n",
       "    .dataframe thead th {\n",
       "        text-align: right;\n",
       "    }\n",
       "</style>\n",
       "<table border=\"1\" class=\"dataframe\">\n",
       "  <thead>\n",
       "    <tr style=\"text-align: right;\">\n",
       "      <th></th>\n",
       "      <th>shipping_method_preference_Express</th>\n",
       "      <th>shipping_method_preference_International</th>\n",
       "      <th>shipping_method_preference_Priority</th>\n",
       "      <th>shipping_method_preference_Standard</th>\n",
       "    </tr>\n",
       "  </thead>\n",
       "  <tbody>\n",
       "    <tr>\n",
       "      <th>0</th>\n",
       "      <td>0.0</td>\n",
       "      <td>1.0</td>\n",
       "      <td>0.0</td>\n",
       "      <td>0.0</td>\n",
       "    </tr>\n",
       "    <tr>\n",
       "      <th>1</th>\n",
       "      <td>0.0</td>\n",
       "      <td>1.0</td>\n",
       "      <td>0.0</td>\n",
       "      <td>0.0</td>\n",
       "    </tr>\n",
       "    <tr>\n",
       "      <th>2</th>\n",
       "      <td>1.0</td>\n",
       "      <td>0.0</td>\n",
       "      <td>0.0</td>\n",
       "      <td>0.0</td>\n",
       "    </tr>\n",
       "    <tr>\n",
       "      <th>3</th>\n",
       "      <td>0.0</td>\n",
       "      <td>0.0</td>\n",
       "      <td>1.0</td>\n",
       "      <td>0.0</td>\n",
       "    </tr>\n",
       "    <tr>\n",
       "      <th>4</th>\n",
       "      <td>0.0</td>\n",
       "      <td>0.0</td>\n",
       "      <td>0.0</td>\n",
       "      <td>1.0</td>\n",
       "    </tr>\n",
       "    <tr>\n",
       "      <th>...</th>\n",
       "      <td>...</td>\n",
       "      <td>...</td>\n",
       "      <td>...</td>\n",
       "      <td>...</td>\n",
       "    </tr>\n",
       "    <tr>\n",
       "      <th>1681</th>\n",
       "      <td>1.0</td>\n",
       "      <td>0.0</td>\n",
       "      <td>0.0</td>\n",
       "      <td>0.0</td>\n",
       "    </tr>\n",
       "    <tr>\n",
       "      <th>1682</th>\n",
       "      <td>0.0</td>\n",
       "      <td>0.0</td>\n",
       "      <td>1.0</td>\n",
       "      <td>0.0</td>\n",
       "    </tr>\n",
       "    <tr>\n",
       "      <th>1683</th>\n",
       "      <td>0.0</td>\n",
       "      <td>1.0</td>\n",
       "      <td>0.0</td>\n",
       "      <td>0.0</td>\n",
       "    </tr>\n",
       "    <tr>\n",
       "      <th>1684</th>\n",
       "      <td>1.0</td>\n",
       "      <td>0.0</td>\n",
       "      <td>0.0</td>\n",
       "      <td>0.0</td>\n",
       "    </tr>\n",
       "    <tr>\n",
       "      <th>1685</th>\n",
       "      <td>0.0</td>\n",
       "      <td>1.0</td>\n",
       "      <td>0.0</td>\n",
       "      <td>0.0</td>\n",
       "    </tr>\n",
       "  </tbody>\n",
       "</table>\n",
       "<p>1686 rows × 4 columns</p>\n",
       "</div>"
      ],
      "text/plain": [
       "      shipping_method_preference_Express  \\\n",
       "0                                    0.0   \n",
       "1                                    0.0   \n",
       "2                                    1.0   \n",
       "3                                    0.0   \n",
       "4                                    0.0   \n",
       "...                                  ...   \n",
       "1681                                 1.0   \n",
       "1682                                 0.0   \n",
       "1683                                 0.0   \n",
       "1684                                 1.0   \n",
       "1685                                 0.0   \n",
       "\n",
       "      shipping_method_preference_International  \\\n",
       "0                                          1.0   \n",
       "1                                          1.0   \n",
       "2                                          0.0   \n",
       "3                                          0.0   \n",
       "4                                          0.0   \n",
       "...                                        ...   \n",
       "1681                                       0.0   \n",
       "1682                                       0.0   \n",
       "1683                                       1.0   \n",
       "1684                                       0.0   \n",
       "1685                                       1.0   \n",
       "\n",
       "      shipping_method_preference_Priority  shipping_method_preference_Standard  \n",
       "0                                     0.0                                  0.0  \n",
       "1                                     0.0                                  0.0  \n",
       "2                                     0.0                                  0.0  \n",
       "3                                     1.0                                  0.0  \n",
       "4                                     0.0                                  1.0  \n",
       "...                                   ...                                  ...  \n",
       "1681                                  0.0                                  0.0  \n",
       "1682                                  1.0                                  0.0  \n",
       "1683                                  0.0                                  0.0  \n",
       "1684                                  0.0                                  0.0  \n",
       "1685                                  0.0                                  0.0  \n",
       "\n",
       "[1686 rows x 4 columns]"
      ]
     },
     "execution_count": 6,
     "metadata": {},
     "output_type": "execute_result"
    }
   ],
   "source": [
    "shipping_encoded_df=pd.DataFrame(shipping_encoder,columns=one_hot_shipping.get_feature_names_out(['shipping_method_preference']))\n",
    "shipping_encoded_df"
   ]
  },
  {
   "cell_type": "code",
   "execution_count": 7,
   "metadata": {},
   "outputs": [
    {
     "data": {
=======
>>>>>>> 3a9edb88 (Initial commit)
      "text/html": [
       "<div>\n",
       "<style scoped>\n",
       "    .dataframe tbody tr th:only-of-type {\n",
       "        vertical-align: middle;\n",
       "    }\n",
       "\n",
       "    .dataframe tbody tr th {\n",
       "        vertical-align: top;\n",
       "    }\n",
       "\n",
       "    .dataframe thead th {\n",
       "        text-align: right;\n",
       "    }\n",
       "</style>\n",
       "<table border=\"1\" class=\"dataframe\">\n",
       "  <thead>\n",
       "    <tr style=\"text-align: right;\">\n",
       "      <th></th>\n",
       "      <th>customer_id</th>\n",
       "      <th>total_orders</th>\n",
       "      <th>days_since_last_order</th>\n",
       "      <th>average_order_value</th>\n",
       "      <th>completed_orders</th>\n",
       "      <th>canceled_orders</th>\n",
       "      <th>address_status_changed</th>\n",
       "      <th>churn</th>\n",
<<<<<<< HEAD
       "      <th>shipping_method_preference_Express</th>\n",
=======
>>>>>>> 3a9edb88 (Initial commit)
       "      <th>shipping_method_preference_International</th>\n",
       "      <th>shipping_method_preference_Priority</th>\n",
       "      <th>shipping_method_preference_Standard</th>\n",
       "    </tr>\n",
       "  </thead>\n",
       "  <tbody>\n",
       "    <tr>\n",
       "      <th>0</th>\n",
       "      <td>2</td>\n",
       "      <td>1</td>\n",
       "      <td>1041</td>\n",
<<<<<<< HEAD
       "      <td>4.360</td>\n",
=======
       "      <td>4.36000</td>\n",
>>>>>>> 3a9edb88 (Initial commit)
       "      <td>0</td>\n",
       "      <td>0</td>\n",
       "      <td>False</td>\n",
       "      <td>1</td>\n",
<<<<<<< HEAD
       "      <td>0.0</td>\n",
       "      <td>1.0</td>\n",
       "      <td>0.0</td>\n",
       "      <td>0.0</td>\n",
=======
       "      <td>True</td>\n",
       "      <td>False</td>\n",
       "      <td>False</td>\n",
>>>>>>> 3a9edb88 (Initial commit)
       "    </tr>\n",
       "    <tr>\n",
       "      <th>1</th>\n",
       "      <td>4</td>\n",
       "      <td>1</td>\n",
       "      <td>393</td>\n",
<<<<<<< HEAD
       "      <td>26.760</td>\n",
=======
       "      <td>26.76000</td>\n",
>>>>>>> 3a9edb88 (Initial commit)
       "      <td>1</td>\n",
       "      <td>0</td>\n",
       "      <td>False</td>\n",
       "      <td>1</td>\n",
<<<<<<< HEAD
       "      <td>0.0</td>\n",
       "      <td>1.0</td>\n",
       "      <td>0.0</td>\n",
       "      <td>0.0</td>\n",
=======
       "      <td>True</td>\n",
       "      <td>False</td>\n",
       "      <td>False</td>\n",
>>>>>>> 3a9edb88 (Initial commit)
       "    </tr>\n",
       "    <tr>\n",
       "      <th>2</th>\n",
       "      <td>5</td>\n",
       "      <td>2</td>\n",
       "      <td>760</td>\n",
<<<<<<< HEAD
       "      <td>260.640</td>\n",
=======
       "      <td>260.64000</td>\n",
>>>>>>> 3a9edb88 (Initial commit)
       "      <td>6</td>\n",
       "      <td>0</td>\n",
       "      <td>True</td>\n",
       "      <td>1</td>\n",
<<<<<<< HEAD
       "      <td>1.0</td>\n",
       "      <td>0.0</td>\n",
       "      <td>0.0</td>\n",
       "      <td>0.0</td>\n",
=======
       "      <td>False</td>\n",
       "      <td>False</td>\n",
       "      <td>False</td>\n",
>>>>>>> 3a9edb88 (Initial commit)
       "    </tr>\n",
       "    <tr>\n",
       "      <th>3</th>\n",
       "      <td>6</td>\n",
       "      <td>4</td>\n",
       "      <td>397</td>\n",
<<<<<<< HEAD
       "      <td>134.824</td>\n",
=======
       "      <td>134.82400</td>\n",
>>>>>>> 3a9edb88 (Initial commit)
       "      <td>8</td>\n",
       "      <td>0</td>\n",
       "      <td>False</td>\n",
       "      <td>1</td>\n",
<<<<<<< HEAD
       "      <td>0.0</td>\n",
       "      <td>0.0</td>\n",
       "      <td>1.0</td>\n",
       "      <td>0.0</td>\n",
=======
       "      <td>False</td>\n",
       "      <td>True</td>\n",
       "      <td>False</td>\n",
>>>>>>> 3a9edb88 (Initial commit)
       "    </tr>\n",
       "    <tr>\n",
       "      <th>4</th>\n",
       "      <td>7</td>\n",
       "      <td>1</td>\n",
       "      <td>544</td>\n",
<<<<<<< HEAD
       "      <td>125.360</td>\n",
=======
       "      <td>125.36000</td>\n",
>>>>>>> 3a9edb88 (Initial commit)
       "      <td>2</td>\n",
       "      <td>0</td>\n",
       "      <td>False</td>\n",
       "      <td>1</td>\n",
<<<<<<< HEAD
       "      <td>0.0</td>\n",
       "      <td>0.0</td>\n",
       "      <td>0.0</td>\n",
       "      <td>1.0</td>\n",
       "    </tr>\n",
       "  </tbody>\n",
       "</table>\n",
       "</div>"
      ],
      "text/plain": [
       "   customer_id  total_orders  days_since_last_order  average_order_value  \\\n",
       "0            2             1                   1041                4.360   \n",
       "1            4             1                    393               26.760   \n",
       "2            5             2                    760              260.640   \n",
       "3            6             4                    397              134.824   \n",
       "4            7             1                    544              125.360   \n",
       "\n",
       "   completed_orders  canceled_orders  address_status_changed  churn  \\\n",
       "0                 0                0                   False      1   \n",
       "1                 1                0                   False      1   \n",
       "2                 6                0                    True      1   \n",
       "3                 8                0                   False      1   \n",
       "4                 2                0                   False      1   \n",
       "\n",
       "   shipping_method_preference_Express  \\\n",
       "0                                 0.0   \n",
       "1                                 0.0   \n",
       "2                                 1.0   \n",
       "3                                 0.0   \n",
       "4                                 0.0   \n",
       "\n",
       "   shipping_method_preference_International  \\\n",
       "0                                       1.0   \n",
       "1                                       1.0   \n",
       "2                                       0.0   \n",
       "3                                       0.0   \n",
       "4                                       0.0   \n",
       "\n",
       "   shipping_method_preference_Priority  shipping_method_preference_Standard  \n",
       "0                                  0.0                                  0.0  \n",
       "1                                  0.0                                  0.0  \n",
       "2                                  0.0                                  0.0  \n",
       "3                                  1.0                                  0.0  \n",
       "4                                  0.0                                  1.0  "
      ]
     },
     "execution_count": 7,
=======
       "      <td>False</td>\n",
       "      <td>False</td>\n",
       "      <td>True</td>\n",
       "    </tr>\n",
       "    <tr>\n",
       "      <th>...</th>\n",
       "      <td>...</td>\n",
       "      <td>...</td>\n",
       "      <td>...</td>\n",
       "      <td>...</td>\n",
       "      <td>...</td>\n",
       "      <td>...</td>\n",
       "      <td>...</td>\n",
       "      <td>...</td>\n",
       "      <td>...</td>\n",
       "      <td>...</td>\n",
       "      <td>...</td>\n",
       "    </tr>\n",
       "    <tr>\n",
       "      <th>1681</th>\n",
       "      <td>1989</td>\n",
       "      <td>9</td>\n",
       "      <td>220</td>\n",
       "      <td>111.51131</td>\n",
       "      <td>12</td>\n",
       "      <td>0</td>\n",
       "      <td>False</td>\n",
       "      <td>1</td>\n",
       "      <td>False</td>\n",
       "      <td>False</td>\n",
       "      <td>False</td>\n",
       "    </tr>\n",
       "    <tr>\n",
       "      <th>1682</th>\n",
       "      <td>1991</td>\n",
       "      <td>1</td>\n",
       "      <td>175</td>\n",
       "      <td>168.16000</td>\n",
       "      <td>4</td>\n",
       "      <td>0</td>\n",
       "      <td>True</td>\n",
       "      <td>1</td>\n",
       "      <td>False</td>\n",
       "      <td>True</td>\n",
       "      <td>False</td>\n",
       "    </tr>\n",
       "    <tr>\n",
       "      <th>1683</th>\n",
       "      <td>1994</td>\n",
       "      <td>2</td>\n",
       "      <td>21</td>\n",
       "      <td>109.89001</td>\n",
       "      <td>4</td>\n",
       "      <td>0</td>\n",
       "      <td>False</td>\n",
       "      <td>0</td>\n",
       "      <td>True</td>\n",
       "      <td>False</td>\n",
       "      <td>False</td>\n",
       "    </tr>\n",
       "    <tr>\n",
       "      <th>1684</th>\n",
       "      <td>1998</td>\n",
       "      <td>1</td>\n",
       "      <td>333</td>\n",
       "      <td>60.36000</td>\n",
       "      <td>1</td>\n",
       "      <td>0</td>\n",
       "      <td>False</td>\n",
       "      <td>1</td>\n",
       "      <td>False</td>\n",
       "      <td>False</td>\n",
       "      <td>False</td>\n",
       "    </tr>\n",
       "    <tr>\n",
       "      <th>1685</th>\n",
       "      <td>2000</td>\n",
       "      <td>2</td>\n",
       "      <td>18</td>\n",
       "      <td>24.40000</td>\n",
       "      <td>0</td>\n",
       "      <td>2</td>\n",
       "      <td>False</td>\n",
       "      <td>0</td>\n",
       "      <td>True</td>\n",
       "      <td>False</td>\n",
       "      <td>False</td>\n",
       "    </tr>\n",
       "  </tbody>\n",
       "</table>\n",
       "<p>1686 rows × 11 columns</p>\n",
       "</div>"
      ],
      "text/plain": [
       "      customer_id  total_orders  days_since_last_order  average_order_value  \\\n",
       "0               2             1                   1041              4.36000   \n",
       "1               4             1                    393             26.76000   \n",
       "2               5             2                    760            260.64000   \n",
       "3               6             4                    397            134.82400   \n",
       "4               7             1                    544            125.36000   \n",
       "...           ...           ...                    ...                  ...   \n",
       "1681         1989             9                    220            111.51131   \n",
       "1682         1991             1                    175            168.16000   \n",
       "1683         1994             2                     21            109.89001   \n",
       "1684         1998             1                    333             60.36000   \n",
       "1685         2000             2                     18             24.40000   \n",
       "\n",
       "      completed_orders  canceled_orders  address_status_changed  churn  \\\n",
       "0                    0                0                   False      1   \n",
       "1                    1                0                   False      1   \n",
       "2                    6                0                    True      1   \n",
       "3                    8                0                   False      1   \n",
       "4                    2                0                   False      1   \n",
       "...                ...              ...                     ...    ...   \n",
       "1681                12                0                   False      1   \n",
       "1682                 4                0                    True      1   \n",
       "1683                 4                0                   False      0   \n",
       "1684                 1                0                   False      1   \n",
       "1685                 0                2                   False      0   \n",
       "\n",
       "      shipping_method_preference_International  \\\n",
       "0                                         True   \n",
       "1                                         True   \n",
       "2                                        False   \n",
       "3                                        False   \n",
       "4                                        False   \n",
       "...                                        ...   \n",
       "1681                                     False   \n",
       "1682                                     False   \n",
       "1683                                      True   \n",
       "1684                                     False   \n",
       "1685                                      True   \n",
       "\n",
       "      shipping_method_preference_Priority  shipping_method_preference_Standard  \n",
       "0                                   False                                False  \n",
       "1                                   False                                False  \n",
       "2                                   False                                False  \n",
       "3                                    True                                False  \n",
       "4                                   False                                 True  \n",
       "...                                   ...                                  ...  \n",
       "1681                                False                                False  \n",
       "1682                                 True                                False  \n",
       "1683                                False                                False  \n",
       "1684                                False                                False  \n",
       "1685                                False                                False  \n",
       "\n",
       "[1686 rows x 11 columns]"
      ]
     },
     "execution_count": 5,
>>>>>>> 3a9edb88 (Initial commit)
     "metadata": {},
     "output_type": "execute_result"
    }
   ],
   "source": [
<<<<<<< HEAD
    "#combine all the columns with data\n",
    "df_final=pd.concat([df_final.drop('shipping_method_preference',axis=1),shipping_encoded_df],axis=1)\n",
    "df_final.head()"
   ]
  },
  {
   "cell_type": "code",
   "execution_count": 8,
   "metadata": {},
   "outputs": [],
   "source": [
    "\n",
    "\n",
    "#df_final = pd.get_dummies(df_final, columns=['shipping_method_preference'], drop_first=True)"
   ]
  },
  {
   "cell_type": "code",
   "execution_count": 9,
   "metadata": {},
   "outputs": [],
   "source": [
    "#df_final"
=======
    "df_final"
>>>>>>> 3a9edb88 (Initial commit)
   ]
  },
  {
   "cell_type": "markdown",
   "metadata": {},
   "source": [
    "Normalize/Scale Numerical Features:"
   ]
  },
  {
   "cell_type": "code",
<<<<<<< HEAD
   "execution_count": 10,
   "metadata": {},
   "outputs": [],
   "source": [
    "#save the encoder and scaler\n",
    "import pickle\n",
    "\n",
    "with open('one_hot_shipping.pkl','wb') as file:\n",
    "    pickle.dump(one_hot_shipping,file)\n"
   ]
  },
  {
   "cell_type": "code",
   "execution_count": 11,
   "metadata": {},
   "outputs": [],
   "source": [
=======
   "execution_count": 6,
   "metadata": {},
   "outputs": [],
   "source": [
    "from sklearn.preprocessing import StandardScaler\n",
>>>>>>> 3a9edb88 (Initial commit)
    "\n",
    "# Initialize the scaler\n",
    "scaler = StandardScaler()\n",
    "\n",
    "# Scale numerical features\n",
    "numerical_features = ['total_orders', 'days_since_last_order', 'average_order_value', 'completed_orders', 'canceled_orders']\n",
    "df_final[numerical_features] = scaler.fit_transform(df_final[numerical_features])"
   ]
  },
  {
   "cell_type": "markdown",
   "metadata": {},
   "source": [
    "Separate Features and Target:"
   ]
  },
  {
   "cell_type": "code",
<<<<<<< HEAD
   "execution_count": 12,
   "metadata": {},
   "outputs": [],
   "source": [
    "## DiVide the dataset into indepent and dependent features\n",
    "X = df_final.drop(columns=['churn', 'customer_id'])  # Features\n",
    "y = df_final['churn']  # Target\n",
    "\n",
    "## Split the data in training and tetsing sets\n",
    "X_train,X_test,y_train,y_test=train_test_split(X,y,test_size=0.2,random_state=42)\n",
    "\n",
    "## Scale these features\n",
    "scaler=StandardScaler()\n",
    "X_train=scaler.fit_transform(X_train)\n",
    "X_test=scaler.transform(X_test)\n"
=======
   "execution_count": 7,
   "metadata": {},
   "outputs": [],
   "source": [
    "X = df_final.drop(columns=['churn', 'customer_id'])  # Features\n",
    "y = df_final['churn']  # Target"
   ]
  },
  {
   "cell_type": "markdown",
   "metadata": {},
   "source": [
    "Split Data into Training and Testing Sets:"
>>>>>>> 3a9edb88 (Initial commit)
   ]
  },
  {
   "cell_type": "code",
<<<<<<< HEAD
   "execution_count": 13,
   "metadata": {},
   "outputs": [],
   "source": [
    "with open('scaler.pkl','wb') as file:\n",
    "    pickle.dump(scaler,file)"
   ]
  },
  {
   "cell_type": "code",
   "execution_count": 14,
   "metadata": {},
   "outputs": [
    {
     "data": {
      "text/html": [
       "<div>\n",
       "<style scoped>\n",
       "    .dataframe tbody tr th:only-of-type {\n",
       "        vertical-align: middle;\n",
       "    }\n",
       "\n",
       "    .dataframe tbody tr th {\n",
       "        vertical-align: top;\n",
       "    }\n",
       "\n",
       "    .dataframe thead th {\n",
       "        text-align: right;\n",
       "    }\n",
       "</style>\n",
       "<table border=\"1\" class=\"dataframe\">\n",
       "  <thead>\n",
       "    <tr style=\"text-align: right;\">\n",
       "      <th></th>\n",
       "      <th>total_orders</th>\n",
       "      <th>days_since_last_order</th>\n",
       "      <th>average_order_value</th>\n",
       "      <th>completed_orders</th>\n",
       "      <th>canceled_orders</th>\n",
       "      <th>address_status_changed</th>\n",
       "      <th>shipping_method_preference_Express</th>\n",
       "      <th>shipping_method_preference_International</th>\n",
       "      <th>shipping_method_preference_Priority</th>\n",
       "      <th>shipping_method_preference_Standard</th>\n",
       "    </tr>\n",
       "  </thead>\n",
       "  <tbody>\n",
       "    <tr>\n",
       "      <th>0</th>\n",
       "      <td>-0.979188</td>\n",
       "      <td>2.481218</td>\n",
       "      <td>-1.444146</td>\n",
       "      <td>-0.731086</td>\n",
       "      <td>-0.342644</td>\n",
       "      <td>False</td>\n",
       "      <td>0.0</td>\n",
       "      <td>1.0</td>\n",
       "      <td>0.0</td>\n",
       "      <td>0.0</td>\n",
       "    </tr>\n",
       "    <tr>\n",
       "      <th>1</th>\n",
       "      <td>-0.979188</td>\n",
       "      <td>0.262510</td>\n",
       "      <td>-1.180201</td>\n",
       "      <td>-0.647897</td>\n",
       "      <td>-0.342644</td>\n",
       "      <td>False</td>\n",
       "      <td>0.0</td>\n",
       "      <td>1.0</td>\n",
       "      <td>0.0</td>\n",
       "      <td>0.0</td>\n",
       "    </tr>\n",
       "    <tr>\n",
       "      <th>2</th>\n",
       "      <td>-0.697462</td>\n",
       "      <td>1.519093</td>\n",
       "      <td>1.575671</td>\n",
       "      <td>-0.231952</td>\n",
       "      <td>-0.342644</td>\n",
       "      <td>True</td>\n",
       "      <td>1.0</td>\n",
       "      <td>0.0</td>\n",
       "      <td>0.0</td>\n",
       "      <td>0.0</td>\n",
       "    </tr>\n",
       "    <tr>\n",
       "      <th>3</th>\n",
       "      <td>-0.134012</td>\n",
       "      <td>0.276205</td>\n",
       "      <td>0.093147</td>\n",
       "      <td>-0.065574</td>\n",
       "      <td>-0.342644</td>\n",
       "      <td>False</td>\n",
       "      <td>0.0</td>\n",
       "      <td>0.0</td>\n",
       "      <td>1.0</td>\n",
       "      <td>0.0</td>\n",
       "    </tr>\n",
       "    <tr>\n",
       "      <th>4</th>\n",
       "      <td>-0.979188</td>\n",
       "      <td>0.779523</td>\n",
       "      <td>-0.018370</td>\n",
       "      <td>-0.564708</td>\n",
       "      <td>-0.342644</td>\n",
       "      <td>False</td>\n",
       "      <td>0.0</td>\n",
       "      <td>0.0</td>\n",
       "      <td>0.0</td>\n",
       "      <td>1.0</td>\n",
       "    </tr>\n",
       "    <tr>\n",
       "      <th>...</th>\n",
       "      <td>...</td>\n",
       "      <td>...</td>\n",
       "      <td>...</td>\n",
       "      <td>...</td>\n",
       "      <td>...</td>\n",
       "      <td>...</td>\n",
       "      <td>...</td>\n",
       "      <td>...</td>\n",
       "      <td>...</td>\n",
       "      <td>...</td>\n",
       "    </tr>\n",
       "    <tr>\n",
       "      <th>1681</th>\n",
       "      <td>1.274615</td>\n",
       "      <td>-0.329831</td>\n",
       "      <td>-0.181553</td>\n",
       "      <td>0.267182</td>\n",
       "      <td>-0.342644</td>\n",
       "      <td>False</td>\n",
       "      <td>1.0</td>\n",
       "      <td>0.0</td>\n",
       "      <td>0.0</td>\n",
       "      <td>0.0</td>\n",
       "    </tr>\n",
       "    <tr>\n",
       "      <th>1682</th>\n",
       "      <td>-0.979188</td>\n",
       "      <td>-0.483908</td>\n",
       "      <td>0.485954</td>\n",
       "      <td>-0.398330</td>\n",
       "      <td>-0.342644</td>\n",
       "      <td>True</td>\n",
       "      <td>0.0</td>\n",
       "      <td>0.0</td>\n",
       "      <td>1.0</td>\n",
       "      <td>0.0</td>\n",
       "    </tr>\n",
       "    <tr>\n",
       "      <th>1683</th>\n",
       "      <td>-0.697462</td>\n",
       "      <td>-1.011193</td>\n",
       "      <td>-0.200657</td>\n",
       "      <td>-0.398330</td>\n",
       "      <td>-0.342644</td>\n",
       "      <td>False</td>\n",
       "      <td>0.0</td>\n",
       "      <td>1.0</td>\n",
       "      <td>0.0</td>\n",
       "      <td>0.0</td>\n",
       "    </tr>\n",
       "    <tr>\n",
       "      <th>1684</th>\n",
       "      <td>-0.979188</td>\n",
       "      <td>0.057074</td>\n",
       "      <td>-0.784283</td>\n",
       "      <td>-0.647897</td>\n",
       "      <td>-0.342644</td>\n",
       "      <td>False</td>\n",
       "      <td>1.0</td>\n",
       "      <td>0.0</td>\n",
       "      <td>0.0</td>\n",
       "      <td>0.0</td>\n",
       "    </tr>\n",
       "    <tr>\n",
       "      <th>1685</th>\n",
       "      <td>-0.697462</td>\n",
       "      <td>-1.021465</td>\n",
       "      <td>-1.208009</td>\n",
       "      <td>-0.731086</td>\n",
       "      <td>0.584640</td>\n",
       "      <td>False</td>\n",
       "      <td>0.0</td>\n",
       "      <td>1.0</td>\n",
       "      <td>0.0</td>\n",
       "      <td>0.0</td>\n",
       "    </tr>\n",
       "  </tbody>\n",
       "</table>\n",
       "<p>1686 rows × 10 columns</p>\n",
       "</div>"
      ],
      "text/plain": [
       "      total_orders  days_since_last_order  average_order_value  \\\n",
       "0        -0.979188               2.481218            -1.444146   \n",
       "1        -0.979188               0.262510            -1.180201   \n",
       "2        -0.697462               1.519093             1.575671   \n",
       "3        -0.134012               0.276205             0.093147   \n",
       "4        -0.979188               0.779523            -0.018370   \n",
       "...            ...                    ...                  ...   \n",
       "1681      1.274615              -0.329831            -0.181553   \n",
       "1682     -0.979188              -0.483908             0.485954   \n",
       "1683     -0.697462              -1.011193            -0.200657   \n",
       "1684     -0.979188               0.057074            -0.784283   \n",
       "1685     -0.697462              -1.021465            -1.208009   \n",
       "\n",
       "      completed_orders  canceled_orders  address_status_changed  \\\n",
       "0            -0.731086        -0.342644                   False   \n",
       "1            -0.647897        -0.342644                   False   \n",
       "2            -0.231952        -0.342644                    True   \n",
       "3            -0.065574        -0.342644                   False   \n",
       "4            -0.564708        -0.342644                   False   \n",
       "...                ...              ...                     ...   \n",
       "1681          0.267182        -0.342644                   False   \n",
       "1682         -0.398330        -0.342644                    True   \n",
       "1683         -0.398330        -0.342644                   False   \n",
       "1684         -0.647897        -0.342644                   False   \n",
       "1685         -0.731086         0.584640                   False   \n",
       "\n",
       "      shipping_method_preference_Express  \\\n",
       "0                                    0.0   \n",
       "1                                    0.0   \n",
       "2                                    1.0   \n",
       "3                                    0.0   \n",
       "4                                    0.0   \n",
       "...                                  ...   \n",
       "1681                                 1.0   \n",
       "1682                                 0.0   \n",
       "1683                                 0.0   \n",
       "1684                                 1.0   \n",
       "1685                                 0.0   \n",
       "\n",
       "      shipping_method_preference_International  \\\n",
       "0                                          1.0   \n",
       "1                                          1.0   \n",
       "2                                          0.0   \n",
       "3                                          0.0   \n",
       "4                                          0.0   \n",
       "...                                        ...   \n",
       "1681                                       0.0   \n",
       "1682                                       0.0   \n",
       "1683                                       1.0   \n",
       "1684                                       0.0   \n",
       "1685                                       1.0   \n",
       "\n",
       "      shipping_method_preference_Priority  shipping_method_preference_Standard  \n",
       "0                                     0.0                                  0.0  \n",
       "1                                     0.0                                  0.0  \n",
       "2                                     0.0                                  0.0  \n",
       "3                                     1.0                                  0.0  \n",
       "4                                     0.0                                  1.0  \n",
       "...                                   ...                                  ...  \n",
       "1681                                  0.0                                  0.0  \n",
       "1682                                  1.0                                  0.0  \n",
       "1683                                  0.0                                  0.0  \n",
       "1684                                  0.0                                  0.0  \n",
       "1685                                  0.0                                  0.0  \n",
       "\n",
       "[1686 rows x 10 columns]"
      ]
     },
     "execution_count": 14,
     "metadata": {},
     "output_type": "execute_result"
    }
   ],
   "source": [
    "X"
   ]
  },
  {
   "cell_type": "code",
   "execution_count": 15,
   "metadata": {},
   "outputs": [],
   "source": [
    "\n",
=======
   "execution_count": 8,
   "metadata": {},
   "outputs": [],
   "source": [
    "from sklearn.model_selection import train_test_split\n",
>>>>>>> 3a9edb88 (Initial commit)
    "\n",
    "X_train, X_test, y_train, y_test = train_test_split(X, y, test_size=0.2, random_state=42)"
   ]
  },
  {
   "cell_type": "code",
<<<<<<< HEAD
   "execution_count": 16,
=======
   "execution_count": 9,
>>>>>>> 3a9edb88 (Initial commit)
   "metadata": {},
   "outputs": [
    {
     "name": "stdout",
     "output_type": "stream",
     "text": [
      "churn\n",
      "1    981\n",
      "0    367\n",
      "Name: count, dtype: int64\n"
     ]
    }
   ],
   "source": [
    "print(y_train.value_counts()) "
   ]
  },
  {
   "cell_type": "markdown",
   "metadata": {},
   "source": [
    "# Building ANN model"
   ]
  },
  {
<<<<<<< HEAD
=======
   "cell_type": "code",
   "execution_count": null,
   "metadata": {},
   "outputs": [],
   "source": []
  },
  {
   "cell_type": "code",
   "execution_count": 10,
   "metadata": {},
   "outputs": [],
   "source": [
    "import tensorflow as tf\n"
   ]
  },
  {
   "cell_type": "code",
   "execution_count": 11,
   "metadata": {},
   "outputs": [],
   "source": [
    "from tensorflow import keras\n",
    "from tensorflow.keras.models import Sequential\n",
    "from tensorflow.keras.layers import Dense, Dropout\n"
   ]
  },
  {
>>>>>>> 3a9edb88 (Initial commit)
   "cell_type": "markdown",
   "metadata": {},
   "source": [
    "Define the ANN Architecture:\n",
    "\n",
    "Input layer: Number of neurons = Number of features.\n",
    "\n",
    "Hidden layers: Experiment with 1-3 hidden layers.\n",
    "\n",
    "Output layer: 1 neuron (for binary classification) with a sigmoid activation function."
   ]
  },
  {
   "cell_type": "code",
<<<<<<< HEAD
   "execution_count": 17,
=======
   "execution_count": 12,
>>>>>>> 3a9edb88 (Initial commit)
   "metadata": {},
   "outputs": [
    {
     "name": "stderr",
     "output_type": "stream",
     "text": [
      "c:\\Users\\nkn05\\OneDrive\\Desktop\\DL_proj\\.venv\\lib\\site-packages\\keras\\src\\layers\\core\\dense.py:87: UserWarning: Do not pass an `input_shape`/`input_dim` argument to a layer. When using Sequential models, prefer using an `Input(shape)` object as the first layer in the model instead.\n",
      "  super().__init__(activity_regularizer=activity_regularizer, **kwargs)\n"
     ]
    }
   ],
   "source": [
    "# Initialize the model\n",
    "model = Sequential()\n",
    "\n",
    "# Input layer and first hidden layer\n",
    "model.add(Dense(64, input_dim=X_train.shape[1], activation='relu'))\n",
    "model.add(Dropout(0.2))  # Dropout for regularization\n",
    "\n",
    "# Second hidden layer\n",
    "model.add(Dense(32, activation='relu'))\n",
    "model.add(Dropout(0.2))\n",
    "\n",
    "# Output layer\n",
    "model.add(Dense(1, activation='sigmoid'))"
   ]
  },
  {
<<<<<<< HEAD
   "cell_type": "code",
   "execution_count": 18,
   "metadata": {},
   "outputs": [
    {
     "data": {
      "text/html": [
       "<pre style=\"white-space:pre;overflow-x:auto;line-height:normal;font-family:Menlo,'DejaVu Sans Mono',consolas,'Courier New',monospace\"><span style=\"font-weight: bold\">Model: \"sequential\"</span>\n",
       "</pre>\n"
      ],
      "text/plain": [
       "\u001b[1mModel: \"sequential\"\u001b[0m\n"
      ]
     },
     "metadata": {},
     "output_type": "display_data"
    },
    {
     "data": {
      "text/html": [
       "<pre style=\"white-space:pre;overflow-x:auto;line-height:normal;font-family:Menlo,'DejaVu Sans Mono',consolas,'Courier New',monospace\">┏━━━━━━━━━━━━━━━━━━━━━━━━━━━━━━━━━┳━━━━━━━━━━━━━━━━━━━━━━━━┳━━━━━━━━━━━━━━━┓\n",
       "┃<span style=\"font-weight: bold\"> Layer (type)                    </span>┃<span style=\"font-weight: bold\"> Output Shape           </span>┃<span style=\"font-weight: bold\">       Param # </span>┃\n",
       "┡━━━━━━━━━━━━━━━━━━━━━━━━━━━━━━━━━╇━━━━━━━━━━━━━━━━━━━━━━━━╇━━━━━━━━━━━━━━━┩\n",
       "│ dense (<span style=\"color: #0087ff; text-decoration-color: #0087ff\">Dense</span>)                   │ (<span style=\"color: #00d7ff; text-decoration-color: #00d7ff\">None</span>, <span style=\"color: #00af00; text-decoration-color: #00af00\">64</span>)             │           <span style=\"color: #00af00; text-decoration-color: #00af00\">704</span> │\n",
       "├─────────────────────────────────┼────────────────────────┼───────────────┤\n",
       "│ dropout (<span style=\"color: #0087ff; text-decoration-color: #0087ff\">Dropout</span>)               │ (<span style=\"color: #00d7ff; text-decoration-color: #00d7ff\">None</span>, <span style=\"color: #00af00; text-decoration-color: #00af00\">64</span>)             │             <span style=\"color: #00af00; text-decoration-color: #00af00\">0</span> │\n",
       "├─────────────────────────────────┼────────────────────────┼───────────────┤\n",
       "│ dense_1 (<span style=\"color: #0087ff; text-decoration-color: #0087ff\">Dense</span>)                 │ (<span style=\"color: #00d7ff; text-decoration-color: #00d7ff\">None</span>, <span style=\"color: #00af00; text-decoration-color: #00af00\">32</span>)             │         <span style=\"color: #00af00; text-decoration-color: #00af00\">2,080</span> │\n",
       "├─────────────────────────────────┼────────────────────────┼───────────────┤\n",
       "│ dropout_1 (<span style=\"color: #0087ff; text-decoration-color: #0087ff\">Dropout</span>)             │ (<span style=\"color: #00d7ff; text-decoration-color: #00d7ff\">None</span>, <span style=\"color: #00af00; text-decoration-color: #00af00\">32</span>)             │             <span style=\"color: #00af00; text-decoration-color: #00af00\">0</span> │\n",
       "├─────────────────────────────────┼────────────────────────┼───────────────┤\n",
       "│ dense_2 (<span style=\"color: #0087ff; text-decoration-color: #0087ff\">Dense</span>)                 │ (<span style=\"color: #00d7ff; text-decoration-color: #00d7ff\">None</span>, <span style=\"color: #00af00; text-decoration-color: #00af00\">1</span>)              │            <span style=\"color: #00af00; text-decoration-color: #00af00\">33</span> │\n",
       "└─────────────────────────────────┴────────────────────────┴───────────────┘\n",
       "</pre>\n"
      ],
      "text/plain": [
       "┏━━━━━━━━━━━━━━━━━━━━━━━━━━━━━━━━━┳━━━━━━━━━━━━━━━━━━━━━━━━┳━━━━━━━━━━━━━━━┓\n",
       "┃\u001b[1m \u001b[0m\u001b[1mLayer (type)                   \u001b[0m\u001b[1m \u001b[0m┃\u001b[1m \u001b[0m\u001b[1mOutput Shape          \u001b[0m\u001b[1m \u001b[0m┃\u001b[1m \u001b[0m\u001b[1m      Param #\u001b[0m\u001b[1m \u001b[0m┃\n",
       "┡━━━━━━━━━━━━━━━━━━━━━━━━━━━━━━━━━╇━━━━━━━━━━━━━━━━━━━━━━━━╇━━━━━━━━━━━━━━━┩\n",
       "│ dense (\u001b[38;5;33mDense\u001b[0m)                   │ (\u001b[38;5;45mNone\u001b[0m, \u001b[38;5;34m64\u001b[0m)             │           \u001b[38;5;34m704\u001b[0m │\n",
       "├─────────────────────────────────┼────────────────────────┼───────────────┤\n",
       "│ dropout (\u001b[38;5;33mDropout\u001b[0m)               │ (\u001b[38;5;45mNone\u001b[0m, \u001b[38;5;34m64\u001b[0m)             │             \u001b[38;5;34m0\u001b[0m │\n",
       "├─────────────────────────────────┼────────────────────────┼───────────────┤\n",
       "│ dense_1 (\u001b[38;5;33mDense\u001b[0m)                 │ (\u001b[38;5;45mNone\u001b[0m, \u001b[38;5;34m32\u001b[0m)             │         \u001b[38;5;34m2,080\u001b[0m │\n",
       "├─────────────────────────────────┼────────────────────────┼───────────────┤\n",
       "│ dropout_1 (\u001b[38;5;33mDropout\u001b[0m)             │ (\u001b[38;5;45mNone\u001b[0m, \u001b[38;5;34m32\u001b[0m)             │             \u001b[38;5;34m0\u001b[0m │\n",
       "├─────────────────────────────────┼────────────────────────┼───────────────┤\n",
       "│ dense_2 (\u001b[38;5;33mDense\u001b[0m)                 │ (\u001b[38;5;45mNone\u001b[0m, \u001b[38;5;34m1\u001b[0m)              │            \u001b[38;5;34m33\u001b[0m │\n",
       "└─────────────────────────────────┴────────────────────────┴───────────────┘\n"
      ]
     },
     "metadata": {},
     "output_type": "display_data"
    },
    {
     "data": {
      "text/html": [
       "<pre style=\"white-space:pre;overflow-x:auto;line-height:normal;font-family:Menlo,'DejaVu Sans Mono',consolas,'Courier New',monospace\"><span style=\"font-weight: bold\"> Total params: </span><span style=\"color: #00af00; text-decoration-color: #00af00\">2,817</span> (11.00 KB)\n",
       "</pre>\n"
      ],
      "text/plain": [
       "\u001b[1m Total params: \u001b[0m\u001b[38;5;34m2,817\u001b[0m (11.00 KB)\n"
      ]
     },
     "metadata": {},
     "output_type": "display_data"
    },
    {
     "data": {
      "text/html": [
       "<pre style=\"white-space:pre;overflow-x:auto;line-height:normal;font-family:Menlo,'DejaVu Sans Mono',consolas,'Courier New',monospace\"><span style=\"font-weight: bold\"> Trainable params: </span><span style=\"color: #00af00; text-decoration-color: #00af00\">2,817</span> (11.00 KB)\n",
       "</pre>\n"
      ],
      "text/plain": [
       "\u001b[1m Trainable params: \u001b[0m\u001b[38;5;34m2,817\u001b[0m (11.00 KB)\n"
      ]
     },
     "metadata": {},
     "output_type": "display_data"
    },
    {
     "data": {
      "text/html": [
       "<pre style=\"white-space:pre;overflow-x:auto;line-height:normal;font-family:Menlo,'DejaVu Sans Mono',consolas,'Courier New',monospace\"><span style=\"font-weight: bold\"> Non-trainable params: </span><span style=\"color: #00af00; text-decoration-color: #00af00\">0</span> (0.00 B)\n",
       "</pre>\n"
      ],
      "text/plain": [
       "\u001b[1m Non-trainable params: \u001b[0m\u001b[38;5;34m0\u001b[0m (0.00 B)\n"
      ]
     },
     "metadata": {},
     "output_type": "display_data"
    }
   ],
   "source": [
    "model.summary()"
   ]
  },
  {
=======
>>>>>>> 3a9edb88 (Initial commit)
   "cell_type": "markdown",
   "metadata": {},
   "source": [
    "Compile the Model:\n",
    "\n",
    "Use binary_crossentropy as the loss function (for binary classification).\n",
    "\n",
    "Use adam as the optimizer.\n",
    "\n",
    "Track accuracy as the evaluation metric"
   ]
  },
  {
   "cell_type": "code",
<<<<<<< HEAD
   "execution_count": 19,
   "metadata": {},
   "outputs": [],
   "source": [
    "import tensorflow\n",
    "opt=tensorflow.keras.optimizers.Adam(learning_rate=0.0005)"
   ]
  },
  {
   "cell_type": "code",
   "execution_count": 20,
   "metadata": {},
   "outputs": [],
   "source": [
    "model.compile(optimizer=opt, loss='binary_crossentropy', metrics=['accuracy'])"
   ]
  },
  {
   "cell_type": "code",
   "execution_count": 85,
   "metadata": {},
   "outputs": [],
   "source": [
    "# Set up the Tensorboard\n",
    "from tensorflow.keras.callbacks import EarlyStopping,TensorBoard\n",
    "\n",
    "log_dir=\"logs/fit/\" + datetime.datetime.now().strftime(\"%Y%m%d-%H%M%S\")\n",
    "tensorflow_callback=TensorBoard(log_dir=log_dir,histogram_freq=1)"
   ]
  },
  {
   "cell_type": "code",
   "execution_count": 22,
   "metadata": {},
   "outputs": [],
   "source": [
    "## Set up Early Stopping\n",
    "early_stopping_callback=EarlyStopping(monitor='val_loss',patience=10,restore_best_weights=True)\n"
   ]
  },
  {
   "cell_type": "code",
   "execution_count": 23,
   "metadata": {},
   "outputs": [
    {
     "name": "stdout",
     "output_type": "stream",
     "text": [
      "Epoch 1/100\n",
      "\u001b[1m43/43\u001b[0m \u001b[32m━━━━━━━━━━━━━━━━━━━━\u001b[0m\u001b[37m\u001b[0m \u001b[1m4s\u001b[0m 23ms/step - accuracy: 0.7264 - loss: 0.6062 - val_accuracy: 0.7633 - val_loss: 0.5037\n",
      "Epoch 2/100\n",
      "\u001b[1m43/43\u001b[0m \u001b[32m━━━━━━━━━━━━━━━━━━━━\u001b[0m\u001b[37m\u001b[0m \u001b[1m0s\u001b[0m 10ms/step - accuracy: 0.7494 - loss: 0.4986 - val_accuracy: 0.8077 - val_loss: 0.4280\n",
      "Epoch 3/100\n",
      "\u001b[1m43/43\u001b[0m \u001b[32m━━━━━━━━━━━━━━━━━━━━\u001b[0m\u001b[37m\u001b[0m \u001b[1m0s\u001b[0m 9ms/step - accuracy: 0.7895 - loss: 0.4403 - val_accuracy: 0.8314 - val_loss: 0.3802\n",
      "Epoch 4/100\n",
      "\u001b[1m43/43\u001b[0m \u001b[32m━━━━━━━━━━━━━━━━━━━━\u001b[0m\u001b[37m\u001b[0m \u001b[1m1s\u001b[0m 11ms/step - accuracy: 0.8085 - loss: 0.4052 - val_accuracy: 0.8609 - val_loss: 0.3474\n",
      "Epoch 5/100\n",
      "\u001b[1m43/43\u001b[0m \u001b[32m━━━━━━━━━━━━━━━━━━━━\u001b[0m\u001b[37m\u001b[0m \u001b[1m1s\u001b[0m 11ms/step - accuracy: 0.8344 - loss: 0.3656 - val_accuracy: 0.8728 - val_loss: 0.3200\n",
      "Epoch 6/100\n",
      "\u001b[1m43/43\u001b[0m \u001b[32m━━━━━━━━━━━━━━━━━━━━\u001b[0m\u001b[37m\u001b[0m \u001b[1m1s\u001b[0m 12ms/step - accuracy: 0.8480 - loss: 0.3315 - val_accuracy: 0.8787 - val_loss: 0.2962\n",
      "Epoch 7/100\n",
      "\u001b[1m43/43\u001b[0m \u001b[32m━━━━━━━━━━━━━━━━━━━━\u001b[0m\u001b[37m\u001b[0m \u001b[1m0s\u001b[0m 10ms/step - accuracy: 0.8633 - loss: 0.3209 - val_accuracy: 0.8964 - val_loss: 0.2769\n",
      "Epoch 8/100\n",
      "\u001b[1m43/43\u001b[0m \u001b[32m━━━━━━━━━━━━━━━━━━━━\u001b[0m\u001b[37m\u001b[0m \u001b[1m0s\u001b[0m 10ms/step - accuracy: 0.8811 - loss: 0.2967 - val_accuracy: 0.9024 - val_loss: 0.2607\n",
      "Epoch 9/100\n",
      "\u001b[1m43/43\u001b[0m \u001b[32m━━━━━━━━━━━━━━━━━━━━\u001b[0m\u001b[37m\u001b[0m \u001b[1m0s\u001b[0m 9ms/step - accuracy: 0.8776 - loss: 0.2730 - val_accuracy: 0.9053 - val_loss: 0.2410\n",
      "Epoch 10/100\n",
      "\u001b[1m43/43\u001b[0m \u001b[32m━━━━━━━━━━━━━━━━━━━━\u001b[0m\u001b[37m\u001b[0m \u001b[1m0s\u001b[0m 8ms/step - accuracy: 0.8878 - loss: 0.2626 - val_accuracy: 0.9260 - val_loss: 0.2272\n",
      "Epoch 11/100\n",
      "\u001b[1m43/43\u001b[0m \u001b[32m━━━━━━━━━━━━━━━━━━━━\u001b[0m\u001b[37m\u001b[0m \u001b[1m0s\u001b[0m 8ms/step - accuracy: 0.8876 - loss: 0.2565 - val_accuracy: 0.9290 - val_loss: 0.2158\n",
      "Epoch 12/100\n",
      "\u001b[1m43/43\u001b[0m \u001b[32m━━━━━━━━━━━━━━━━━━━━\u001b[0m\u001b[37m\u001b[0m \u001b[1m0s\u001b[0m 6ms/step - accuracy: 0.8909 - loss: 0.2418 - val_accuracy: 0.9379 - val_loss: 0.2022\n",
      "Epoch 13/100\n",
      "\u001b[1m43/43\u001b[0m \u001b[32m━━━━━━━━━━━━━━━━━━━━\u001b[0m\u001b[37m\u001b[0m \u001b[1m0s\u001b[0m 7ms/step - accuracy: 0.9024 - loss: 0.2276 - val_accuracy: 0.9379 - val_loss: 0.1937\n",
      "Epoch 14/100\n",
      "\u001b[1m43/43\u001b[0m \u001b[32m━━━━━━━━━━━━━━━━━━━━\u001b[0m\u001b[37m\u001b[0m \u001b[1m0s\u001b[0m 6ms/step - accuracy: 0.9282 - loss: 0.1969 - val_accuracy: 0.9467 - val_loss: 0.1788\n",
      "Epoch 15/100\n",
      "\u001b[1m43/43\u001b[0m \u001b[32m━━━━━━━━━━━━━━━━━━━━\u001b[0m\u001b[37m\u001b[0m \u001b[1m0s\u001b[0m 7ms/step - accuracy: 0.9073 - loss: 0.2146 - val_accuracy: 0.9438 - val_loss: 0.1733\n",
      "Epoch 16/100\n",
      "\u001b[1m43/43\u001b[0m \u001b[32m━━━━━━━━━━━━━━━━━━━━\u001b[0m\u001b[37m\u001b[0m \u001b[1m0s\u001b[0m 8ms/step - accuracy: 0.9298 - loss: 0.1856 - val_accuracy: 0.9467 - val_loss: 0.1663\n",
      "Epoch 17/100\n",
      "\u001b[1m43/43\u001b[0m \u001b[32m━━━━━━━━━━━━━━━━━━━━\u001b[0m\u001b[37m\u001b[0m \u001b[1m0s\u001b[0m 7ms/step - accuracy: 0.9182 - loss: 0.1893 - val_accuracy: 0.9497 - val_loss: 0.1538\n",
      "Epoch 18/100\n",
      "\u001b[1m43/43\u001b[0m \u001b[32m━━━━━━━━━━━━━━━━━━━━\u001b[0m\u001b[37m\u001b[0m \u001b[1m0s\u001b[0m 7ms/step - accuracy: 0.9232 - loss: 0.1697 - val_accuracy: 0.9467 - val_loss: 0.1480\n",
      "Epoch 19/100\n",
      "\u001b[1m43/43\u001b[0m \u001b[32m━━━━━━━━━━━━━━━━━━━━\u001b[0m\u001b[37m\u001b[0m \u001b[1m0s\u001b[0m 6ms/step - accuracy: 0.9417 - loss: 0.1493 - val_accuracy: 0.9586 - val_loss: 0.1432\n",
      "Epoch 20/100\n",
      "\u001b[1m43/43\u001b[0m \u001b[32m━━━━━━━━━━━━━━━━━━━━\u001b[0m\u001b[37m\u001b[0m \u001b[1m0s\u001b[0m 7ms/step - accuracy: 0.9280 - loss: 0.1684 - val_accuracy: 0.9556 - val_loss: 0.1379\n",
      "Epoch 21/100\n",
      "\u001b[1m43/43\u001b[0m \u001b[32m━━━━━━━━━━━━━━━━━━━━\u001b[0m\u001b[37m\u001b[0m \u001b[1m0s\u001b[0m 6ms/step - accuracy: 0.9614 - loss: 0.1350 - val_accuracy: 0.9556 - val_loss: 0.1289\n",
      "Epoch 22/100\n",
      "\u001b[1m43/43\u001b[0m \u001b[32m━━━━━━━━━━━━━━━━━━━━\u001b[0m\u001b[37m\u001b[0m \u001b[1m0s\u001b[0m 5ms/step - accuracy: 0.9441 - loss: 0.1495 - val_accuracy: 0.9556 - val_loss: 0.1233\n",
      "Epoch 23/100\n",
      "\u001b[1m43/43\u001b[0m \u001b[32m━━━━━━━━━━━━━━━━━━━━\u001b[0m\u001b[37m\u001b[0m \u001b[1m0s\u001b[0m 7ms/step - accuracy: 0.9502 - loss: 0.1434 - val_accuracy: 0.9586 - val_loss: 0.1182\n",
      "Epoch 24/100\n",
      "\u001b[1m43/43\u001b[0m \u001b[32m━━━━━━━━━━━━━━━━━━━━\u001b[0m\u001b[37m\u001b[0m \u001b[1m0s\u001b[0m 7ms/step - accuracy: 0.9509 - loss: 0.1314 - val_accuracy: 0.9556 - val_loss: 0.1149\n",
      "Epoch 25/100\n",
      "\u001b[1m43/43\u001b[0m \u001b[32m━━━━━━━━━━━━━━━━━━━━\u001b[0m\u001b[37m\u001b[0m \u001b[1m0s\u001b[0m 6ms/step - accuracy: 0.9327 - loss: 0.1390 - val_accuracy: 0.9586 - val_loss: 0.1106\n",
      "Epoch 26/100\n",
      "\u001b[1m43/43\u001b[0m \u001b[32m━━━━━━━━━━━━━━━━━━━━\u001b[0m\u001b[37m\u001b[0m \u001b[1m0s\u001b[0m 9ms/step - accuracy: 0.9498 - loss: 0.1270 - val_accuracy: 0.9586 - val_loss: 0.1061\n",
      "Epoch 27/100\n",
      "\u001b[1m43/43\u001b[0m \u001b[32m━━━━━━━━━━━━━━━━━━━━\u001b[0m\u001b[37m\u001b[0m \u001b[1m0s\u001b[0m 7ms/step - accuracy: 0.9427 - loss: 0.1368 - val_accuracy: 0.9645 - val_loss: 0.1028\n",
      "Epoch 28/100\n",
      "\u001b[1m43/43\u001b[0m \u001b[32m━━━━━━━━━━━━━━━━━━━━\u001b[0m\u001b[37m\u001b[0m \u001b[1m0s\u001b[0m 7ms/step - accuracy: 0.9506 - loss: 0.1262 - val_accuracy: 0.9704 - val_loss: 0.1011\n",
      "Epoch 29/100\n",
      "\u001b[1m43/43\u001b[0m \u001b[32m━━━━━━━━━━━━━━━━━━━━\u001b[0m\u001b[37m\u001b[0m \u001b[1m0s\u001b[0m 7ms/step - accuracy: 0.9494 - loss: 0.1234 - val_accuracy: 0.9763 - val_loss: 0.0991\n",
      "Epoch 30/100\n",
      "\u001b[1m43/43\u001b[0m \u001b[32m━━━━━━━━━━━━━━━━━━━━\u001b[0m\u001b[37m\u001b[0m \u001b[1m0s\u001b[0m 7ms/step - accuracy: 0.9532 - loss: 0.1057 - val_accuracy: 0.9675 - val_loss: 0.0914\n",
      "Epoch 31/100\n",
      "\u001b[1m43/43\u001b[0m \u001b[32m━━━━━━━━━━━━━━━━━━━━\u001b[0m\u001b[37m\u001b[0m \u001b[1m0s\u001b[0m 8ms/step - accuracy: 0.9470 - loss: 0.1246 - val_accuracy: 0.9704 - val_loss: 0.0902\n",
      "Epoch 32/100\n",
      "\u001b[1m43/43\u001b[0m \u001b[32m━━━━━━━━━━━━━━━━━━━━\u001b[0m\u001b[37m\u001b[0m \u001b[1m0s\u001b[0m 7ms/step - accuracy: 0.9655 - loss: 0.0920 - val_accuracy: 0.9704 - val_loss: 0.0912\n",
      "Epoch 33/100\n",
      "\u001b[1m43/43\u001b[0m \u001b[32m━━━━━━━━━━━━━━━━━━━━\u001b[0m\u001b[37m\u001b[0m \u001b[1m0s\u001b[0m 8ms/step - accuracy: 0.9685 - loss: 0.0935 - val_accuracy: 0.9675 - val_loss: 0.0855\n",
      "Epoch 34/100\n",
      "\u001b[1m43/43\u001b[0m \u001b[32m━━━━━━━━━━━━━━━━━━━━\u001b[0m\u001b[37m\u001b[0m \u001b[1m0s\u001b[0m 7ms/step - accuracy: 0.9610 - loss: 0.1047 - val_accuracy: 0.9763 - val_loss: 0.0846\n",
      "Epoch 35/100\n",
      "\u001b[1m43/43\u001b[0m \u001b[32m━━━━━━━━━━━━━━━━━━━━\u001b[0m\u001b[37m\u001b[0m \u001b[1m0s\u001b[0m 6ms/step - accuracy: 0.9602 - loss: 0.1040 - val_accuracy: 0.9675 - val_loss: 0.0793\n",
      "Epoch 36/100\n",
      "\u001b[1m43/43\u001b[0m \u001b[32m━━━━━━━━━━━━━━━━━━━━\u001b[0m\u001b[37m\u001b[0m \u001b[1m0s\u001b[0m 7ms/step - accuracy: 0.9594 - loss: 0.1093 - val_accuracy: 0.9675 - val_loss: 0.0782\n",
      "Epoch 37/100\n",
      "\u001b[1m43/43\u001b[0m \u001b[32m━━━━━━━━━━━━━━━━━━━━\u001b[0m\u001b[37m\u001b[0m \u001b[1m0s\u001b[0m 7ms/step - accuracy: 0.9601 - loss: 0.0896 - val_accuracy: 0.9675 - val_loss: 0.0746\n",
      "Epoch 38/100\n",
      "\u001b[1m43/43\u001b[0m \u001b[32m━━━━━━━━━━━━━━━━━━━━\u001b[0m\u001b[37m\u001b[0m \u001b[1m0s\u001b[0m 7ms/step - accuracy: 0.9734 - loss: 0.0777 - val_accuracy: 0.9704 - val_loss: 0.0734\n",
      "Epoch 39/100\n",
      "\u001b[1m43/43\u001b[0m \u001b[32m━━━━━━━━━━━━━━━━━━━━\u001b[0m\u001b[37m\u001b[0m \u001b[1m0s\u001b[0m 7ms/step - accuracy: 0.9693 - loss: 0.0940 - val_accuracy: 0.9763 - val_loss: 0.0726\n",
      "Epoch 40/100\n",
      "\u001b[1m43/43\u001b[0m \u001b[32m━━━━━━━━━━━━━━━━━━━━\u001b[0m\u001b[37m\u001b[0m \u001b[1m0s\u001b[0m 7ms/step - accuracy: 0.9577 - loss: 0.1036 - val_accuracy: 0.9822 - val_loss: 0.0721\n",
      "Epoch 41/100\n",
      "\u001b[1m43/43\u001b[0m \u001b[32m━━━━━━━━━━━━━━━━━━━━\u001b[0m\u001b[37m\u001b[0m \u001b[1m0s\u001b[0m 7ms/step - accuracy: 0.9841 - loss: 0.0775 - val_accuracy: 0.9763 - val_loss: 0.0689\n",
      "Epoch 42/100\n",
      "\u001b[1m43/43\u001b[0m \u001b[32m━━━━━━━━━━━━━━━━━━━━\u001b[0m\u001b[37m\u001b[0m \u001b[1m0s\u001b[0m 7ms/step - accuracy: 0.9698 - loss: 0.0863 - val_accuracy: 0.9822 - val_loss: 0.0667\n",
      "Epoch 43/100\n",
      "\u001b[1m43/43\u001b[0m \u001b[32m━━━━━━━━━━━━━━━━━━━━\u001b[0m\u001b[37m\u001b[0m \u001b[1m0s\u001b[0m 7ms/step - accuracy: 0.9789 - loss: 0.0716 - val_accuracy: 0.9763 - val_loss: 0.0653\n",
      "Epoch 44/100\n",
      "\u001b[1m43/43\u001b[0m \u001b[32m━━━━━━━━━━━━━━━━━━━━\u001b[0m\u001b[37m\u001b[0m \u001b[1m0s\u001b[0m 8ms/step - accuracy: 0.9729 - loss: 0.0750 - val_accuracy: 0.9763 - val_loss: 0.0633\n",
      "Epoch 45/100\n",
      "\u001b[1m43/43\u001b[0m \u001b[32m━━━━━━━━━━━━━━━━━━━━\u001b[0m\u001b[37m\u001b[0m \u001b[1m0s\u001b[0m 9ms/step - accuracy: 0.9675 - loss: 0.0838 - val_accuracy: 0.9822 - val_loss: 0.0631\n",
      "Epoch 46/100\n",
      "\u001b[1m43/43\u001b[0m \u001b[32m━━━━━━━━━━━━━━━━━━━━\u001b[0m\u001b[37m\u001b[0m \u001b[1m0s\u001b[0m 8ms/step - accuracy: 0.9695 - loss: 0.0768 - val_accuracy: 0.9763 - val_loss: 0.0630\n",
      "Epoch 47/100\n",
      "\u001b[1m43/43\u001b[0m \u001b[32m━━━━━━━━━━━━━━━━━━━━\u001b[0m\u001b[37m\u001b[0m \u001b[1m0s\u001b[0m 8ms/step - accuracy: 0.9673 - loss: 0.0794 - val_accuracy: 0.9822 - val_loss: 0.0598\n",
      "Epoch 48/100\n",
      "\u001b[1m43/43\u001b[0m \u001b[32m━━━━━━━━━━━━━━━━━━━━\u001b[0m\u001b[37m\u001b[0m \u001b[1m0s\u001b[0m 9ms/step - accuracy: 0.9778 - loss: 0.0635 - val_accuracy: 0.9793 - val_loss: 0.0575\n",
      "Epoch 49/100\n",
      "\u001b[1m43/43\u001b[0m \u001b[32m━━━━━━━━━━━━━━━━━━━━\u001b[0m\u001b[37m\u001b[0m \u001b[1m0s\u001b[0m 8ms/step - accuracy: 0.9677 - loss: 0.0706 - val_accuracy: 0.9793 - val_loss: 0.0572\n",
      "Epoch 50/100\n",
      "\u001b[1m43/43\u001b[0m \u001b[32m━━━━━━━━━━━━━━━━━━━━\u001b[0m\u001b[37m\u001b[0m \u001b[1m0s\u001b[0m 9ms/step - accuracy: 0.9732 - loss: 0.0709 - val_accuracy: 0.9793 - val_loss: 0.0546\n",
      "Epoch 51/100\n",
      "\u001b[1m43/43\u001b[0m \u001b[32m━━━━━━━━━━━━━━━━━━━━\u001b[0m\u001b[37m\u001b[0m \u001b[1m0s\u001b[0m 8ms/step - accuracy: 0.9789 - loss: 0.0602 - val_accuracy: 0.9734 - val_loss: 0.0555\n",
      "Epoch 52/100\n",
      "\u001b[1m43/43\u001b[0m \u001b[32m━━━━━━━━━━━━━━━━━━━━\u001b[0m\u001b[37m\u001b[0m \u001b[1m0s\u001b[0m 8ms/step - accuracy: 0.9737 - loss: 0.0661 - val_accuracy: 0.9852 - val_loss: 0.0530\n",
      "Epoch 53/100\n",
      "\u001b[1m43/43\u001b[0m \u001b[32m━━━━━━━━━━━━━━━━━━━━\u001b[0m\u001b[37m\u001b[0m \u001b[1m0s\u001b[0m 9ms/step - accuracy: 0.9809 - loss: 0.0573 - val_accuracy: 0.9763 - val_loss: 0.0541\n",
      "Epoch 54/100\n",
      "\u001b[1m43/43\u001b[0m \u001b[32m━━━━━━━━━━━━━━━━━━━━\u001b[0m\u001b[37m\u001b[0m \u001b[1m0s\u001b[0m 7ms/step - accuracy: 0.9889 - loss: 0.0503 - val_accuracy: 0.9822 - val_loss: 0.0503\n",
      "Epoch 55/100\n",
      "\u001b[1m43/43\u001b[0m \u001b[32m━━━━━━━━━━━━━━━━━━━━\u001b[0m\u001b[37m\u001b[0m \u001b[1m0s\u001b[0m 7ms/step - accuracy: 0.9793 - loss: 0.0629 - val_accuracy: 0.9822 - val_loss: 0.0500\n",
      "Epoch 56/100\n",
      "\u001b[1m43/43\u001b[0m \u001b[32m━━━━━━━━━━━━━━━━━━━━\u001b[0m\u001b[37m\u001b[0m \u001b[1m0s\u001b[0m 7ms/step - accuracy: 0.9764 - loss: 0.0648 - val_accuracy: 0.9822 - val_loss: 0.0500\n",
      "Epoch 57/100\n",
      "\u001b[1m43/43\u001b[0m \u001b[32m━━━━━━━━━━━━━━━━━━━━\u001b[0m\u001b[37m\u001b[0m \u001b[1m0s\u001b[0m 6ms/step - accuracy: 0.9844 - loss: 0.0517 - val_accuracy: 0.9822 - val_loss: 0.0503\n",
      "Epoch 58/100\n",
      "\u001b[1m43/43\u001b[0m \u001b[32m━━━━━━━━━━━━━━━━━━━━\u001b[0m\u001b[37m\u001b[0m \u001b[1m0s\u001b[0m 6ms/step - accuracy: 0.9688 - loss: 0.0673 - val_accuracy: 0.9852 - val_loss: 0.0500\n",
      "Epoch 59/100\n",
      "\u001b[1m43/43\u001b[0m \u001b[32m━━━━━━━━━━━━━━━━━━━━\u001b[0m\u001b[37m\u001b[0m \u001b[1m0s\u001b[0m 6ms/step - accuracy: 0.9804 - loss: 0.0524 - val_accuracy: 0.9822 - val_loss: 0.0498\n",
      "Epoch 60/100\n",
      "\u001b[1m43/43\u001b[0m \u001b[32m━━━━━━━━━━━━━━━━━━━━\u001b[0m\u001b[37m\u001b[0m \u001b[1m0s\u001b[0m 6ms/step - accuracy: 0.9797 - loss: 0.0557 - val_accuracy: 0.9852 - val_loss: 0.0474\n",
      "Epoch 61/100\n",
      "\u001b[1m43/43\u001b[0m \u001b[32m━━━━━━━━━━━━━━━━━━━━\u001b[0m\u001b[37m\u001b[0m \u001b[1m0s\u001b[0m 6ms/step - accuracy: 0.9787 - loss: 0.0494 - val_accuracy: 0.9852 - val_loss: 0.0460\n",
      "Epoch 62/100\n",
      "\u001b[1m43/43\u001b[0m \u001b[32m━━━━━━━━━━━━━━━━━━━━\u001b[0m\u001b[37m\u001b[0m \u001b[1m0s\u001b[0m 6ms/step - accuracy: 0.9863 - loss: 0.0511 - val_accuracy: 0.9822 - val_loss: 0.0450\n",
      "Epoch 63/100\n",
      "\u001b[1m43/43\u001b[0m \u001b[32m━━━━━━━━━━━━━━━━━━━━\u001b[0m\u001b[37m\u001b[0m \u001b[1m0s\u001b[0m 6ms/step - accuracy: 0.9684 - loss: 0.0577 - val_accuracy: 0.9852 - val_loss: 0.0430\n",
      "Epoch 64/100\n",
      "\u001b[1m43/43\u001b[0m \u001b[32m━━━━━━━━━━━━━━━━━━━━\u001b[0m\u001b[37m\u001b[0m \u001b[1m0s\u001b[0m 6ms/step - accuracy: 0.9853 - loss: 0.0408 - val_accuracy: 0.9852 - val_loss: 0.0430\n",
      "Epoch 65/100\n",
      "\u001b[1m43/43\u001b[0m \u001b[32m━━━━━━━━━━━━━━━━━━━━\u001b[0m\u001b[37m\u001b[0m \u001b[1m0s\u001b[0m 7ms/step - accuracy: 0.9819 - loss: 0.0511 - val_accuracy: 0.9882 - val_loss: 0.0427\n",
      "Epoch 66/100\n",
      "\u001b[1m43/43\u001b[0m \u001b[32m━━━━━━━━━━━━━━━━━━━━\u001b[0m\u001b[37m\u001b[0m \u001b[1m0s\u001b[0m 6ms/step - accuracy: 0.9752 - loss: 0.0555 - val_accuracy: 0.9822 - val_loss: 0.0436\n",
      "Epoch 67/100\n",
      "\u001b[1m43/43\u001b[0m \u001b[32m━━━━━━━━━━━━━━━━━━━━\u001b[0m\u001b[37m\u001b[0m \u001b[1m0s\u001b[0m 6ms/step - accuracy: 0.9779 - loss: 0.0478 - val_accuracy: 0.9852 - val_loss: 0.0452\n",
      "Epoch 68/100\n",
      "\u001b[1m43/43\u001b[0m \u001b[32m━━━━━━━━━━━━━━━━━━━━\u001b[0m\u001b[37m\u001b[0m \u001b[1m0s\u001b[0m 6ms/step - accuracy: 0.9817 - loss: 0.0484 - val_accuracy: 0.9882 - val_loss: 0.0421\n",
      "Epoch 69/100\n",
      "\u001b[1m43/43\u001b[0m \u001b[32m━━━━━━━━━━━━━━━━━━━━\u001b[0m\u001b[37m\u001b[0m \u001b[1m0s\u001b[0m 6ms/step - accuracy: 0.9827 - loss: 0.0455 - val_accuracy: 0.9793 - val_loss: 0.0430\n",
      "Epoch 70/100\n",
      "\u001b[1m43/43\u001b[0m \u001b[32m━━━━━━━━━━━━━━━━━━━━\u001b[0m\u001b[37m\u001b[0m \u001b[1m0s\u001b[0m 6ms/step - accuracy: 0.9816 - loss: 0.0509 - val_accuracy: 0.9852 - val_loss: 0.0398\n",
      "Epoch 71/100\n",
      "\u001b[1m43/43\u001b[0m \u001b[32m━━━━━━━━━━━━━━━━━━━━\u001b[0m\u001b[37m\u001b[0m \u001b[1m0s\u001b[0m 6ms/step - accuracy: 0.9879 - loss: 0.0429 - val_accuracy: 0.9822 - val_loss: 0.0421\n",
      "Epoch 72/100\n",
      "\u001b[1m43/43\u001b[0m \u001b[32m━━━━━━━━━━━━━━━━━━━━\u001b[0m\u001b[37m\u001b[0m \u001b[1m0s\u001b[0m 6ms/step - accuracy: 0.9766 - loss: 0.0467 - val_accuracy: 0.9822 - val_loss: 0.0437\n",
      "Epoch 73/100\n",
      "\u001b[1m43/43\u001b[0m \u001b[32m━━━━━━━━━━━━━━━━━━━━\u001b[0m\u001b[37m\u001b[0m \u001b[1m0s\u001b[0m 7ms/step - accuracy: 0.9807 - loss: 0.0446 - val_accuracy: 0.9793 - val_loss: 0.0412\n",
      "Epoch 74/100\n",
      "\u001b[1m43/43\u001b[0m \u001b[32m━━━━━━━━━━━━━━━━━━━━\u001b[0m\u001b[37m\u001b[0m \u001b[1m0s\u001b[0m 6ms/step - accuracy: 0.9844 - loss: 0.0463 - val_accuracy: 0.9911 - val_loss: 0.0370\n",
      "Epoch 75/100\n",
      "\u001b[1m43/43\u001b[0m \u001b[32m━━━━━━━━━━━━━━━━━━━━\u001b[0m\u001b[37m\u001b[0m \u001b[1m0s\u001b[0m 7ms/step - accuracy: 0.9837 - loss: 0.0433 - val_accuracy: 0.9882 - val_loss: 0.0367\n",
      "Epoch 76/100\n",
      "\u001b[1m43/43\u001b[0m \u001b[32m━━━━━━━━━━━━━━━━━━━━\u001b[0m\u001b[37m\u001b[0m \u001b[1m0s\u001b[0m 6ms/step - accuracy: 0.9900 - loss: 0.0407 - val_accuracy: 0.9822 - val_loss: 0.0374\n",
      "Epoch 77/100\n",
      "\u001b[1m43/43\u001b[0m \u001b[32m━━━━━━━━━━━━━━━━━━━━\u001b[0m\u001b[37m\u001b[0m \u001b[1m0s\u001b[0m 7ms/step - accuracy: 0.9889 - loss: 0.0349 - val_accuracy: 0.9941 - val_loss: 0.0349\n",
      "Epoch 78/100\n",
      "\u001b[1m43/43\u001b[0m \u001b[32m━━━━━━━━━━━━━━━━━━━━\u001b[0m\u001b[37m\u001b[0m \u001b[1m0s\u001b[0m 8ms/step - accuracy: 0.9840 - loss: 0.0442 - val_accuracy: 0.9941 - val_loss: 0.0345\n",
      "Epoch 79/100\n",
      "\u001b[1m43/43\u001b[0m \u001b[32m━━━━━━━━━━━━━━━━━━━━\u001b[0m\u001b[37m\u001b[0m \u001b[1m0s\u001b[0m 7ms/step - accuracy: 0.9839 - loss: 0.0447 - val_accuracy: 0.9941 - val_loss: 0.0332\n",
      "Epoch 80/100\n",
      "\u001b[1m43/43\u001b[0m \u001b[32m━━━━━━━━━━━━━━━━━━━━\u001b[0m\u001b[37m\u001b[0m \u001b[1m0s\u001b[0m 7ms/step - accuracy: 0.9842 - loss: 0.0399 - val_accuracy: 0.9941 - val_loss: 0.0328\n",
      "Epoch 81/100\n",
      "\u001b[1m43/43\u001b[0m \u001b[32m━━━━━━━━━━━━━━━━━━━━\u001b[0m\u001b[37m\u001b[0m \u001b[1m0s\u001b[0m 7ms/step - accuracy: 0.9896 - loss: 0.0322 - val_accuracy: 0.9882 - val_loss: 0.0357\n",
      "Epoch 82/100\n",
      "\u001b[1m43/43\u001b[0m \u001b[32m━━━━━━━━━━━━━━━━━━━━\u001b[0m\u001b[37m\u001b[0m \u001b[1m0s\u001b[0m 6ms/step - accuracy: 0.9834 - loss: 0.0420 - val_accuracy: 0.9941 - val_loss: 0.0329\n",
      "Epoch 83/100\n",
      "\u001b[1m43/43\u001b[0m \u001b[32m━━━━━━━━━━━━━━━━━━━━\u001b[0m\u001b[37m\u001b[0m \u001b[1m0s\u001b[0m 6ms/step - accuracy: 0.9969 - loss: 0.0252 - val_accuracy: 0.9911 - val_loss: 0.0329\n",
      "Epoch 84/100\n",
      "\u001b[1m43/43\u001b[0m \u001b[32m━━━━━━━━━━━━━━━━━━━━\u001b[0m\u001b[37m\u001b[0m \u001b[1m0s\u001b[0m 6ms/step - accuracy: 0.9915 - loss: 0.0309 - val_accuracy: 0.9882 - val_loss: 0.0327\n",
      "Epoch 85/100\n",
      "\u001b[1m43/43\u001b[0m \u001b[32m━━━━━━━━━━━━━━━━━━━━\u001b[0m\u001b[37m\u001b[0m \u001b[1m0s\u001b[0m 6ms/step - accuracy: 0.9872 - loss: 0.0363 - val_accuracy: 0.9911 - val_loss: 0.0330\n",
      "Epoch 86/100\n",
      "\u001b[1m43/43\u001b[0m \u001b[32m━━━━━━━━━━━━━━━━━━━━\u001b[0m\u001b[37m\u001b[0m \u001b[1m0s\u001b[0m 6ms/step - accuracy: 0.9893 - loss: 0.0317 - val_accuracy: 0.9941 - val_loss: 0.0324\n",
      "Epoch 87/100\n",
      "\u001b[1m43/43\u001b[0m \u001b[32m━━━━━━━━━━━━━━━━━━━━\u001b[0m\u001b[37m\u001b[0m \u001b[1m0s\u001b[0m 6ms/step - accuracy: 0.9868 - loss: 0.0399 - val_accuracy: 0.9911 - val_loss: 0.0327\n",
      "Epoch 88/100\n",
      "\u001b[1m43/43\u001b[0m \u001b[32m━━━━━━━━━━━━━━━━━━━━\u001b[0m\u001b[37m\u001b[0m \u001b[1m0s\u001b[0m 6ms/step - accuracy: 0.9912 - loss: 0.0379 - val_accuracy: 0.9911 - val_loss: 0.0316\n",
      "Epoch 89/100\n",
      "\u001b[1m43/43\u001b[0m \u001b[32m━━━━━━━━━━━━━━━━━━━━\u001b[0m\u001b[37m\u001b[0m \u001b[1m0s\u001b[0m 7ms/step - accuracy: 0.9912 - loss: 0.0333 - val_accuracy: 0.9911 - val_loss: 0.0318\n",
      "Epoch 90/100\n",
      "\u001b[1m43/43\u001b[0m \u001b[32m━━━━━━━━━━━━━━━━━━━━\u001b[0m\u001b[37m\u001b[0m \u001b[1m0s\u001b[0m 8ms/step - accuracy: 0.9868 - loss: 0.0359 - val_accuracy: 0.9911 - val_loss: 0.0316\n",
      "Epoch 91/100\n",
      "\u001b[1m43/43\u001b[0m \u001b[32m━━━━━━━━━━━━━━━━━━━━\u001b[0m\u001b[37m\u001b[0m \u001b[1m0s\u001b[0m 8ms/step - accuracy: 0.9962 - loss: 0.0232 - val_accuracy: 0.9911 - val_loss: 0.0309\n",
      "Epoch 92/100\n",
      "\u001b[1m43/43\u001b[0m \u001b[32m━━━━━━━━━━━━━━━━━━━━\u001b[0m\u001b[37m\u001b[0m \u001b[1m0s\u001b[0m 9ms/step - accuracy: 0.9954 - loss: 0.0219 - val_accuracy: 0.9911 - val_loss: 0.0314\n",
      "Epoch 93/100\n",
      "\u001b[1m43/43\u001b[0m \u001b[32m━━━━━━━━━━━━━━━━━━━━\u001b[0m\u001b[37m\u001b[0m \u001b[1m0s\u001b[0m 9ms/step - accuracy: 0.9875 - loss: 0.0387 - val_accuracy: 0.9941 - val_loss: 0.0298\n",
      "Epoch 94/100\n",
      "\u001b[1m43/43\u001b[0m \u001b[32m━━━━━━━━━━━━━━━━━━━━\u001b[0m\u001b[37m\u001b[0m \u001b[1m0s\u001b[0m 7ms/step - accuracy: 0.9890 - loss: 0.0333 - val_accuracy: 0.9882 - val_loss: 0.0301\n",
      "Epoch 95/100\n",
      "\u001b[1m43/43\u001b[0m \u001b[32m━━━━━━━━━━━━━━━━━━━━\u001b[0m\u001b[37m\u001b[0m \u001b[1m0s\u001b[0m 7ms/step - accuracy: 0.9920 - loss: 0.0279 - val_accuracy: 0.9941 - val_loss: 0.0278\n",
      "Epoch 96/100\n",
      "\u001b[1m43/43\u001b[0m \u001b[32m━━━━━━━━━━━━━━━━━━━━\u001b[0m\u001b[37m\u001b[0m \u001b[1m1s\u001b[0m 11ms/step - accuracy: 0.9927 - loss: 0.0323 - val_accuracy: 0.9941 - val_loss: 0.0274\n",
      "Epoch 97/100\n",
      "\u001b[1m43/43\u001b[0m \u001b[32m━━━━━━━━━━━━━━━━━━━━\u001b[0m\u001b[37m\u001b[0m \u001b[1m0s\u001b[0m 7ms/step - accuracy: 0.9886 - loss: 0.0367 - val_accuracy: 0.9911 - val_loss: 0.0289\n",
      "Epoch 98/100\n",
      "\u001b[1m43/43\u001b[0m \u001b[32m━━━━━━━━━━━━━━━━━━━━\u001b[0m\u001b[37m\u001b[0m \u001b[1m0s\u001b[0m 7ms/step - accuracy: 0.9873 - loss: 0.0282 - val_accuracy: 0.9882 - val_loss: 0.0305\n",
      "Epoch 99/100\n",
      "\u001b[1m43/43\u001b[0m \u001b[32m━━━━━━━━━━━━━━━━━━━━\u001b[0m\u001b[37m\u001b[0m \u001b[1m0s\u001b[0m 7ms/step - accuracy: 0.9933 - loss: 0.0252 - val_accuracy: 0.9882 - val_loss: 0.0266\n",
      "Epoch 100/100\n",
      "\u001b[1m43/43\u001b[0m \u001b[32m━━━━━━━━━━━━━━━━━━━━\u001b[0m\u001b[37m\u001b[0m \u001b[1m0s\u001b[0m 6ms/step - accuracy: 0.9887 - loss: 0.0333 - val_accuracy: 0.9941 - val_loss: 0.0270\n"
     ]
    }
   ],
   "source": [
    "### Train the model\n",
    "history=model.fit(\n",
    "    X_train,y_train,validation_data=(X_test,y_test),epochs=100,\n",
    "    callbacks=[tensorflow_callback,early_stopping_callback]\n",
    ")"
   ]
  },
  {
   "cell_type": "code",
   "execution_count": 24,
   "metadata": {},
   "outputs": [
    {
     "data": {
      "image/png": "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",
      "text/plain": [
       "<Figure size 640x480 with 1 Axes>"
      ]
     },
     "metadata": {},
     "output_type": "display_data"
    }
   ],
   "source": [
    "import matplotlib.pyplot as plt\n",
    "\n",
    "# Plot loss\n",
    "plt.plot(history.history['loss'], label='Training Loss')\n",
    "plt.plot(history.history['val_loss'], label='Validation Loss')\n",
    "plt.title('Training and Validation Loss')\n",
    "plt.xlabel('Epochs')\n",
    "plt.ylabel('Loss')\n",
    "plt.legend()\n",
    "plt.show()"
   ]
  },
  {
   "cell_type": "code",
   "execution_count": 25,
   "metadata": {},
   "outputs": [
    {
     "name": "stderr",
     "output_type": "stream",
     "text": [
      "WARNING:absl:You are saving your model as an HDF5 file via `model.save()` or `keras.saving.save_model(model)`. This file format is considered legacy. We recommend using instead the native Keras format, e.g. `model.save('my_model.keras')` or `keras.saving.save_model(model, 'my_model.keras')`. \n"
     ]
    }
   ],
   "source": [
    "model.save('model.h5')"
   ]
  },
  {
   "cell_type": "code",
   "execution_count": 26,
   "metadata": {},
   "outputs": [],
   "source": [
    "## Load Tensorboard Extension\n",
    "%load_ext tensorboard"
   ]
  },
  {
   "cell_type": "code",
   "execution_count": 84,
   "metadata": {},
   "outputs": [
    {
     "data": {
      "text/plain": [
       "Reusing TensorBoard on port 6006 (pid 18896), started 4:10:58 ago. (Use '!kill 18896' to kill it.)"
      ]
     },
     "metadata": {},
     "output_type": "display_data"
    },
    {
     "data": {
      "text/html": [
       "\n",
       "      <iframe id=\"tensorboard-frame-658cb59273b641fe\" width=\"100%\" height=\"800\" frameborder=\"0\">\n",
       "      </iframe>\n",
       "      <script>\n",
       "        (function() {\n",
       "          const frame = document.getElementById(\"tensorboard-frame-658cb59273b641fe\");\n",
       "          const url = new URL(\"http://localhost\");\n",
       "          const port = 6006;\n",
       "          if (port) {\n",
       "            url.port = port;\n",
       "          }\n",
       "          frame.src = url;\n",
       "        })();\n",
       "      </script>\n",
       "    "
      ],
      "text/plain": [
       "<IPython.core.display.HTML object>"
      ]
     },
     "metadata": {},
     "output_type": "display_data"
    }
   ],
   "source": [
    "%tensorboard --logdir logs/fit"
=======
   "execution_count": 13,
   "metadata": {},
   "outputs": [],
   "source": [
    "model.compile(optimizer='adam', loss='binary_crossentropy', metrics=['accuracy'])"
>>>>>>> 3a9edb88 (Initial commit)
   ]
  },
  {
   "cell_type": "markdown",
   "metadata": {},
   "source": []
  },
  {
   "cell_type": "markdown",
   "metadata": {},
   "source": [
<<<<<<< HEAD
    "# improve the ANN model"
   ]
  },
  {
   "cell_type": "code",
   "execution_count": 63,
   "metadata": {},
   "outputs": [
    {
     "name": "stderr",
     "output_type": "stream",
     "text": [
      "c:\\Users\\nkn05\\OneDrive\\Desktop\\DL_proj\\.venv\\lib\\site-packages\\keras\\src\\layers\\core\\dense.py:87: UserWarning: Do not pass an `input_shape`/`input_dim` argument to a layer. When using Sequential models, prefer using an `Input(shape)` object as the first layer in the model instead.\n",
      "  super().__init__(activity_regularizer=activity_regularizer, **kwargs)\n"
     ]
    }
   ],
   "source": [
    "from tensorflow.keras.regularizers import l2\n",
    "\n",
    "model = tf.keras.Sequential([\n",
    "    tf.keras.layers.Dense(128, activation='relu', kernel_regularizer=l2(0.01), input_shape=(X_train.shape[1],)),\n",
    "    tf.keras.layers.Dense(64, activation='relu', kernel_regularizer=l2(0.01)),\n",
    "    tf.keras.layers.Dense(1, activation='sigmoid')\n",
    "])\n"
   ]
  },
  {
   "cell_type": "code",
   "execution_count": 70,
   "metadata": {},
   "outputs": [],
   "source": [
    "opt = tf.keras.optimizers.Adam(learning_rate=0.001)"
   ]
  },
  {
   "cell_type": "code",
   "execution_count": 71,
   "metadata": {},
   "outputs": [],
   "source": [
    "model.compile(optimizer=opt, loss='binary_crossentropy', metrics=['accuracy'])"
=======
    "# Train the ANN model"
>>>>>>> 3a9edb88 (Initial commit)
   ]
  },
  {
   "cell_type": "markdown",
   "metadata": {},
   "source": [
    "Smote to handle imbalanced datset"
   ]
  },
  {
   "cell_type": "code",
<<<<<<< HEAD
   "execution_count": 72,
=======
   "execution_count": 14,
>>>>>>> 3a9edb88 (Initial commit)
   "metadata": {},
   "outputs": [
    {
     "name": "stdout",
     "output_type": "stream",
     "text": [
<<<<<<< HEAD
      "Class distribution after SMOTE: Counter({1: 981, 0: 981})\n"
     ]
=======
      "Class distribution after SMOTE: Counter({1: 981, 0: 981})\n",
      "\u001b[1m62/62\u001b[0m \u001b[32m━━━━━━━━━━━━━━━━━━━━\u001b[0m\u001b[37m\u001b[0m \u001b[1m2s\u001b[0m 3ms/step - accuracy: 0.6368 - loss: 0.6247\n"
     ]
    },
    {
     "data": {
      "text/plain": [
       "<keras.src.callbacks.history.History at 0x2053ff04070>"
      ]
     },
     "execution_count": 14,
     "metadata": {},
     "output_type": "execute_result"
>>>>>>> 3a9edb88 (Initial commit)
    }
   ],
   "source": [
    "from imblearn.over_sampling import SMOTE\n",
    "from collections import Counter\n",
    "\n",
    "smote = SMOTE(sampling_strategy='auto', random_state=42)\n",
    "X_train_resampled, y_train_resampled = smote.fit_resample(X_train, y_train)\n",
    "\n",
    "print(\"Class distribution after SMOTE:\", Counter(y_train_resampled))\n",
<<<<<<< HEAD
    "\n"
   ]
  },
  {
   "cell_type": "code",
   "execution_count": 73,
   "metadata": {},
   "outputs": [],
   "source": [
    "## Set up Early Stopping\n",
    "early_stopping_callback=EarlyStopping(monitor='val_loss',patience=10,restore_best_weights=True)\n",
    "\n",
    "\n"
=======
    "\n",
    "# Train model with balanced data\n",
    "model.fit(X_train_resampled, y_train_resampled)\n"
   ]
  },
  {
   "cell_type": "markdown",
   "metadata": {},
   "source": [
    "Train the Model:"
>>>>>>> 3a9edb88 (Initial commit)
   ]
  },
  {
   "cell_type": "code",
<<<<<<< HEAD
   "execution_count": 74,
=======
   "execution_count": 15,
>>>>>>> 3a9edb88 (Initial commit)
   "metadata": {},
   "outputs": [
    {
     "name": "stdout",
     "output_type": "stream",
     "text": [
      "Epoch 1/50\n",
<<<<<<< HEAD
      "\u001b[1m62/62\u001b[0m \u001b[32m━━━━━━━━━━━━━━━━━━━━\u001b[0m\u001b[37m\u001b[0m \u001b[1m1s\u001b[0m 8ms/step - accuracy: 0.7481 - loss: 1.4357 - val_accuracy: 0.8432 - val_loss: 0.8727\n",
      "Epoch 2/50\n",
      "\u001b[1m62/62\u001b[0m \u001b[32m━━━━━━━━━━━━━━━━━━━━\u001b[0m\u001b[37m\u001b[0m \u001b[1m0s\u001b[0m 4ms/step - accuracy: 0.8754 - loss: 0.7810 - val_accuracy: 0.8935 - val_loss: 0.5503\n",
      "Epoch 3/50\n",
      "\u001b[1m62/62\u001b[0m \u001b[32m━━━━━━━━━━━━━━━━━━━━\u001b[0m\u001b[37m\u001b[0m \u001b[1m0s\u001b[0m 5ms/step - accuracy: 0.9079 - loss: 0.5021 - val_accuracy: 0.9112 - val_loss: 0.3914\n",
      "Epoch 4/50\n",
      "\u001b[1m62/62\u001b[0m \u001b[32m━━━━━━━━━━━━━━━━━━━━\u001b[0m\u001b[37m\u001b[0m \u001b[1m0s\u001b[0m 5ms/step - accuracy: 0.9443 - loss: 0.3662 - val_accuracy: 0.9231 - val_loss: 0.3198\n",
      "Epoch 5/50\n",
      "\u001b[1m62/62\u001b[0m \u001b[32m━━━━━━━━━━━━━━━━━━━━\u001b[0m\u001b[37m\u001b[0m \u001b[1m0s\u001b[0m 4ms/step - accuracy: 0.9447 - loss: 0.3055 - val_accuracy: 0.9497 - val_loss: 0.2718\n",
      "Epoch 6/50\n",
      "\u001b[1m62/62\u001b[0m \u001b[32m━━━━━━━━━━━━━━━━━━━━\u001b[0m\u001b[37m\u001b[0m \u001b[1m0s\u001b[0m 4ms/step - accuracy: 0.9570 - loss: 0.2635 - val_accuracy: 0.9675 - val_loss: 0.2348\n",
      "Epoch 7/50\n",
      "\u001b[1m62/62\u001b[0m \u001b[32m━━━━━━━━━━━━━━━━━━━━\u001b[0m\u001b[37m\u001b[0m \u001b[1m1s\u001b[0m 8ms/step - accuracy: 0.9621 - loss: 0.2408 - val_accuracy: 0.9793 - val_loss: 0.2160\n",
      "Epoch 8/50\n",
      "\u001b[1m62/62\u001b[0m \u001b[32m━━━━━━━━━━━━━━━━━━━━\u001b[0m\u001b[37m\u001b[0m \u001b[1m0s\u001b[0m 6ms/step - accuracy: 0.9745 - loss: 0.2339 - val_accuracy: 0.9675 - val_loss: 0.2101\n",
      "Epoch 9/50\n",
      "\u001b[1m62/62\u001b[0m \u001b[32m━━━━━━━━━━━━━━━━━━━━\u001b[0m\u001b[37m\u001b[0m \u001b[1m0s\u001b[0m 5ms/step - accuracy: 0.9687 - loss: 0.2110 - val_accuracy: 0.9467 - val_loss: 0.2196\n",
      "Epoch 10/50\n",
      "\u001b[1m62/62\u001b[0m \u001b[32m━━━━━━━━━━━━━━━━━━━━\u001b[0m\u001b[37m\u001b[0m \u001b[1m0s\u001b[0m 6ms/step - accuracy: 0.9626 - loss: 0.2052 - val_accuracy: 0.9793 - val_loss: 0.1883\n",
      "Epoch 11/50\n",
      "\u001b[1m62/62\u001b[0m \u001b[32m━━━━━━━━━━━━━━━━━━━━\u001b[0m\u001b[37m\u001b[0m \u001b[1m0s\u001b[0m 6ms/step - accuracy: 0.9731 - loss: 0.1939 - val_accuracy: 0.9852 - val_loss: 0.1770\n",
      "Epoch 12/50\n",
      "\u001b[1m62/62\u001b[0m \u001b[32m━━━━━━━━━━━━━━━━━━━━\u001b[0m\u001b[37m\u001b[0m \u001b[1m0s\u001b[0m 5ms/step - accuracy: 0.9845 - loss: 0.1762 - val_accuracy: 0.9882 - val_loss: 0.1710\n",
      "Epoch 13/50\n",
      "\u001b[1m62/62\u001b[0m \u001b[32m━━━━━━━━━━━━━━━━━━━━\u001b[0m\u001b[37m\u001b[0m \u001b[1m0s\u001b[0m 5ms/step - accuracy: 0.9811 - loss: 0.1765 - val_accuracy: 0.9704 - val_loss: 0.1739\n",
      "Epoch 14/50\n",
      "\u001b[1m62/62\u001b[0m \u001b[32m━━━━━━━━━━━━━━━━━━━━\u001b[0m\u001b[37m\u001b[0m \u001b[1m0s\u001b[0m 5ms/step - accuracy: 0.9765 - loss: 0.1798 - val_accuracy: 0.9615 - val_loss: 0.1778\n",
      "Epoch 15/50\n",
      "\u001b[1m62/62\u001b[0m \u001b[32m━━━━━━━━━━━━━━━━━━━━\u001b[0m\u001b[37m\u001b[0m \u001b[1m0s\u001b[0m 6ms/step - accuracy: 0.9730 - loss: 0.1812 - val_accuracy: 0.9615 - val_loss: 0.1743\n",
      "Epoch 16/50\n",
      "\u001b[1m62/62\u001b[0m \u001b[32m━━━━━━━━━━━━━━━━━━━━\u001b[0m\u001b[37m\u001b[0m \u001b[1m0s\u001b[0m 7ms/step - accuracy: 0.9768 - loss: 0.1665 - val_accuracy: 0.9882 - val_loss: 0.1560\n",
      "Epoch 17/50\n",
      "\u001b[1m62/62\u001b[0m \u001b[32m━━━━━━━━━━━━━━━━━━━━\u001b[0m\u001b[37m\u001b[0m \u001b[1m1s\u001b[0m 9ms/step - accuracy: 0.9813 - loss: 0.1637 - val_accuracy: 0.9911 - val_loss: 0.1481\n",
      "Epoch 18/50\n",
      "\u001b[1m62/62\u001b[0m \u001b[32m━━━━━━━━━━━━━━━━━━━━\u001b[0m\u001b[37m\u001b[0m \u001b[1m1s\u001b[0m 12ms/step - accuracy: 0.9818 - loss: 0.1587 - val_accuracy: 0.9734 - val_loss: 0.1560\n",
      "Epoch 19/50\n",
      "\u001b[1m62/62\u001b[0m \u001b[32m━━━━━━━━━━━━━━━━━━━━\u001b[0m\u001b[37m\u001b[0m \u001b[1m1s\u001b[0m 7ms/step - accuracy: 0.9797 - loss: 0.1529 - val_accuracy: 0.9704 - val_loss: 0.1618\n",
      "Epoch 20/50\n",
      "\u001b[1m62/62\u001b[0m \u001b[32m━━━━━━━━━━━━━━━━━━━━\u001b[0m\u001b[37m\u001b[0m \u001b[1m1s\u001b[0m 8ms/step - accuracy: 0.9803 - loss: 0.1459 - val_accuracy: 0.9882 - val_loss: 0.1499\n",
      "Epoch 21/50\n",
      "\u001b[1m62/62\u001b[0m \u001b[32m━━━━━━━━━━━━━━━━━━━━\u001b[0m\u001b[37m\u001b[0m \u001b[1m0s\u001b[0m 6ms/step - accuracy: 0.9878 - loss: 0.1534 - val_accuracy: 0.9793 - val_loss: 0.1443\n",
      "Epoch 22/50\n",
      "\u001b[1m62/62\u001b[0m \u001b[32m━━━━━━━━━━━━━━━━━━━━\u001b[0m\u001b[37m\u001b[0m \u001b[1m0s\u001b[0m 7ms/step - accuracy: 0.9837 - loss: 0.1435 - val_accuracy: 0.9941 - val_loss: 0.1366\n",
      "Epoch 23/50\n",
      "\u001b[1m62/62\u001b[0m \u001b[32m━━━━━━━━━━━━━━━━━━━━\u001b[0m\u001b[37m\u001b[0m \u001b[1m1s\u001b[0m 8ms/step - accuracy: 0.9897 - loss: 0.1415 - val_accuracy: 0.9852 - val_loss: 0.1375\n",
      "Epoch 24/50\n",
      "\u001b[1m62/62\u001b[0m \u001b[32m━━━━━━━━━━━━━━━━━━━━\u001b[0m\u001b[37m\u001b[0m \u001b[1m0s\u001b[0m 6ms/step - accuracy: 0.9843 - loss: 0.1416 - val_accuracy: 0.9704 - val_loss: 0.1432\n",
      "Epoch 25/50\n",
      "\u001b[1m62/62\u001b[0m \u001b[32m━━━━━━━━━━━━━━━━━━━━\u001b[0m\u001b[37m\u001b[0m \u001b[1m0s\u001b[0m 6ms/step - accuracy: 0.9840 - loss: 0.1378 - val_accuracy: 0.9734 - val_loss: 0.1453\n",
      "Epoch 26/50\n",
      "\u001b[1m62/62\u001b[0m \u001b[32m━━━━━━━━━━━━━━━━━━━━\u001b[0m\u001b[37m\u001b[0m \u001b[1m1s\u001b[0m 8ms/step - accuracy: 0.9841 - loss: 0.1417 - val_accuracy: 0.9822 - val_loss: 0.1339\n",
      "Epoch 27/50\n",
      "\u001b[1m62/62\u001b[0m \u001b[32m━━━━━━━━━━━━━━━━━━━━\u001b[0m\u001b[37m\u001b[0m \u001b[1m0s\u001b[0m 5ms/step - accuracy: 0.9818 - loss: 0.1436 - val_accuracy: 0.9793 - val_loss: 0.1355\n",
      "Epoch 28/50\n",
      "\u001b[1m62/62\u001b[0m \u001b[32m━━━━━━━━━━━━━━━━━━━━\u001b[0m\u001b[37m\u001b[0m \u001b[1m0s\u001b[0m 5ms/step - accuracy: 0.9819 - loss: 0.1374 - val_accuracy: 0.9852 - val_loss: 0.1321\n",
      "Epoch 29/50\n",
      "\u001b[1m62/62\u001b[0m \u001b[32m━━━━━━━━━━━━━━━━━━━━\u001b[0m\u001b[37m\u001b[0m \u001b[1m0s\u001b[0m 7ms/step - accuracy: 0.9842 - loss: 0.1379 - val_accuracy: 0.9852 - val_loss: 0.1282\n",
      "Epoch 30/50\n",
      "\u001b[1m62/62\u001b[0m \u001b[32m━━━━━━━━━━━━━━━━━━━━\u001b[0m\u001b[37m\u001b[0m \u001b[1m1s\u001b[0m 9ms/step - accuracy: 0.9844 - loss: 0.1298 - val_accuracy: 0.9852 - val_loss: 0.1287\n",
      "Epoch 31/50\n",
      "\u001b[1m62/62\u001b[0m \u001b[32m━━━━━━━━━━━━━━━━━━━━\u001b[0m\u001b[37m\u001b[0m \u001b[1m1s\u001b[0m 8ms/step - accuracy: 0.9860 - loss: 0.1295 - val_accuracy: 0.9911 - val_loss: 0.1273\n",
      "Epoch 32/50\n",
      "\u001b[1m62/62\u001b[0m \u001b[32m━━━━━━━━━━━━━━━━━━━━\u001b[0m\u001b[37m\u001b[0m \u001b[1m1s\u001b[0m 8ms/step - accuracy: 0.9862 - loss: 0.1292 - val_accuracy: 0.9882 - val_loss: 0.1237\n",
      "Epoch 33/50\n",
      "\u001b[1m62/62\u001b[0m \u001b[32m━━━━━━━━━━━━━━━━━━━━\u001b[0m\u001b[37m\u001b[0m \u001b[1m0s\u001b[0m 7ms/step - accuracy: 0.9891 - loss: 0.1311 - val_accuracy: 0.9911 - val_loss: 0.1202\n",
      "Epoch 34/50\n",
      "\u001b[1m62/62\u001b[0m \u001b[32m━━━━━━━━━━━━━━━━━━━━\u001b[0m\u001b[37m\u001b[0m \u001b[1m1s\u001b[0m 9ms/step - accuracy: 0.9874 - loss: 0.1259 - val_accuracy: 0.9734 - val_loss: 0.1269\n",
      "Epoch 35/50\n",
      "\u001b[1m62/62\u001b[0m \u001b[32m━━━━━━━━━━━━━━━━━━━━\u001b[0m\u001b[37m\u001b[0m \u001b[1m1s\u001b[0m 8ms/step - accuracy: 0.9866 - loss: 0.1184 - val_accuracy: 0.9941 - val_loss: 0.1180\n",
      "Epoch 36/50\n",
      "\u001b[1m62/62\u001b[0m \u001b[32m━━━━━━━━━━━━━━━━━━━━\u001b[0m\u001b[37m\u001b[0m \u001b[1m1s\u001b[0m 10ms/step - accuracy: 0.9911 - loss: 0.1236 - val_accuracy: 0.9970 - val_loss: 0.1148\n",
      "Epoch 37/50\n",
      "\u001b[1m62/62\u001b[0m \u001b[32m━━━━━━━━━━━━━━━━━━━━\u001b[0m\u001b[37m\u001b[0m \u001b[1m1s\u001b[0m 7ms/step - accuracy: 0.9857 - loss: 0.1224 - val_accuracy: 0.9882 - val_loss: 0.1142\n",
      "Epoch 38/50\n",
      "\u001b[1m62/62\u001b[0m \u001b[32m━━━━━━━━━━━━━━━━━━━━\u001b[0m\u001b[37m\u001b[0m \u001b[1m0s\u001b[0m 7ms/step - accuracy: 0.9889 - loss: 0.1225 - val_accuracy: 0.9911 - val_loss: 0.1180\n",
      "Epoch 39/50\n",
      "\u001b[1m62/62\u001b[0m \u001b[32m━━━━━━━━━━━━━━━━━━━━\u001b[0m\u001b[37m\u001b[0m \u001b[1m0s\u001b[0m 5ms/step - accuracy: 0.9878 - loss: 0.1204 - val_accuracy: 0.9793 - val_loss: 0.1229\n",
      "Epoch 40/50\n",
      "\u001b[1m62/62\u001b[0m \u001b[32m━━━━━━━━━━━━━━━━━━━━\u001b[0m\u001b[37m\u001b[0m \u001b[1m0s\u001b[0m 4ms/step - accuracy: 0.9892 - loss: 0.1166 - val_accuracy: 0.9763 - val_loss: 0.1201\n",
      "Epoch 41/50\n",
      "\u001b[1m62/62\u001b[0m \u001b[32m━━━━━━━━━━━━━━━━━━━━\u001b[0m\u001b[37m\u001b[0m \u001b[1m0s\u001b[0m 4ms/step - accuracy: 0.9870 - loss: 0.1181 - val_accuracy: 0.9911 - val_loss: 0.1122\n",
      "Epoch 42/50\n",
      "\u001b[1m62/62\u001b[0m \u001b[32m━━━━━━━━━━━━━━━━━━━━\u001b[0m\u001b[37m\u001b[0m \u001b[1m0s\u001b[0m 5ms/step - accuracy: 0.9932 - loss: 0.1165 - val_accuracy: 0.9822 - val_loss: 0.1162\n",
      "Epoch 43/50\n",
      "\u001b[1m62/62\u001b[0m \u001b[32m━━━━━━━━━━━━━━━━━━━━\u001b[0m\u001b[37m\u001b[0m \u001b[1m0s\u001b[0m 5ms/step - accuracy: 0.9816 - loss: 0.1225 - val_accuracy: 0.9882 - val_loss: 0.1141\n",
      "Epoch 44/50\n",
      "\u001b[1m62/62\u001b[0m \u001b[32m━━━━━━━━━━━━━━━━━━━━\u001b[0m\u001b[37m\u001b[0m \u001b[1m0s\u001b[0m 5ms/step - accuracy: 0.9855 - loss: 0.1159 - val_accuracy: 0.9882 - val_loss: 0.1149\n",
      "Epoch 45/50\n",
      "\u001b[1m62/62\u001b[0m \u001b[32m━━━━━━━━━━━━━━━━━━━━\u001b[0m\u001b[37m\u001b[0m \u001b[1m0s\u001b[0m 5ms/step - accuracy: 0.9894 - loss: 0.1138 - val_accuracy: 0.9822 - val_loss: 0.1159\n",
      "Epoch 46/50\n",
      "\u001b[1m62/62\u001b[0m \u001b[32m━━━━━━━━━━━━━━━━━━━━\u001b[0m\u001b[37m\u001b[0m \u001b[1m0s\u001b[0m 7ms/step - accuracy: 0.9870 - loss: 0.1130 - val_accuracy: 0.9911 - val_loss: 0.1113\n",
      "Epoch 47/50\n",
      "\u001b[1m62/62\u001b[0m \u001b[32m━━━━━━━━━━━━━━━━━━━━\u001b[0m\u001b[37m\u001b[0m \u001b[1m1s\u001b[0m 9ms/step - accuracy: 0.9907 - loss: 0.1138 - val_accuracy: 0.9911 - val_loss: 0.1075\n",
      "Epoch 48/50\n",
      "\u001b[1m62/62\u001b[0m \u001b[32m━━━━━━━━━━━━━━━━━━━━\u001b[0m\u001b[37m\u001b[0m \u001b[1m0s\u001b[0m 6ms/step - accuracy: 0.9891 - loss: 0.1165 - val_accuracy: 0.9911 - val_loss: 0.1087\n",
      "Epoch 49/50\n",
      "\u001b[1m62/62\u001b[0m \u001b[32m━━━━━━━━━━━━━━━━━━━━\u001b[0m\u001b[37m\u001b[0m \u001b[1m0s\u001b[0m 6ms/step - accuracy: 0.9849 - loss: 0.1099 - val_accuracy: 0.9852 - val_loss: 0.1123\n",
      "Epoch 50/50\n",
      "\u001b[1m62/62\u001b[0m \u001b[32m━━━━━━━━━━━━━━━━━━━━\u001b[0m\u001b[37m\u001b[0m \u001b[1m0s\u001b[0m 7ms/step - accuracy: 0.9834 - loss: 0.1105 - val_accuracy: 0.9882 - val_loss: 0.1094\n"
=======
      "\u001b[1m62/62\u001b[0m \u001b[32m━━━━━━━━━━━━━━━━━━━━\u001b[0m\u001b[37m\u001b[0m \u001b[1m1s\u001b[0m 8ms/step - accuracy: 0.8247 - loss: 0.4303 - val_accuracy: 0.8580 - val_loss: 0.3152\n",
      "Epoch 2/50\n",
      "\u001b[1m62/62\u001b[0m \u001b[32m━━━━━━━━━━━━━━━━━━━━\u001b[0m\u001b[37m\u001b[0m \u001b[1m0s\u001b[0m 4ms/step - accuracy: 0.8765 - loss: 0.3273 - val_accuracy: 0.8817 - val_loss: 0.2656\n",
      "Epoch 3/50\n",
      "\u001b[1m62/62\u001b[0m \u001b[32m━━━━━━━━━━━━━━━━━━━━\u001b[0m\u001b[37m\u001b[0m \u001b[1m0s\u001b[0m 4ms/step - accuracy: 0.8780 - loss: 0.2717 - val_accuracy: 0.8876 - val_loss: 0.2266\n",
      "Epoch 4/50\n",
      "\u001b[1m62/62\u001b[0m \u001b[32m━━━━━━━━━━━━━━━━━━━━\u001b[0m\u001b[37m\u001b[0m \u001b[1m0s\u001b[0m 4ms/step - accuracy: 0.9089 - loss: 0.2363 - val_accuracy: 0.8994 - val_loss: 0.2116\n",
      "Epoch 5/50\n",
      "\u001b[1m62/62\u001b[0m \u001b[32m━━━━━━━━━━━━━━━━━━━━\u001b[0m\u001b[37m\u001b[0m \u001b[1m0s\u001b[0m 5ms/step - accuracy: 0.9069 - loss: 0.2238 - val_accuracy: 0.8994 - val_loss: 0.1948\n",
      "Epoch 6/50\n",
      "\u001b[1m62/62\u001b[0m \u001b[32m━━━━━━━━━━━━━━━━━━━━\u001b[0m\u001b[37m\u001b[0m \u001b[1m0s\u001b[0m 4ms/step - accuracy: 0.9140 - loss: 0.2041 - val_accuracy: 0.9053 - val_loss: 0.1710\n",
      "Epoch 7/50\n",
      "\u001b[1m62/62\u001b[0m \u001b[32m━━━━━━━━━━━━━━━━━━━━\u001b[0m\u001b[37m\u001b[0m \u001b[1m0s\u001b[0m 4ms/step - accuracy: 0.9277 - loss: 0.1708 - val_accuracy: 0.9349 - val_loss: 0.1450\n",
      "Epoch 8/50\n",
      "\u001b[1m62/62\u001b[0m \u001b[32m━━━━━━━━━━━━━━━━━━━━\u001b[0m\u001b[37m\u001b[0m \u001b[1m0s\u001b[0m 4ms/step - accuracy: 0.9441 - loss: 0.1528 - val_accuracy: 0.9290 - val_loss: 0.1388\n",
      "Epoch 9/50\n",
      "\u001b[1m62/62\u001b[0m \u001b[32m━━━━━━━━━━━━━━━━━━━━\u001b[0m\u001b[37m\u001b[0m \u001b[1m0s\u001b[0m 5ms/step - accuracy: 0.9360 - loss: 0.1560 - val_accuracy: 0.9260 - val_loss: 0.1491\n",
      "Epoch 10/50\n",
      "\u001b[1m62/62\u001b[0m \u001b[32m━━━━━━━━━━━━━━━━━━━━\u001b[0m\u001b[37m\u001b[0m \u001b[1m0s\u001b[0m 4ms/step - accuracy: 0.9572 - loss: 0.1164 - val_accuracy: 0.9467 - val_loss: 0.1163\n",
      "Epoch 11/50\n",
      "\u001b[1m62/62\u001b[0m \u001b[32m━━━━━━━━━━━━━━━━━━━━\u001b[0m\u001b[37m\u001b[0m \u001b[1m0s\u001b[0m 5ms/step - accuracy: 0.9505 - loss: 0.1214 - val_accuracy: 0.9556 - val_loss: 0.0999\n",
      "Epoch 12/50\n",
      "\u001b[1m62/62\u001b[0m \u001b[32m━━━━━━━━━━━━━━━━━━━━\u001b[0m\u001b[37m\u001b[0m \u001b[1m0s\u001b[0m 5ms/step - accuracy: 0.9615 - loss: 0.1025 - val_accuracy: 0.9586 - val_loss: 0.1003\n",
      "Epoch 13/50\n",
      "\u001b[1m62/62\u001b[0m \u001b[32m━━━━━━━━━━━━━━━━━━━━\u001b[0m\u001b[37m\u001b[0m \u001b[1m0s\u001b[0m 5ms/step - accuracy: 0.9576 - loss: 0.0994 - val_accuracy: 0.9586 - val_loss: 0.1010\n",
      "Epoch 14/50\n",
      "\u001b[1m62/62\u001b[0m \u001b[32m━━━━━━━━━━━━━━━━━━━━\u001b[0m\u001b[37m\u001b[0m \u001b[1m0s\u001b[0m 6ms/step - accuracy: 0.9645 - loss: 0.0971 - val_accuracy: 0.9645 - val_loss: 0.0837\n",
      "Epoch 15/50\n",
      "\u001b[1m62/62\u001b[0m \u001b[32m━━━━━━━━━━━━━━━━━━━━\u001b[0m\u001b[37m\u001b[0m \u001b[1m0s\u001b[0m 4ms/step - accuracy: 0.9751 - loss: 0.0769 - val_accuracy: 0.9615 - val_loss: 0.0780\n",
      "Epoch 16/50\n",
      "\u001b[1m62/62\u001b[0m \u001b[32m━━━━━━━━━━━━━━━━━━━━\u001b[0m\u001b[37m\u001b[0m \u001b[1m0s\u001b[0m 5ms/step - accuracy: 0.9812 - loss: 0.0729 - val_accuracy: 0.9675 - val_loss: 0.0817\n",
      "Epoch 17/50\n",
      "\u001b[1m62/62\u001b[0m \u001b[32m━━━━━━━━━━━━━━━━━━━━\u001b[0m\u001b[37m\u001b[0m \u001b[1m0s\u001b[0m 5ms/step - accuracy: 0.9755 - loss: 0.0807 - val_accuracy: 0.9615 - val_loss: 0.0718\n",
      "Epoch 18/50\n",
      "\u001b[1m62/62\u001b[0m \u001b[32m━━━━━━━━━━━━━━━━━━━━\u001b[0m\u001b[37m\u001b[0m \u001b[1m0s\u001b[0m 5ms/step - accuracy: 0.9691 - loss: 0.0753 - val_accuracy: 0.9615 - val_loss: 0.0737\n",
      "Epoch 19/50\n",
      "\u001b[1m62/62\u001b[0m \u001b[32m━━━━━━━━━━━━━━━━━━━━\u001b[0m\u001b[37m\u001b[0m \u001b[1m0s\u001b[0m 7ms/step - accuracy: 0.9738 - loss: 0.0770 - val_accuracy: 0.9704 - val_loss: 0.0677\n",
      "Epoch 20/50\n",
      "\u001b[1m62/62\u001b[0m \u001b[32m━━━━━━━━━━━━━━━━━━━━\u001b[0m\u001b[37m\u001b[0m \u001b[1m0s\u001b[0m 5ms/step - accuracy: 0.9844 - loss: 0.0636 - val_accuracy: 0.9645 - val_loss: 0.0678\n",
      "Epoch 21/50\n",
      "\u001b[1m62/62\u001b[0m \u001b[32m━━━━━━━━━━━━━━━━━━━━\u001b[0m\u001b[37m\u001b[0m \u001b[1m0s\u001b[0m 6ms/step - accuracy: 0.9762 - loss: 0.0662 - val_accuracy: 0.9822 - val_loss: 0.0655\n",
      "Epoch 22/50\n",
      "\u001b[1m62/62\u001b[0m \u001b[32m━━━━━━━━━━━━━━━━━━━━\u001b[0m\u001b[37m\u001b[0m \u001b[1m0s\u001b[0m 4ms/step - accuracy: 0.9807 - loss: 0.0593 - val_accuracy: 0.9645 - val_loss: 0.0607\n",
      "Epoch 23/50\n",
      "\u001b[1m62/62\u001b[0m \u001b[32m━━━━━━━━━━━━━━━━━━━━\u001b[0m\u001b[37m\u001b[0m \u001b[1m0s\u001b[0m 4ms/step - accuracy: 0.9748 - loss: 0.0580 - val_accuracy: 0.9822 - val_loss: 0.0527\n",
      "Epoch 24/50\n",
      "\u001b[1m62/62\u001b[0m \u001b[32m━━━━━━━━━━━━━━━━━━━━\u001b[0m\u001b[37m\u001b[0m \u001b[1m0s\u001b[0m 4ms/step - accuracy: 0.9724 - loss: 0.0619 - val_accuracy: 0.9734 - val_loss: 0.0591\n",
      "Epoch 25/50\n",
      "\u001b[1m62/62\u001b[0m \u001b[32m━━━━━━━━━━━━━━━━━━━━\u001b[0m\u001b[37m\u001b[0m \u001b[1m0s\u001b[0m 5ms/step - accuracy: 0.9763 - loss: 0.0580 - val_accuracy: 0.9822 - val_loss: 0.0540\n",
      "Epoch 26/50\n",
      "\u001b[1m62/62\u001b[0m \u001b[32m━━━━━━━━━━━━━━━━━━━━\u001b[0m\u001b[37m\u001b[0m \u001b[1m0s\u001b[0m 4ms/step - accuracy: 0.9848 - loss: 0.0502 - val_accuracy: 0.9793 - val_loss: 0.0522\n",
      "Epoch 27/50\n",
      "\u001b[1m62/62\u001b[0m \u001b[32m━━━━━━━━━━━━━━━━━━━━\u001b[0m\u001b[37m\u001b[0m \u001b[1m0s\u001b[0m 4ms/step - accuracy: 0.9897 - loss: 0.0418 - val_accuracy: 0.9793 - val_loss: 0.0485\n",
      "Epoch 28/50\n",
      "\u001b[1m62/62\u001b[0m \u001b[32m━━━━━━━━━━━━━━━━━━━━\u001b[0m\u001b[37m\u001b[0m \u001b[1m0s\u001b[0m 5ms/step - accuracy: 0.9836 - loss: 0.0479 - val_accuracy: 0.9793 - val_loss: 0.0557\n",
      "Epoch 29/50\n",
      "\u001b[1m62/62\u001b[0m \u001b[32m━━━━━━━━━━━━━━━━━━━━\u001b[0m\u001b[37m\u001b[0m \u001b[1m0s\u001b[0m 4ms/step - accuracy: 0.9869 - loss: 0.0367 - val_accuracy: 0.9822 - val_loss: 0.0457\n",
      "Epoch 30/50\n",
      "\u001b[1m62/62\u001b[0m \u001b[32m━━━━━━━━━━━━━━━━━━━━\u001b[0m\u001b[37m\u001b[0m \u001b[1m0s\u001b[0m 4ms/step - accuracy: 0.9825 - loss: 0.0464 - val_accuracy: 0.9793 - val_loss: 0.0500\n",
      "Epoch 31/50\n",
      "\u001b[1m62/62\u001b[0m \u001b[32m━━━━━━━━━━━━━━━━━━━━\u001b[0m\u001b[37m\u001b[0m \u001b[1m0s\u001b[0m 5ms/step - accuracy: 0.9861 - loss: 0.0417 - val_accuracy: 0.9822 - val_loss: 0.0470\n",
      "Epoch 32/50\n",
      "\u001b[1m62/62\u001b[0m \u001b[32m━━━━━━━━━━━━━━━━━━━━\u001b[0m\u001b[37m\u001b[0m \u001b[1m0s\u001b[0m 5ms/step - accuracy: 0.9840 - loss: 0.0424 - val_accuracy: 0.9793 - val_loss: 0.0445\n",
      "Epoch 33/50\n",
      "\u001b[1m62/62\u001b[0m \u001b[32m━━━━━━━━━━━━━━━━━━━━\u001b[0m\u001b[37m\u001b[0m \u001b[1m0s\u001b[0m 4ms/step - accuracy: 0.9943 - loss: 0.0274 - val_accuracy: 0.9852 - val_loss: 0.0431\n",
      "Epoch 34/50\n",
      "\u001b[1m62/62\u001b[0m \u001b[32m━━━━━━━━━━━━━━━━━━━━\u001b[0m\u001b[37m\u001b[0m \u001b[1m0s\u001b[0m 4ms/step - accuracy: 0.9919 - loss: 0.0302 - val_accuracy: 0.9763 - val_loss: 0.0500\n",
      "Epoch 35/50\n",
      "\u001b[1m62/62\u001b[0m \u001b[32m━━━━━━━━━━━━━━━━━━━━\u001b[0m\u001b[37m\u001b[0m \u001b[1m0s\u001b[0m 5ms/step - accuracy: 0.9884 - loss: 0.0352 - val_accuracy: 0.9911 - val_loss: 0.0394\n",
      "Epoch 36/50\n",
      "\u001b[1m62/62\u001b[0m \u001b[32m━━━━━━━━━━━━━━━━━━━━\u001b[0m\u001b[37m\u001b[0m \u001b[1m0s\u001b[0m 4ms/step - accuracy: 0.9902 - loss: 0.0304 - val_accuracy: 0.9822 - val_loss: 0.0421\n",
      "Epoch 37/50\n",
      "\u001b[1m62/62\u001b[0m \u001b[32m━━━━━━━━━━━━━━━━━━━━\u001b[0m\u001b[37m\u001b[0m \u001b[1m0s\u001b[0m 4ms/step - accuracy: 0.9843 - loss: 0.0364 - val_accuracy: 0.9852 - val_loss: 0.0357\n",
      "Epoch 38/50\n",
      "\u001b[1m62/62\u001b[0m \u001b[32m━━━━━━━━━━━━━━━━━━━━\u001b[0m\u001b[37m\u001b[0m \u001b[1m0s\u001b[0m 4ms/step - accuracy: 0.9881 - loss: 0.0318 - val_accuracy: 0.9852 - val_loss: 0.0407\n",
      "Epoch 39/50\n",
      "\u001b[1m62/62\u001b[0m \u001b[32m━━━━━━━━━━━━━━━━━━━━\u001b[0m\u001b[37m\u001b[0m \u001b[1m0s\u001b[0m 4ms/step - accuracy: 0.9860 - loss: 0.0358 - val_accuracy: 0.9911 - val_loss: 0.0348\n",
      "Epoch 40/50\n",
      "\u001b[1m62/62\u001b[0m \u001b[32m━━━━━━━━━━━━━━━━━━━━\u001b[0m\u001b[37m\u001b[0m \u001b[1m0s\u001b[0m 4ms/step - accuracy: 0.9942 - loss: 0.0234 - val_accuracy: 0.9882 - val_loss: 0.0375\n",
      "Epoch 41/50\n",
      "\u001b[1m62/62\u001b[0m \u001b[32m━━━━━━━━━━━━━━━━━━━━\u001b[0m\u001b[37m\u001b[0m \u001b[1m0s\u001b[0m 4ms/step - accuracy: 0.9926 - loss: 0.0235 - val_accuracy: 0.9911 - val_loss: 0.0322\n",
      "Epoch 42/50\n",
      "\u001b[1m62/62\u001b[0m \u001b[32m━━━━━━━━━━━━━━━━━━━━\u001b[0m\u001b[37m\u001b[0m \u001b[1m0s\u001b[0m 5ms/step - accuracy: 0.9948 - loss: 0.0201 - val_accuracy: 0.9911 - val_loss: 0.0337\n",
      "Epoch 43/50\n",
      "\u001b[1m62/62\u001b[0m \u001b[32m━━━━━━━━━━━━━━━━━━━━\u001b[0m\u001b[37m\u001b[0m \u001b[1m0s\u001b[0m 5ms/step - accuracy: 0.9863 - loss: 0.0332 - val_accuracy: 0.9911 - val_loss: 0.0330\n",
      "Epoch 44/50\n",
      "\u001b[1m62/62\u001b[0m \u001b[32m━━━━━━━━━━━━━━━━━━━━\u001b[0m\u001b[37m\u001b[0m \u001b[1m0s\u001b[0m 5ms/step - accuracy: 0.9919 - loss: 0.0267 - val_accuracy: 0.9911 - val_loss: 0.0322\n",
      "Epoch 45/50\n",
      "\u001b[1m62/62\u001b[0m \u001b[32m━━━━━━━━━━━━━━━━━━━━\u001b[0m\u001b[37m\u001b[0m \u001b[1m0s\u001b[0m 6ms/step - accuracy: 0.9899 - loss: 0.0252 - val_accuracy: 0.9911 - val_loss: 0.0330\n",
      "Epoch 46/50\n",
      "\u001b[1m62/62\u001b[0m \u001b[32m━━━━━━━━━━━━━━━━━━━━\u001b[0m\u001b[37m\u001b[0m \u001b[1m0s\u001b[0m 4ms/step - accuracy: 0.9905 - loss: 0.0239 - val_accuracy: 0.9911 - val_loss: 0.0299\n",
      "Epoch 47/50\n",
      "\u001b[1m62/62\u001b[0m \u001b[32m━━━━━━━━━━━━━━━━━━━━\u001b[0m\u001b[37m\u001b[0m \u001b[1m0s\u001b[0m 4ms/step - accuracy: 0.9925 - loss: 0.0203 - val_accuracy: 0.9941 - val_loss: 0.0325\n",
      "Epoch 48/50\n",
      "\u001b[1m62/62\u001b[0m \u001b[32m━━━━━━━━━━━━━━━━━━━━\u001b[0m\u001b[37m\u001b[0m \u001b[1m0s\u001b[0m 4ms/step - accuracy: 0.9941 - loss: 0.0238 - val_accuracy: 0.9882 - val_loss: 0.0392\n",
      "Epoch 49/50\n",
      "\u001b[1m62/62\u001b[0m \u001b[32m━━━━━━━━━━━━━━━━━━━━\u001b[0m\u001b[37m\u001b[0m \u001b[1m0s\u001b[0m 5ms/step - accuracy: 0.9925 - loss: 0.0203 - val_accuracy: 0.9911 - val_loss: 0.0299\n",
      "Epoch 50/50\n",
      "\u001b[1m62/62\u001b[0m \u001b[32m━━━━━━━━━━━━━━━━━━━━\u001b[0m\u001b[37m\u001b[0m \u001b[1m0s\u001b[0m 4ms/step - accuracy: 0.9932 - loss: 0.0202 - val_accuracy: 0.9911 - val_loss: 0.0288\n"
>>>>>>> 3a9edb88 (Initial commit)
     ]
    }
   ],
   "source": [
    "history = model.fit(\n",
    "    X_train_resampled, y_train_resampled,\n",
    "    epochs=50,  # Number of epochs\n",
    "    batch_size=32,  # Batch size\n",
    "    validation_data=(X_test, y_test),  # Validation data\n",
<<<<<<< HEAD
    "    verbose=1 ,# Show progress,\n",
    "    callbacks=[early_stopping_callback]\n",
=======
    "    verbose=1  # Show progress\n",
>>>>>>> 3a9edb88 (Initial commit)
    ") "
   ]
  },
  {
<<<<<<< HEAD
   "cell_type": "code",
   "execution_count": null,
   "metadata": {},
   "outputs": [],
   "source": []
  },
  {
=======
>>>>>>> 3a9edb88 (Initial commit)
   "cell_type": "markdown",
   "metadata": {},
   "source": [
    "plot training and validation loss"
   ]
  },
  {
   "cell_type": "code",
<<<<<<< HEAD
   "execution_count": 75,
=======
   "execution_count": 16,
>>>>>>> 3a9edb88 (Initial commit)
   "metadata": {},
   "outputs": [
    {
     "data": {
<<<<<<< HEAD
      "image/png": "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",
=======
      "image/png": "iVBORw0KGgoAAAANSUhEUgAAAkAAAAHHCAYAAABXx+fLAAAAOnRFWHRTb2Z0d2FyZQBNYXRwbG90bGliIHZlcnNpb24zLjEwLjAsIGh0dHBzOi8vbWF0cGxvdGxpYi5vcmcvlHJYcgAAAAlwSFlzAAAPYQAAD2EBqD+naQAAdzxJREFUeJzt3Qd0VMXbBvAnvVdCGi2E3sGEEor0JiogKNhAVFRAPxD8q6iAKEqxIYiAFbHRFFR6770JSA29JSFAOun7nXcuuySkbepukud3zrrt7t27NzH7MPPOjIVOp9OBiIiIqByxNPUBEBEREZU0BiAiIiIqdxiAiIiIqNxhACIiIqJyhwGIiIiIyh0GICIiIip3GICIiIio3GEAIiIionKHAYiIiIjKHQYgIjPz3HPPISAgoECvff/992FhYYGy7MKFC+ozzps3r8TfW95XzrGeHIM8JseUF/mZys/WXH5XiMo7BiAiI8kXnTGXzZs3m/pQy73/+7//Uz+L0NDQHLd599131TZHjhyBObt27ZoKXYcPH4a5hdBPP/3U1IdCVGDWBX8pUfny888/Z7o/f/58rFu3Lsvj9erVK9T7fPvtt0hPTy/Qa9977z28/fbbKO+efvppzJw5E7/99hvGjx+f7Ta///47GjVqhMaNGxf4fZ599lkMHDgQdnZ2KM4ANHHiRNXS07Rp0yL7XSEq7xiAiIz0zDPPZLq/e/duFYDuf/x+CQkJcHR0NPp9bGxsCnyM1tbW6lLetWzZEjVr1lQhJ7sAtGvXLpw/fx5Tpkwp1PtYWVmpi6kU5neFqLxjFxhREerQoQMaNmyIAwcO4MEHH1TB55133lHP/fXXX+jVqxf8/f1Vi0GNGjXw4YcfIi0tLde6jozdDd988416nby+efPm2LdvX541QHL/1VdfxbJly9SxyWsbNGiA1atXZzl+6b4LDg6Gvb29ep+5c+caXVe0bds2PP7446hatap6jypVquD111/HnTt3snw+Z2dnXL16FX369FG3K1asiDfeeCPLuYiKilLbu7m5wd3dHYMHD1aPGdsKdPLkSRw8eDDLc9IyJJ/pySefRHJysgpJQUFB6n2cnJzQrl07bNq0Kc/3yK4GSKfTYdKkSahcubL6+Xfs2BH//fdfltfeunVLfWZphZJz4Orqip49e+Lff//N9POQn7MYMmSIoZtVX/+UXQ1QfHw8xowZo86//Bzq1KmjfnfkuAr6e1FQEREReOGFF+Dj46N+p5o0aYKffvopy3YLFixQ59/FxUWdBzknX375peH5lJQU1QpWq1YttZ8KFSqgbdu26h8gRAXFfyoSFbGbN2+qLzLpGpHWIfnjL+RLS77oRo8era43btyovnhjYmLwySef5Llf+dKOjY3Fyy+/rL68pk2bhsceewznzp3LsyVg+/bt+PPPPzF8+HD1JTNjxgz069cPly5dUl8m4tChQ+jRowf8/PzUl42EkQ8++ECFE2MsXrxYtXYNGzZM7XPv3r2qG+rKlSvquYxk3927d1ctNfLlvH79enz22WcqdMnrhXxh9+7dWx37K6+8oroWly5dqkKQsQFIPoectwceeCDTey9atEiFHAlrkZGR+O6771QYGjp0qDrH33//vTo++Qz3dzvlRX6mEoAeeughdZEA1q1bNxW0MpKfm4QPCY3Vq1dHeHi4Cpzt27fH8ePHVVCWzyw/A9nnSy+9pI5ZtG7dOtv3lnP26KOPqvAmwUOOfc2aNfjf//6nAucXX3yR79+LgpLgK/8gkDosCVryGeX3QEKbhNiRI0eq7STEyLnv3Lkzpk6dqh47ceIEduzYYdhGQvjkyZPx4osvokWLFur/mf3796tz27Vr10IdJ5VjOiIqkBEjRsg/qTM91r59e/XYnDlzsmyfkJCQ5bGXX35Z5+joqEtMTDQ8NnjwYF21atUM98+fP6/2WaFCBd2tW7cMj//111/q8X/++cfw2IQJE7Ick9y3tbXVhYaGGh77999/1eMzZ840PPbII4+oY7l69arhsTNnzuisra2z7DM72X2+yZMn6ywsLHQXL17M9Plkfx988EGmbZs1a6YLCgoy3F+2bJnabtq0aYbHUlNTde3atVOP//jjj3keU/PmzXWVK1fWpaWlGR5bvXq1ev3cuXMN+0xKSsr0utu3b+t8fHx0zz//fKbH5XVyjvXkGOQx+RmJiIgIda579eqlS09PN2z3zjvvqO3ks+vJzzzjcQnZj52dXaZzs2/fvhw/7/2/K/pzNmnSpEzb9e/fX/0cMv4OGPt7kR397+Qnn3yS4zbTp09X2/zyyy+Gx5KTk3UhISE6Z2dnXUxMjHps5MiROldXV/VzyEmTJk3UOSUqSuwCIypi0pUg3RX3c3BwMNyWVgZpeZB/0UuriXTV5GXAgAHw8PAw3Ne3BkhLQl66dOmiWlf0pPBXuhr0r5VWEWmFkS4paXnQkzoaac0yRsbPJ90w8vmkpUK+a6V16X7SqpORfJ6Mn2XlypWqnknfIiSk3ua1116DsaQFTlqgtm7danhMWoRsbW1Vy4t+n3JfSEGxdE2lpqaqrsDsus9yI+dQWnrkGDN2G44aNSrb3xNLS0vD+ZeWQ2kZlC6r/L5vxnMmn0dGwWUkXWLyc1i1alW+fi8KQ47F19dXte7oSUulHFtcXBy2bNmiHpOuTfl9ya07S7aRbsQzZ84U+riI9BiAiIpYpUqVDF+oGckf8L59+6o6E/mSka4lfQF1dHR0nvuV7pqM9GHo9u3b+X6t/vX610qthnRZSOC5X3aPZUe6TaR7w9PT01DXI9052X0+qeO4v2st4/GIixcvqu442VdGEhCMJd2QEggk9IjExETVjSahLmOYlLoU+fLX15fIsa1YscKon0tGcsxCalUykv1lfD992JIuKdlWwpCXl5faTobl5/d9M76/BFjpzspuZKL++Iz9vSgMeS/5bPqQl9OxSPdb7dq11c9E6qaef/75LHVI0g0o3WayndQHSZeeuU9fQOaPAYioiGVsCdGTP94SBqTAVf6Y//PPP+pfvPqaB2OGMuc02uj+4taifq0xpAVDajEkNLz11luqtkU+n75Y9/7PV1Ijp7y9vdVx/fHHH6qQVs67tL5JfZDeL7/8ooKbtIRI7Y98+cqxd+rUqViHmH/88ceqHkyK5eUYpFZH3lcKkUtqaHtx/14Y+zOSOY7+/vtvQ/2ShKGMtV5yjs6ePYsffvhBFWxLzZbUdck1UUGxCJqoBMhoHunikIJT+WOuJ0OxzYF8CUnrR3YTB+Y2maDe0aNHcfr0adWSMmjQIMPjhRmlU61aNWzYsEF1l2RsBTp16lS+9iNhR0KNdP9IS5C0vj3yyCOG55csWYLAwED1s8nYbTVhwoQCHbOQrhrZp96NGzeytKrI+8oIMQld94dlaQ3Sy8/M3vL+0g0nIS9jK5C+i1V/fCVB3ktaaSTMZWwFyu5YpMVUfiZyke2lVUgKwseNG2dogZSWRelalov8Tsj/R1IcLYXRRAXBFiCiEvyXdsZ/WUutyNdffw1zOT6pB5GWG5l4L2P4ub9uJKfX3//55HbGocz5JSOopBZn9uzZmVqaZGRZfkhdkwxHl3Mtn0VGzknYy+3Y9+zZo+YKyi85h1LnIseYcX/Tp0/Psq287/0tLTJKSkZrZSTD8oUxw//lnMk5+uqrrzI9Ll1tEqSMrecqCnIsYWFhWLhwoeEx+XnKuZFAq+8elX8YZCRhST85ZVJSUrbbyOslGOmfJyoItgARlQApBpbaCmnW1y/TIDNIl2RXQ17kX9Nr165FmzZtVOGx/otUuhzyWoahbt26qgtJ5rWRL3BpZZFup8LUkkhrgByLzGwt8+zUr19ftdLktz5GviwlBOnrgDJ2f4mHH35Y7Vfqs2SeJmmVmzNnjno/aWnID/18RjJkW/YrIUAKwCV4ZWzV0b+vdIdKi4b8fkgr2q+//pqp5UjIeZUiYDkmadWRQCTTB8iw8uzOmbQqyTIfcs5k3h35mcocVFKInbHguShIC53UVd1PzrcM25dWHOlelHmxZL4iafWS4e0SCPUtVNKCI4Xn0uUoNUBSGyQhSYbw6+uF5GchQ+plriBpCZIh8LIvGV5PVGBFOqaMqBzJaRh8gwYNst1+x44dulatWukcHBx0/v7+ujfffFO3Zs0atY9NmzblOQw+uyHH9w/LzmkYvBzr/eQ9Mg7LFhs2bFDD0WV4dI0aNXTfffedbsyYMTp7e/s8z8fx48d1Xbp0UUOcvby8dEOHDjUMq844hFve08nJKcvrszv2mzdv6p599lk1TNrNzU3dPnTokNHD4PVWrFihXuPn55dl6LkMV//444/V+ZAh6PL5ly9fnuXnYMwweCH7nzhxonov+Vl36NBBd+zYsSznW4bBy7nVb9emTRvdrl271O+QXDKSKQ/q169vmJJA/9mzO8bY2Fjd66+/rn7HbGxsdLVq1VK/OxmH5ef39+J++t/JnC4///yz2i48PFw3ZMgQ9fsgv1ONGjXK8nNbsmSJrlu3bjpvb2+1TdWqVdX0ENevXzdsI8P6W7RooXN3d1fnqm7durqPPvpIDasnKigL+U/B4xMRlXXyr3kOQSaisoY1QERkcP+yFRJ6ZD4X6X4gIipL2AJERAYy747UbEgditRiSAGyFJpKHcv9c9sQEZVmLIImIgNZC0xWUJfROzI5X0hIiJqvhuGHiMoatgARERFRucMaICIiIip3GICIiIio3GENUDZkKnaZDVcm6srPNPRERERkOlLVI0vByKLA9y/Eez8GoGxI+KlSpYqpD4OIiIgK4PLly2pm8dwwAGVDP0W7nECZ0p+IiIjMX0xMjGrAyLgYcE4YgLKh7/aS8MMAREREVLoYU77CImgiIiIqdxiAiIiIqNxhACIiIqJyhzVARERULNOJJCcnm/owqIyxsbGBlZVVkeyLAYiIiIqUBJ/z58+rEERU1Nzd3eHr61voefoYgIiIqEgnort+/br6V7oMR85rMjqi/PxuJSQkICIiQt338/NDYTAAERFRkUlNTVVfUjITr6Ojo6kPh8oYBwcHdS0hyNvbu1DdYYzmRERUZNLS0tS1ra2tqQ+FyijHu8E6JSWlUPthACIioiLHdRTJ3H+3GICIiIio3GEAIiIiKgYBAQGYPn260dtv3rxZtW5ERUUV63GRhgGIiIjKNQkduV3ef//9Au133759eOmll4zevnXr1moEnZubG4oTg5aGo8BKUFq6Dtej78DK0gJ+blolOxERmZaEDr2FCxdi/PjxOHXqlOExZ2fnTEOxpdDb2jrvr8+KFSvm6zikcFzmt6Fy1AI0a9Ys1VRob2+Pli1bYu/evUa9bsGCBSrF9unTJ9Pj8gsqv8AyR4AMmevSpQvOnDkDU5u25iTaTt2EuVvOmfpQiIjoLgkd+ou0vsj3iv7+yZMn4eLiglWrViEoKAh2dnbYvn07zp49i969e8PHx0cFpObNm2P9+vW5doHJfr/77jv07dtXjWSqVasW/v777xxbZubNm6cm/VuzZg3q1aun3qdHjx6ZAptMO/B///d/arsKFSrgrbfewuDBg7N8L+bH7du3MWjQIHh4eKjj7NmzZ6bv0IsXL+KRRx5Rzzs5OaFBgwZYuXKl4bVPP/20Cn/y/Suf8ccff4Q5MnkAkrQ9evRoTJgwAQcPHkSTJk3QvXt3w0RHOblw4QLeeOMNtGvXLstz06ZNw4wZMzBnzhzs2bNH/YBkn4mJiTClqp7a0L1LtxJMehxERCU6eV1yqkku8t5F5e2338aUKVNw4sQJNG7cGHFxcXjooYewYcMGHDp0SAUTCQWXLl3KdT8TJ07EE088gSNHjqjXS1i4detWjtvLnEqffvopfv75Z2zdulXtX7779KZOnYpff/1VhYwdO3YgJiYGy5YtK9Rnfe6557B//34Vznbt2qXOoxyrftj5iBEjkJSUpI7n6NGj6hj0rWTjxo3D8ePHVWCUczV79mx4eXnBHJm8C+zzzz/H0KFDMWTIEHVfQsuKFSvwww8/qF+47Ejzo/zSyC/Stm3bMvVjyg9KEvd7772n0rmYP3++SunySzFw4ECYCgMQEZU3d1LSUH/8GpO89/EPusPRtmi+5j744AN07drVcN/T01P9g13vww8/xNKlS1VoePXVV3MNF08++aS6/fHHH6t/rEuvhwSo7EjokO/FGjVqqPuybzkWvZkzZ2Ls2LGqVUl89dVXhtaYgjhz5oz6DBKmpCZJSMCSWb3lO/Txxx9XIaxfv35o1KiRej4wMNDwenmuWbNmCA4ONrSCmStLU68Xc+DAAdVFZTggS0t1X1JnTuSHLzNAvvDCC1mek/VnwsLCMu1TmjSlay23fZaEap5OhgCUnl50/zIhIqLipf9C15MWIGmJka4p6X6SFhBp8cirBUhaj/Skd8LV1TXXHg/pgtKHHyGlHfrto6OjER4ejhYtWhiel5mRpauuoE6cOKHqm+Q7U0+61urUqaOeE9LlNmnSJLRp00b13khrlt6wYcNUeUrTpk3x5ptvYufOnTBXJm0BioyMVK050jqTkdyXftfsSN/r999/j8OHD2f7vIQf/T7u36f+uftJU55c9KQJsTj4udurAujk1HRExCbB182+WN6HiMhcONhYqZYYU713UZGwkpGEn3Xr1qnuqZo1a6p6l/79+6t/2Oe1mnlGUvOT26Kx2W1flF17BfHiiy+qshLprVm7di0mT56Mzz77DK+99pqqF5IaIWmFkvPTuXNn1WUm58ncmLwGKD9iY2Px7LPP4ttvvy3SPkX54Ukrkf4iTX3FwcbKEv7uWuhhNxgRlQfyhS3dUKa4FOds1NJFJN1Z0vUkXUFSMC21qSVJvq/kH/cy3F5PGhWknrag6tWrpwqrpX5W7+bNm2pUXP369Q2PyffkK6+8gj///BNjxoxR38t6UgAthdi//PKLKkn55ptvYI5M2gIkIUaa66QJLyO5n91QQKm6l18wKTTT0ydnabKTH5D+dbKPjCvFyn1pksuO9J9KIXbGFqDiCkHSDXb51h1cvBmPFtU9i+U9iIioeMnoJvnyl+8jCVpS/JtbS05xkVYX+Ue8tELVrVtX1QTJSCxjwt/Ro0fVCDc9eY3UNUn9rNTmzp07Vz0v9biVKlUy1NWOGjVKtfTUrl1bvdemTZtUcBIyAlu64GRkmPSsLF++3PCcuTFpAJI5D+RESRW9fsie/ALJ/eyKyOSHKz+wjKTYWVqGvvzySxVapLlQQpDsQx94JNBImpW+yezIsEa5lIQqdwuhL7MFiIio1JIBPM8//7wqFJZ/zMvw8+Iqn8iNvK+Ud8iwdWlQkIkXpXvKmFXSH3zwwUz35TXS+iMjykaOHImHH35YdenJdtKlpe+Ok1Ym6da6cuWKqmGSAu4vvvjC8L0ujQrSWCHdgjJSW2qCzJGFzsSdiTIMXprKJGlKIZc0ly1atEjVAEnTnvxQJXlKws2ONEHKKLCMw/5kSJ4MV/zpp59QvXp1lcylSEuG5slcQ3mRX2JpWpQCM/nhFqXZm89i6uqT6NPUH9MHNivSfRMRmZpMNyKDUeRvrzF/b6loSSOCtLjIUHsZmVbefsdi8vH9bfJh8AMGDMCNGzdUs5mkWGm1Wb16taGIWSrqZWRYfkjleXx8vErCEo7atm2r9mkO/zNWq6C1AF1kCxARERWSFBxLIXL79u1Vl5MMg5dw8NRTT5n60MyeyVuAzFFxtgAduxqNh2duh5ezLfa/d29OCSKisoAtQCXr8uXLan67Y8eOqdFhDRs2VD0g93dvlSWJZaUFqLypercFKDIuGXFJqXC244+AiIgKRmpfZUQalfFh8GWBq70N3B21QjIWQhMREZkGA5AJcEkMIiIi02IAMmUAuskAREREZAoMQCbAFiAiIiLTYgAyAQYgIiIi02IAMuFIMAYgIiIi02AAMmEL0JXbCUhL5zRMRERlQYcOHdQ6WXoBAQFqdYPcyPpbGVcyKKii2k95wgBkAn5uDrCxskBKmg5hMYmmPhwionJNFjSV9ayys23bNhUuZDml/JJV2mVFgqL0/vvvZ7uw9/Xr19UCpcVp3rx5cHd3R1nBAGQCVpYWqOxxd0mMm/GmPhwionLthRdewLp169TinveThUGDg4PRuHHjfO+3YsWKcHTU/tYXN1kEvKQW9S4rGIBMhKvCExGZB1n1XMKKtHBkFBcXh8WLF6uAdPPmTTz55JNqcW4JNY0aNcLvv/+e637v7wI7c+aMWqJClm+oX7++Cl3Zre5eu3Zt9R6BgYFqMe+UlBT1nBzfxIkT8e+//6pWKbnoj/n+LrCjR4+iU6dOakX2ChUqqJYo+TwZFxLv06cPPv30U/j5+altZIV3/XsVhKzd2bt3bzg7O6tlKGRB1vDwcMPzctwdO3aEi4uLej4oKAj79+83rGkmLXEeHh5wcnJCgwYN1Ar0xYnrMJhItbsB6CLnAiKiskyWm0wx0d85G0dJBnluZm1tjUGDBqkw8e6776owIST8pKWlqeAj4UG+sCWgyJf3ihUr8Oyzz6JGjRpo0aKFUau0P/bYY2qh7z179qi1qjLWC+lJOJDj8Pf3VyFm6NCh6jFZ5FsWD5c1v2Rx7/Xr16vtZd2r+8li4N27d0dISIjqhouIiMCLL76IV199NVPI27Rpkwo/ch0aGqr2L91r8p75JZ9PH362bNmC1NRUFahkn5s3b1bbPP3002jWrBlmz54NKysrHD58GDY22soIsm1ycjK2bt2qAtDx48fVvooTA5CJcCg8EZULEn4+9jfNe79zDbB1MmrT559/Hp988on68pZiZn33V79+/VTIkMsbb7xh2P61117DmjVrsGjRIqMCkASWkydPqtdIuBEff/xxlrqd9957L1MLkrznggULVACS1hwJBRLYpMsrJ7/99ptaMHT+/PkqTAhZJV5aWKZOnapCmJDWFnlcwkjdunXRq1cvbNiwoUABSF4ngU0WKZX1yYS8v7TkSAhr3ry5aiH63//+p95L1KpVy/B6eU7OtbSsCWn9Km7sAjMRdoEREZkP+VJu3bo1fvjhB3VfWkSkAFq6v4S0BH344YfqC9rT01MFEQkz8sVtjBMnTqhgoA8/Qlpo7rdw4UK0adNGBRx5DwlExr5Hxvdq0qSJIfwI2ae00pw6dcrwWIMGDVT40ZPWIGktKgj959OHHyHdfFI0Lc+J0aNHq5aoLl26qBXrz549a9j2//7v/zBp0iR1nBMmTChQ0Xl+sQXIRKrdnQvoIgMQEZVl0g0lLTGmeu98kLAjLTuzZs1SrT/SvdW+fXv1nLQOffnll6qmR0KQhAvpwpJum6Kya9cu1U0kdT7ShSWtTtL689lnn6E42NztftKTrj8JScVFRrA99dRTqvtw1apVKujI5+vbt68KRvKZ5bm1a9di8uTJ6nPLz6O4sAXIxC1AUQkpiL5T8KIzIiKzJvU00g1liosR9T8ZSdGupaWl6kKS7hvpFtPXA+3YsUPVuDzzzDOqdUW6aE6fPm30vuvVq4fLly+r4ep6u3fvzrTNzp07Ua1aNVWHJCPPpItIioMzsrW1Va1Reb2XFBxLLZCeHL98tjp16qA41Lv7+eSiJ3U8UVFRqiVITwq8X3/9dRVypCZKgqaetB698sor+PPPPzFmzBh8++23KE4MQCbibGeNCk626ja7wYiITE+6nKRod+zYsSqoyEgpPQkjMmpLQop06bz88suZRjjlRbp95Mt/8ODBKpxI95oEnYzkPaS7S1pFpHtoxowZWLp0aaZtpC5I6mykgDgyMhJJSUlZ3ktakWSkmbyXFE1LkbO0pEjRtr7+p6AkfMl7Z7zI+ZDPJy1j8t4HDx7E3r17VWG5tKBJmLtz544qwpaCaAl1EsikNkiCk5DWNOlSlM8mr5dj1j9XXBiATIhLYhARmRfpBrt9+7bqjslYryO1OA888IB6XIqkpUZHhpEbS1pfJMxIEJCiaeny+eijjzJt8+ijj6rWEQkKMhpLwpYMg89ICoVl0kYZTi5D97Mbii9D6CVM3Lp1SxUf9+/fH507d1YFz4UVFxenRnJlvEhxtbSU/fXXX6qwWob6SyCSVjKpaRJSayRTCUgokiAorW1SAC7dffpgJSPBJPTI55Ntvv76axQnC51OxihSRjExMarvVYYpynDH4jJywSH8dfga3u5ZF6+0r1Fs70NEVFJk9JH8K7569eqqFYKoJH/H8vP9zRYgE+JcQERERKbBAGRCHApPRERkGgxAJsTJEImIiEyDAciEqlXQJqm6GnUHKWnFN/cCERERZcYAZELeLnawtbZEWroO16MSTX04RERFhuNryNx/txiATMjS0gJVPBzUbXaDEVFZoF9aoShnSCbKKCEhIduZrPOLS2GYQTfY2RvxuHgrHm3hZerDISIqFFmoU+ahuXHjhvqCkvlviIqq5UfCj6xXJmuMZVzHrCAYgEyMhdBEVJbIhHiyqKbM03L/Mg5ERUHCj0xEWVgMQCbGofBEVNbIelWyrAO7waioSatiYVt+9BiATIyTIRJRWSRdX5wJmswZO2fNZT2wmwkcNUFERFRCGIBMrIqHFoBik1IRlZBi6sMhIiIqFxiATMzB1krNByRYCE1ERFQyGIDMAEeCERERlcMANGvWLAQEBKiCuZYtW2Lv3r05bvvnn38iODhYDYNzcnJC06ZN8fPPP2fa5rnnnlNDMTNeevToAbOvA2IAIiIiKhEmHwW2cOFCjB49GnPmzFHhZ/r06ejevTtOnToFb2/vLNt7enri3XffRd26ddVQy+XLl2PIkCFqW3mdngSeH3/80XDfzk7rZjLrFiCOBCMiIiofLUCff/45hg4dqkJM/fr1VRCSWUR/+OGHbLfv0KED+vbti3r16qFGjRoYOXIkGjdujO3bt2faTgKPTJSkv3h4eMBcsQuMiIioHAUgmSTrwIED6NKly70DsrRU93ft2pXn62XY+IYNG1Rr0YMPPpjpuc2bN6tWoTp16mDYsGG4efNmjvtJSkpCTExMpktJqsYuMCIiovITgCIjI5GWlgYfH59Mj8v9sLCwHF8XHR0NZ2dn1QXWq1cvzJw5E127ds3U/TV//nwVjqZOnYotW7agZ8+e6r2yM3nyZLi5uRkuVapUgSlmg74WfQfJqekl+t5ERETlkclrgArCxcUFhw8fRlxcnAo5UkMUGBiousfEwIEDDds2atRIdZFJd5m0CnXu3DnL/saOHav2oSctQCUZgio628HBxgp3UtJw5XYCAis6l9h7ExERlUcmDUBeXl5qTY/w8PBMj8v93BY6k26ymjVrqtsyCuzEiROqFUcfgO4n4UjeKzQ0NNsAJPVCpiySllFqUgd0KjxWdYMxABEREZXhLjDpwgoKClKtOHrp6enqfkhIiNH7kddIHU9Orly5omqAZIVic8VFUYmIiMpRF5h0PQ0ePFjN7dOiRQs1DD4+Pl6NChODBg1CpUqVVAuPkGvZVrq0JPSsXLlSzQM0e/Zs9bx0i02cOBH9+vVTrUhnz57Fm2++qVqMMg6TNzf6QmguikpERFQOAtCAAQNw48YNjB8/XhU+S5fW6tWrDYXRly5dUl1eehKOhg8frlp1HBwc1HxAv/zyi9qPkC61I0eO4KeffkJUVBT8/f3RrVs3fPjhh6VjLiC2ABERERU7Cx2XIM9CiqBlNJiMNnN1dS2R99x0MgJD5u1DXV8XrB6VeUg/ERERFe33t8knQqSsy2EwkxIRERUvBiAzUcndARYWQEJyGm7GJ5v6cIiIiMo0BiAzYW9jBV9Xe3WbhdBERETFiwHIDAuhORSeiIioeDEAmRGOBCMiIioZDEBmGIDYBUZERFS8GIDMcCQYu8CIiIiKFwOQGWEXGBERUclgADIj1So4qeuwmEQkpqSZ+nCIiIjKLAYgM+LhaANnO211kiu32QpERERUXBiAzIiFhYVhVXh2gxERERUfBiAzU40jwYiIiIodA5AZrwlGRERExYMByMwYusDYAkRERFRsGIDMTMDdFqBzkfGmPhQiIqIyiwHIzNTzc1XX5yPjEZuYYurDISIiKpMYgMyMl7Md/N20VeH/uxZj6sMhIiIqkxiAzFDDSm7q+tjVaFMfChERUZnEAGSGGt0NQEcZgIiIiIoFA5AZaliZAYiIiKg4MQCZcQsQC6GJiIiKBwOQmRZC+7nZQ6djITQREVFxYAAqSRd3AmveBU78Y3QrEAuhiYiIih4DUEk6vxXY9VW+AhDrgIiIiIoeA1BJqhSkXV89kOemLIQmIiIqPgxApghAN0OBO7eNLoSOS0otiaMjIiIqNxiASpKjJ+BR3ahWoEyF0GwFIiIiKlIMQCWtcrB2ffWg0TNCsxuMiIioaDEAmaob7Mr+PDflSDAiIqLiwQBU0irpW4AOQPVv5aLR3ULoIwxARERERYoBqKT5NgIsbYCESCDqYq6bshCaiIioeDAAlTQbe8C3oXabhdBERETlNwDNmjULAQEBsLe3R8uWLbF3794ct/3zzz8RHBwMd3d3ODk5oWnTpvj5558zbaPT6TB+/Hj4+fnBwcEBXbp0wZkzZ2B23WBXjJgPiIXQREREZS8ALVy4EKNHj8aECRNw8OBBNGnSBN27d0dERES223t6euLdd9/Frl27cOTIEQwZMkRd1qxZY9hm2rRpmDFjBubMmYM9e/aooCT7TExMRGmbEJGF0ERERGUwAH3++ecYOnSoCjH169dXocXR0RE//PBDttt36NABffv2Rb169VCjRg2MHDkSjRs3xvbt2w2tP9OnT8d7772H3r17q+fmz5+Pa9euYdmyZTCrofDXDwNpua/2ziUxiIiIylgASk5OxoEDB1QXleGALC3VfWnhyYuEnQ0bNuDUqVN48MEH1WPnz59HWFhYpn26ubmprjVj9lkiPGsAdm5AaiIQcdyoLrBzLIQmIiIqGwEoMjISaWlp8PHxyfS43JcQk5Po6Gg4OzvD1tYWvXr1wsyZM9G1a1f1nP51+dlnUlISYmJiMl2KlaUlUOkBo+YDquhyrxD6+LViPi4iIqJywuRdYAXh4uKCw4cPY9++ffjoo49UDdHmzZsLvL/JkyerViL9pUqVKii5OiDjZ4Q+ciWquI+KiIioXDBpAPLy8oKVlRXCw8MzPS73fX19c3yddJPVrFlTjQAbM2YM+vfvr0KM0L8uP/scO3asalXSXy5fvoySWxKDM0ITERGVqwAkXVhBQUGqjkcvPT1d3Q8JCTF6P/Ia6cYS1atXV0En4z6lS0tGg+W0Tzs7O7i6uma6lFgL0I1TQGLuXVsshCYiIipa1jAx6b4aPHiwmtunRYsWagRXfHy8GhUmBg0ahEqVKhlaeORatpURYBJ6Vq5cqeYBmj17tnrewsICo0aNwqRJk1CrVi0ViMaNGwd/f3/06dMHZsPZG3CrCkRfAq4dAgLbG10I7Wxn8h8bERFRqWbyb9IBAwbgxo0bauJCKVKWbq3Vq1cbipgvXbqkurz0JBwNHz4cV65cUZMc1q1bF7/88ovaj96bb76ptnvppZcQFRWFtm3bqn3KRItmRQqhJQBJN1guAUgKoX1d7REWk6gKoVtU9yzRwyQiIiprLHQylpwykS4zKYaWeqBi7Q7bORNY+x5Q92Fg4K+5bjp0/n6sOx6OcQ/XxwttqxffMREREZWD7+9SOQqszNDXAclQ+LxWhmchNBERUZFhADIlvyaAhRUQFwbEXDMqAHEoPBERUeExAJmSrRPgXd+o4fCcEZqIiKjoMACZWmXjFkbVF0JzRmgiIqLCYwAytUp3J0S8kvfK8PpWIM4HREREVDgMQOZSCC1zAaWn5bopC6GJiIiKBgOQqVWsA9g6AynxwI2TuW7auDJbgIiIiIoCA5CpWVoB/s2MqgPSd4GdvRGHeBZCExERFRgDkLnNB2RsIfR1FkITEREVFAOQOQWgPFqAMrYCHbnCbjAiIqKCYgAyB5XvjgSLOA4kx+e6KQuhiYiICo8ByBy4+gMufoAuHbh2ONdNG1XW1jZhITQREVHBMQCVsm4wFkITEREVHgOQ2QWg3AuhvV3sWQhNRERUSAxA5lYHdPWg8TNCsxCaiIioQBiAzIVfUwAWQPRlIDY8101ZCE1ERFQ4DEDmwt4VqFjXqDogFkITEREVDgOQWa4Mn3sdUKNK7uo69EYcou+klMSRERERlSkMQKVwJJjMCF2jopMqhN519mbJHBsREVEZwgBkTiplKIROT89103a1KqrrbWdulMSRERERlSkMQObEuz5g7QAkxQA3Q3PdtG1NL3W9PTSyhA6OiIio7GAAMidW1oB/U6PqgFrVqABrSwtcvJmASzcTSub4iIiIyggGoFK6MryznTUeqOqhbm8LZTcYERFRfjAAmW0A2pvnpm1r3e0GO8NuMCIiovxgADI31Vpr12HHgPibRgWgnWdvIi1dVxJHR0REVCYwAJkbF1+tGBo64PzmXDdtXMkNrvbWai4gTopIRERkPAYgc1Sjk3Z9dlOum1lbWaJ1Da0VaNtp1gEREREZiwHIHAV2vBeAZLZDI7rBtnE4PBERkdEYgMy1DsjKFoi5kud8QO3uBqBDl24jPim1hA6QiIiodGMAMke2jkCVlkZ1g1Wr4ISqno5ISdNhz3kui0FERGQMBiBzVeNuN9i53ANQxm6wrafZDUZERGQMBiBzL4Q+vw1Iy33F93ZcFoOIiChfGIDMlW8TwMETSI7Nc3V4GQlmaQGERsThevSdEjtEIiKi0sosAtCsWbMQEBAAe3t7tGzZEnv35jwL8rfffot27drBw8NDXbp06ZJl++eeew4WFhaZLj169ECpYmkJBLbXbp/dmOumbo42aFzZXd3mrNBERESlIAAtXLgQo0ePxoQJE3Dw4EE0adIE3bt3R0RERLbbb968GU8++SQ2bdqEXbt2oUqVKujWrRuuXr2aaTsJPNevXzdcfv/9d5Tq4fB50I8G28YAREREZP4B6PPPP8fQoUMxZMgQ1K9fH3PmzIGjoyN++OGHbLf/9ddfMXz4cDRt2hR169bFd999h/T0dGzYsCHTdnZ2dvD19TVcpLWo1BZCSxdYYu4zPbe9Wwe0IzQS6VwWg4iIyHwDUHJyMg4cOKC6sQwHZGmp7kvrjjESEhKQkpICT0/PLC1F3t7eqFOnDoYNG4abN3MeIp6UlISYmJhMF7PgXhWoUBPQpWnF0LloVtUDTrZWuBmfjBNhZnL8REREZsqkASgyMhJpaWnw8fHJ9LjcDwsLM2ofb731Fvz9/TOFKOn+mj9/vmoVmjp1KrZs2YKePXuq98rO5MmT4ebmZrhIt5rZdYPlMRze1toSrQIrqNusAyIiIjLzLrDCmDJlChYsWIClS5eqAmq9gQMH4tFHH0WjRo3Qp08fLF++HPv27VOtQtkZO3YsoqOjDZfLly/D7LrBjKgDMiyLwQBERERkvgHIy8sLVlZWCA8Pz/S43Je6ndx8+umnKgCtXbsWjRs3znXbwMBA9V6hodkvKyH1Qq6urpkuZiOgLWBhBdw6C9y+aFQh9N4Lt5CYkn1rFxEREZk4ANna2iIoKChTAbO+oDkkJCTH102bNg0ffvghVq9ejeDg4Dzf58qVK6oGyM/PD6WOvRtQOdiobrAaFZ3h52aP5NR07Ltwq2SOj4iIqBQyeReYDIGXuX1++uknnDhxQhUsx8fHq1FhYtCgQaqLSk9qesaNG6dGicncQVIrJJe4uDj1vFz/73//w+7du3HhwgUVpnr37o2aNWuq4fWlelboPLrBZL4j/WgwdoMRERGZcQAaMGCA6s4aP368Gtp++PBh1bKjL4y+dOmSmsdHb/bs2Wr0WP/+/VWLjv4i+xDSpXbkyBFVA1S7dm288MILqpVp27ZtqqurVNIXQp/fAqTn3rXFOiAiIqK8Weh0Ok4acx8ZBi+jwaQg2izqgdJSgWnVgaQYYOgmoNIDOW4aGZeE4Enr1e1973ZBRZdSGvqIiIiK8fvb5C1AZAQrayCgnVF1QF7Odmjgr/3Qd55lKxAREVF2GIBKiwIMh996mgGIiIgoOwxApa0O6NJuIDk+103b1ayorreH3gB7OImIiLJiACotKtQA3KoC6SnAxZ25bhoc4AE7a0uExyQhNEIbHUdERET3MACVFhYWQI0ORnWD2dtYoUV1bW00jgYjIiLKigGoNDFyXbCMs0JvO3OjuI+KiIio1GEAKk0CpQXIAog4DsTmvlhs27t1QHvO31IzQxMREdE9DECliaMn4NdEu30u+4Vd9er6uqgh8QnJadgRym4wIiKijBiASu2yGBtz3czS0gKPNNHWPvt976WSODIiIqJSgwGotM4HJC1AeQxxf6pFVXW94WQEwmMSS+LoiIiISgUGoNKmSkvAxhGIC9dqgXJRy8cFzQM8kJauw6J9l0vsEImIiMwdA1BpY20HVGtt9KzQT95tBVqw77IKQkRERMQAVOaHwz/UyA9uDja4GnUHWzkknoiISGEAKs2F0Be2A7cv5Dkp4mMPVFK3f9/DYmgiIiLBAFQaedcDqrYGUhOBP18G0tNy3ZzF0EREREUQgC5fvowrV64Y7u/duxejRo3CN998U5DdUUGWxeg7G7B1AS7vBrZ/kevmLIYmIiIqggD01FNPYdMmrf4kLCwMXbt2VSHo3XffxQcffFCQXVJ+eQQAD32i3d48Gbh6MNfNn2rJYmgiIqJCBaBjx46hRYsW6vaiRYvQsGFD7Ny5E7/++ivmzZtXkF1SQTQZCNTvA6SnAn8OBZLjc9y0Z0MWQxMRERUqAKWkpMDOzk7dXr9+PR599FF1u27durh+/XpBdkkF7Qp7+AvAxQ+4GQqsHZfjpiyGJiIiKmQAatCgAebMmYNt27Zh3bp16NGjh3r82rVrqFChQkF2SYVZH6zPbO32/u+B02ty3JTF0ERERIUIQFOnTsXcuXPRoUMHPPnkk2jSRFug8++//zZ0jVEJL4/RaoR2+68RQFz2XVwshiYiItJY6HR5LCiVg7S0NMTExMDDw8Pw2IULF+Do6Ahvb2+UZvK53NzcEB0dDVdXV5QKKYnAtx215TFq9wSe/F3rIrvP0kNX8PrCf1HJ3QFb3+wIK8us2xAREZX17+8CtQDduXMHSUlJhvBz8eJFTJ8+HadOnSr14afUsrEHHvsWsLIFTq8CDmRfjM5iaCIiogIGoN69e2P+/PnqdlRUFFq2bInPPvsMffr0wezZd+tRqOT5NgQ6T9Bur3kHiAzNthi63wOV1e3fWAxNRETlVIEC0MGDB9GuXTt1e8mSJfDx8VGtQBKKZsyYUdTHSPnRajhQ/UEgJUEbGp+WkmWTJ1tUUdcbT0YgLJrF0EREVP4UKAAlJCTAxcVF3V67di0ee+wxWFpaolWrVioIkQlZWgJ95gD2bsC1g8CWabkWQy/ez2JoIiIqfwoUgGrWrIlly5apJTHWrFmDbt26qccjIiJKT9FwWeZWCXh4unZ726fA1QNZNuHM0EREVJ4VKACNHz8eb7zxBgICAtSw95CQEENrULNmzYr6GKkgGj4GNHoc0KUDf4/M0hXGYmgiIirPChSA+vfvj0uXLmH//v2qBUivc+fO+OKL3BfmpBLUfTLg4AGEHwV2f53pKRZDExFReVagACR8fX1Va4/M/qxfGV5ag2Q5DDITzhWBbpO025smA7cvZHr6qZYshiYiovKpQAEoPT1drfoukw1Vq1ZNXdzd3fHhhx+q58iMNH0aCGgHpN4BVowBMsx7WdPbBS0CPFUN0MgFh3AnOc2kh0pERGTWAejdd9/FV199hSlTpuDQoUPq8vHHH2PmzJkYNy7nBTnJhAumygSJoeuBY39kenr8I/XhYmeNPedv4aWf9yMplSGIiIjKvgItheHv768WQ9WvAq/3119/Yfjw4bh69SpKs1K5FEZeNk8FNn8MOFUEXt2n1Qbdtf/CLTz7/V7cSUlD1/o++PrpB2BjVeDeUSIiorK5FMatW7eyrfWRx+S5/Jo1a5YaUWZvb69mld67d2+O23777bdqEkZZhkMuXbp0ybK9ZDoZqebn5wcHBwe1zZkzZ1CutR0FeNUB4m8A68Zneio4wBPfDQ6GrbUl1h0Px+hF/3JoPBERlWkFCkCy+rt0gd1PHmvcuHG+9rVw4UKMHj0aEyZMUDNMy767d++u5hTKzubNm9UK9Js2bcKuXbtQpUoVNQ9RxlanadOmqRmppZVqz549cHJyUvtMTCzHhb7WdsAjX2q3D84HLu7M9HSbml6Y+0wQbKws8M+/1/D2H0eQzhBERERlVIG6wLZs2YJevXqhatWqhjmAJIzIxIgrV640LJNhDGnxad68uSFQSRG1hJrXXnsNb7/9tlGr0ktLkLx+0KBBqvVHuujGjBmj5ioS0hQmy3XMmzcPAwcOLJ9dYHp//x9w8CfAqzbwynYtGGWw6uh1jPjtICT7DAqphomPNoBFNqvKExERlbsusPbt2+P06dPo27evWgxVLrIcxn///Yeff/7Z6P0kJyfjwIEDqovKcECWluq+BCpjl+VISUmBp6enun/+/HmEhYVl2qecDAlaOe1TVraXk5bxUmZ1nQg4eQORp4Htd2eLzqBnIz989kQTVTs9f9dFTFl1UoVKIiKisqTAla7SyvLRRx/hjz/+UJdJkybh9u3b+P77743eR2RkpGrBkdaZjOS+hBhjvPXWW+pY9IFH/7r87HPy5MkqJOkv0gJVZknxc4/J95bJiMxaG9W3WWV81KeRuj136zl8uaGc108REVGZU6qH+sgw/AULFmDp0qWqgLqgxo4dq5rL9BfpyivTGvYDanYF0pKBf0Zlmhso41ph4x+ur25PX38Gc7ecNcGBEhERlcEA5OXlBSsrK4SHh2d6XO7LTNO5+fTTT1UAkvXHMhZe61+Xn33a2dmpvsKMlzJN+rd6fQbYOAIXtwOHfsl2s+fbVsf/utdRtyevOok/D2ozfhMREZV2Jg1Atra2CAoKwoYNGwyPSRG03NcXV2dHRnnJrNOrV69GcHBwpueqV6+ugk7GfUpNj4wGy22f5Y5HNaDDWO322veAuOwXRB3RsSZeaV9D3Z62+hQnSiQiojLBOj8bS6FzbqQYOr9kCPzgwYNVkJG1xKZPn474+HgMGTJEPS8juypVqqTqdMTUqVPVHD+//fabmjtIX9fj7OysLjJiadSoUaomqVatWioQyezUUifUp0+ffB9fmdZqOHB0ERB2FNj55b11w+7zetdaWHroCsJiEvHnwat4skXVEj9UIiIikwUgKRDO63kJLPkxYMAA3LhxQ4UaCTNNmzZVLTv6ImZZdV5GhunNnj1bjR6TFekzknmE3n//fXX7zTffVCHqpZdeUqGsbdu2ap+FqRMqk6ysgY7vAb8PAA7MB9q/Bdi5ZNnMztoKQ9sFYtKKE5i9+SweD6oMa84UTURE5W0eoLKuTM8DdD9ZvHZWc+BmKNBjKtDqlWw3S0hORdupm3ArPhnTBzRFn2aVSvxQiYiITDoPEJUh0rrWaph2e89sID37Gh9HW2s83yZA3Z61KZSzRBMRUanGAERAkycBe3fg9gXg1KocN3s2JECtHH8mIg5rj2ceZUdERFSaMAARYOsEBGtF59j9dY6buTnYYHDre61A7D0lIqLSigGINC1eAiytgYs7gGuHctxM5gZysLHC0avR2HomskQPkYiIqKgwAJHG1R9ocHeag105twJ5OtmqWaLFrI2hJXV0RERERYoBiO4JGa5d//cnEHMtx81eejAQtlaW2HvhFvaev1Vyx0dERFREGIDoHv9mQNXWQHoqsPebHDfzcbVH/+DK6vZXm9gKREREpQ8DEGUWMkK73v8jkByf42bD2teAlaUFtp6+gSNX8j8DOBERkSkxAFFmdXoCHgFAYhTw7+85blbF0xG9m/gbRoQRERGVJgxAlJmlFdDy7sSIu2VixPQcNx3esYZaWH7Nf+E4HR5bcsdIRERUSAxAlFWzpwE7N215jDNrc9ysprcLejTwVbe/ZisQERGVIgxAlJUsiBp0d1Hb3bNy3XREx5rq+u9/r+HizZxrhoiIiMwJAxBlr8XLgIUVcH4rEHY0x80aVnJDhzoVIUuDzdlytkQPkYiIqKAYgCh77lWA+o/mOTGiePVuK9CSA1dwLepOSRwdERFRoTAAUc5CXtWujy0BYnNe/DQ4wBMtq3siJU2Hb7aeK7njIyIiKiAGIMpZ5WCgcgsgLRnY912um77WqZa6/m3vJbYCERGR2WMAIuOWx9j/PZCSc7BpU7MCWgV6Ijk1HV+uP1Nyx0dERFQADECUu7qPAG5VgYSbwJGFOW5mYWGBN3vUVbcXH7iM0Ii4EjxIIiKi/GEAotxZWQMtX9Zu7/0O0Oly3PSBqh7oVt9HjQj7bO2pkjtGIiKifGIAorw1fQqwsgPCjwJXD+S66Rvd68DSAlh1LAyHL3ONMCIiMk8MQJQ3R0+g4WPa7f0/5LppbR8XPPaAtlL81FUnoculxYiIiMhUGIDIOMHPa9fH/gDu3M5101FdasHWyhK7zt3E9tDIkjk+IiKifGAAIuNUbg74NARSE4F/F+S+qYcjnmlVTd2etvoU0qUoiIiIyIwwAJFxZNn34CH3usHy6Noa0bEGnGytcPRqtKoHIiIiMicMQGS8Rk8ANk5A5Gng4o5cN63gbIehDwaq25+uPYWUtPQSOkgiIqK8MQCR8exdgcaPG1UMLV5sFwhPJ1ucj4xX64QRERGZCwYgKlgx9PG/gbgbuW7qbGdtWCh1+vrTSExJK4kjJCIiyhMDEOWPXxOgUhCQngIc/jXPzZ9uVRWV3B0QHpOEn3ZeKJFDJCIiygsDEOVf0N1i6AM/Aum51/bYWVvh9a611e2vN59F9J2UkjhCIiKiXDEAUf7JpIh2bsDtC8C5TXlu3rdZJdT2cVbhZ+6WsyVyiERERLlhAKL8s3UCmgw0uhjaytIC/+uuLZT6w47ziIhJLO4jJCIiyhUDEBWMfk6gU6uAmGt5bt6lnjceqOqOxJR0zNh4pviPj4iIyJwD0KxZsxAQEAB7e3u0bNkSe/fuzXHb//77D/369VPbW1hYYPr06Vm2ef/999VzGS9162qtD1SEvOsBVVsDujTg4M95bi4/h7d6aD+H3/dext7zt0rgIImIiMwwAC1cuBCjR4/GhAkTcPDgQTRp0gTdu3dHREREttsnJCQgMDAQU6ZMga+vb477bdCgAa5fv264bN++vRg/RTmmHxJ/8CcgLTXPzVsGVlD1QGnpOrz2+0FExiUV/zESERGZWwD6/PPPMXToUAwZMgT169fHnDlz4OjoiB9+yL6upHnz5vjkk08wcOBA2NnZ5bhfa2trFZD0Fy8vr2L8FOVY/UcBxwpAzFXgzFqjXjKpT0PUqOikhsW/vvAw1wkjIqLyFYCSk5Nx4MABdOnS5d7BWFqq+7t27SrUvs+cOQN/f3/VWvT000/j0qVLRXDElIW1HdD06XtD4o3gZGeNr58Ogr2NJbadicSsTaHFe4xERETmFIAiIyORlpYGHx+fTI/L/bCwgi+eKXVE8+bNw+rVqzF79mycP38e7dq1Q2xsbI6vSUpKQkxMTKYLGSnoOe36zDrg9kWjXlLH1wUf9G6obn+x/jR2no3MvIGMLPtnFJDKLjIiIiqjRdBFrWfPnnj88cfRuHFjVU+0cuVKREVFYdGiRTm+ZvLkyXBzczNcqlSpUqLHXKpVqAEEdgCg02qBjPREcBX0D6oM6QEbueAwbsQmaSvMb5oMLH9da1E68U+xHjoREZVfJgtAUpdjZWWF8PDwTI/L/dwKnPPL3d0dtWvXRmhozl0tY8eORXR0tOFy+fLlInv/8lUM/TOQmmz0yz7s3VBNkCjhZ+TvB5G+4UNgy5R7G5z4uxgOloiIyIQByNbWFkFBQdiwYYPhsfT0dHU/JCSkyN4nLi4OZ8+ehZ+fX47bSEG1q6trpgvlQ52HAGcfID4COLXC6Jc52Frh66cfgKOtJdpfmgnL7Z9pTzR79l63WsqdYjpoIiIqz0zaBSZD4L/99lv89NNPOHHiBIYNG4b4+Hg1KkwMGjRItc5kLJw+fPiwusjtq1evqtsZW3feeOMNbNmyBRcuXMDOnTvRt29f1dL05JNPmuQzlgtWNsADg7Tba8drwcVINSs64++ay/GytRacQoPHA4/OBNyqACkJwNmNxXXURERUjpk0AA0YMACffvopxo8fj6ZNm6owI8XL+sJoGb0l8/joXbt2Dc2aNVMXeVxeK7dffPFFwzZXrlxRYadOnTp44oknUKFCBezevRsVK1Y0yWcsN5q/CLhWAqIvAb/2B34bANzMY90vWUh1xRjUPPeLuvtOygsYcKgxwqUeqN4j2jbH2Q1GRERFz0Knk8pTykhGgUkxtNQDsTssHxKjgS3TgD1zgPRUwMoWCBkBtHsDsHPOGn6WjwQOzpdfQ6T0+hKP7KiOk2GxaFHdE791S4P1T70AezfgjVDA2tZUn4qIiMrg93eZGwVGJiRhpftHwLBdQI3OQFoysP0L4Ktg4MgibZSXSE8D/hqhhR8LS6DvXNg0H6zqgZxsrdQyGdNPeQBOFbVQdWGbqT8ZERGVMQxAVPQq1gae+QN4cgHgEQDEXgf+HAr80B24cgBY+jLw72+AhRXw2LdAkwHqZYEVnTGlX2N1+6vNF3DKo722Pw6HJyKiIsYARMXDwgKo0xMYvgfoPB6wcQQu7wG+6wQcXQxYWgP9fwAa9c/0skea+OPlBwPV7Unnaqpr3cnlWqsRERFREWEAouJlYw+0GwO8uh9o9Lj2mKUN8MR8oEGfbF/yds+6eL1LbexOr49onSMs4m8g7eLukj1uIiIq01gEnQ0WQRejsGPasPmKdfLc9OfdF+G4YgT6WW3DRvf+aPPqN7CztiqRwyQiotKHRdBkvnwbGhV+xLOtqqFam4Hqdu3bm/H8j3sRl5RazAdIRETlAQMQmbXgzv2QZuWAyhaRiDm3H099uxs347hIKhERFQ4DEJk3GwdY1emmbva1P4AjV6Lx+JxduHI7wdRHRkREpRgDEJm/eo+qq2fc/kUlN3uci4xH/9m7cDo81tRHRkREpRQDEJm/Wt3UrNK2Uefw1xMVUMvbGWExiaol6AxDEBERFQADEJk/e1cgsKO66XVlLRa/EoKmVdwRfScFn6w5ZeqjIyKiUogBiEqH+lo3GE78DXdHW3z6eBM11+La4+E4FcZWICIiyh8GICodavfUls4IOwrcOo+a3s7o2dBXPfX15lBTHx0REZUyDEBUOjhVAALaZFobbHgHbamMf/69hguR8aY8OiIiKmUYgKjUjQbTB6CGldzQsU5FpOuA2ZvPmvbYiIioVGEAotKj7sPa9ZW9QMw1dfPVTrXU9Z+HruBa1B1THh0REZUiDEBUerj6AZVbaLdPrlBXQdU8EBJYASlpOnyz9Zxpj4+IiEoNBiAqXeo9ol2f+Nvw0KudtFqg3/dewo1YLpNBRER5YwCi0hmALuwA4m+qm61rVFDzAiWlpuP77edNe3xERFQqMABR6eJZHfBtBOjSgFMr1UMWFhZ4taPWCvTzrguISkg28UESEZG5YwCiUj8aTHSu5426vi6IT07DvJ0XTHdsRERUKjAAUekNQOc2AYkx91qB7tYC/bjjAuKSUk15hEREZOYYgKj0qVgHqFALSEsG/ltqeLhnQz8EVnRSa4T9uvuiSQ+RiIjMGwMQlT6yCFizZ7TbGyYaiqGtLC0wrH0NdfvbbeeRmJJmyqMkIiIzxgBEpVOr4YB3fSDhJrBmrOHhPs0qoZK7AyLjkrBw32WTHiIREZkvBiAqnaxtgUdnSnMQcGQhcGa9etjGyhKvtA9Ut+duOYvk1HQTHygREZkjBiAqvSoHA62GabeXjwKS4tTNx4OroKKLHa5FJ2LZoaumPUYiIjJLDEBUunV6D3CvCkRfBjZ+qB6yt7HCS+20VqDZW84iTVZLJSIiysBCp9Px2+E+MTExcHNzQ3R0NFxdXU19OJSX0A3AL49p3WEvrAOqNEd8UiraTN2IqIQUBFfzgIOtFVLTdCoMpel0SE3XIT393rWMHutU1xsd63rDy9nO1J+IiIiK+fubASgbDECl0NJXgH9/ByrWA17eqmqEZm0KxSdrTuV7gFmTyu4qDMmlgb+rmmOIiIjMHwNQITEAlUIJt4CvmgMJkUCHd4AObyE1LR1r/gtXw+FliLxcrC0tYHnftfSQHbh4G5tORuDo1ehMu/VxtbsbhnzQtqaXakkiIiLzxABUSAxApdTRJcAfLwCWNsAr2wHvuvneRXhMogpCG05GYEdoJBKS780lVNnDAUteaQ1fN/siPnAiIioKDECFxABUSsmv8u8DgdOrgcotgOdXA5YFb7GRlqM952+pQLTi6HXciE1Co0puWPRyCFuCiIhK+fe3yUeBzZo1CwEBAbC3t0fLli2xd+/eHLf977//0K9fP7W91GVMnz690PukMkRqdXp9Dti6AFf2Avu+L9TuZDRZ+9oV8f6jDfDnsNbwdLJVXWSjFx1WhdNERFR6mTQALVy4EKNHj8aECRNw8OBBNGnSBN27d0dERES22yckJCAwMBBTpkyBr69vkeyTyhi3SkCXCfeWyYgqmtmgq3g6Yu6zQbC1ssSqY2H4bF3+iquJiMi8mLQLTFpnmjdvjq+++krdT09PR5UqVfDaa6/h7bffzvW10sIzatQodSmqfeqxC6yUS08H5j0EXNoF1OoGPLVIax3Sk1/5tBQgJQFIuaNdJ0YDd27fu0hRtbp96959v8b4w/d1jFlyVO3m8yea4LEHKpvucxIRUYG/v61hIsnJyThw4ADGjr23jpOlpSW6dOmCXbt2leg+k5KS1CXjCaRSzNISeGQGMKcNcGYt8FWwtnK8CjuJWuDRFWCh1Kv70e/RZgjt0AKzN5/F238cRVVPRwQHeBbHpyAiomJksgAUGRmJtLQ0+Pj4ZHpc7p88ebJE9zl58mRMnDixQO9JZqpibaD9W9rs0DdDc97OwhKwcQTs3QAHT8DBHXCUa4+79z20+2HHgD2zgXXj8b8R+3HuRpwaYv/yzwewbEQb1UVGRESlh8kCkDmRFiOpG8rYAiTdZlTKtRsDVGsNpKdqIcfGQbtY372Wx6xsMneP5US6zM5vBSL+g+XGifhiwBd4Yu4uHLsagxd+2oc/hrWGi71NSXwqIiIqzUXQXl5esLKyQnh4eKbH5X5OBc7FtU87OzvVV5jxQmWABBsJQNUf1BZO9WkAeAYCrn5aS4+sKG/sLM8SlHp9pt0+OB+O4Qfx3aDm8Haxw+nwOLz2+yE18SIREZUOJgtAtra2CAoKwoYNGwyPScGy3A8JCTGbfRIZVAsBmj6j3V4+Gr7O1vhucDDsbSyx+dQNfLTyhKmPkIiISsMweOl2+vbbb/HTTz/hxIkTGDZsGOLj4zFkyBD1/KBBgzIVNEuR8+HDh9VFbl+9elXdDg0NNXqfRIXSdSJg7w6EHwX2foPGld3x+RNN1VM/7riAX/dcNPUREhGRudcADRgwADdu3MD48eMRFhaGpk2bYvXq1YYi5kuXLqlRXHrXrl1Ds2bNDPc//fRTdWnfvj02b95s1D6JCsXJSwtB/4wENn0ENOiDhxr5Y0zX2vhs3WmMW3YM52/EY1TX2nC2Y4kdEZG54lIY2eA8QJTnPEPfd1XD4tHgMeDxHyH/G7277Bh+23PJsIjq+Icb4KFGvlxNnoiohJSqpTCISh1plXz4c20I/X9/Amc3qpDzcd9G+HFIczU3UHhMEkb8dhCDftirhswTEZF5YQAiKgi/JkCLl7TbK94AUrWJNDvW8cba1x/EyM61YGttiW1nItFj+jZ8vvaUWlyViIjMAwMQUUF1fAdw9gFunQV2fJlpEdXXu9bG2lEP4sHaFZGclo4ZG0PR9Yst2Hgy8xQNRERkGgxARAUls0d3/1i7vfVT4Na5TE8HeDnhpyHNMfvpB+Drao/Lt+7g+Xn7MXT+foRFJ5rmmImISGEAIiqMhv2A6u2BtCRg1VvaQqsZSG1Qz0Z+2DCmPV5+MBDWlhZYdzwc3b7Ygr8OX1XF00REVPIYgIgKQ0Z4yQzRljbawqsnl2e7mZOdNcY+VA8r/q8dGld2Q0xiKkYuOKwKpW/FJ5f4YRMRlXcMQESF5VULaDNSuy2tQGFHc9y0jq+LWjfs9S61VWvQyqNh6PbFVmw4wdogIqKSxABEVFQLr3oEADFXgTntgKWvAFGXs93UxsoSI7vUwtLhbVDL2xmRcUl44af9eHPJv4hNTCnxQyciKo84EWI2OBEiFUjUJWDdeOC/pdp9Kzug5ctAu9GAg0e2L5Gh8Z+tPYXvtp+HpS4Nj7iE4p2q/8E7cg8Q/DzQ9nXjF2wlIirnYvLx/c0AlA0GICqUKwe0IHRxu3Zf1g578A2g+VDAxj7ztvK/35X9CNvxM2xO/oUKiMr8fMirQLdJDEFEREZgACokBiAqNPnfSoqi100AbtxdJd6tCtBpHNDoceDGSeDYEuDoEiDq3gKqCVauWJrUHLfhjFet/1KP7fV8BFfbfoQWgd6o5O5gqk9ERGT2GIAKiQGIikx6GnD4N2DTx0DsNe0xB0/gzq1729g4AXV7AY36A4EdselsFD5ZfQoNIv7GFOtvYWWhwz9prfB6ynD4uLugZXVPNK/uiRbVPRHo5cS1xoiI7mIAKiQGICpyyQnAnjnA9i+ApBht2Hytrto8QnV6ArZOWV4SlZCMi9t+Q8PdY2ClS8XG9GYYljwSSbA1bBNQwRGPB1dB/6DK8HG9r3uNiKiciWEAKhwGICo2CbeAa4cA/2aAo6dxrzmzDlj4DJCaiCjvFvglYAq2XU7GoctRSE5NV5tYWgAd6njjieAq6FzPW400IyIqb2IYgAqHAYjMzoUdwG8DgORYwP8B4Jk/EG/lihVHr2Px/svYd+G2YVMvZ1v0bVYJA5pXQU1vF5MeNhFRSWIAKiQGIDJL0nL082Na/VDFesCgZYCLr3rq7I04LNl3AfsP7odvwhnUt7yIehaX0NDmCtIcvfFvzRG4Xam9mpHaydZaXTvaWmn37azg7mCrVq8nIirNGIAKiQGIzFbESeDnPkDsdW3ixRYvAxHHgfBjQMQJ1U2Wky1pjfFR6tM4rauS5TkXe2tMfLQBHnugcjF/ACKi4sMAVEgMQGTWbl8A5vfWru8nI8p8GgC+DRHjXhebb3nB/dJatI5cAmukIh2WWG3XA99ZDcDVVGfEJ6UhPjnVsIZrvwcq44PeDVTLEBFRacMAVEgMQGT2Yq4DK0Zrt30aqsCjrj2qA5bZdGXdOqdNznjiH+2+nau2fEerYUiztMVXG0Px5YbTSNcBNSo64aunHkA9P/7uE1HpwgBUSAxAVKaLqdeMBa7/q913rwZ0/QCo3xu7z9/CyAWHEB6TpOqBxj9cH0+3rMp5hoio1GAAKiQGICrT0tOBIwuADR9otUTCqw5g74qUtHRcuhmP2MRkSOxxd7BGZXd7WMkdK1ute61SkHbxrgdYWkH+hIRGxGF7aCSOXolGv6DKaFPTy9SfkojKoRgGoMJhAKJyITke2PElsGMGkHon3y9PtXLABdva2JVUDbsSA/Bveg1chRcsLSzwbq/6eL5NAFuPiKhEMQAVEgMQlSuxYcDVA9r6ZRaWdxdetcC5yHjM3noON2KTVah5tL4bPKKPw+XmEdRKPQMXi6yhKcbKHUuSWuH71J5oE9wMH/ZpCDtrK5N8LCIqf2IYgAqHAYhIE5OYgrF/HsWKI3e7yu6yskhHT984POR5FQ9YnYN3zH+wjDgGpKeq51N1lvgnPQQ7vJ/C20Meh5eznYk+ARGVJzEMQIXDAER0j/yJWLjvspp1ukZFZ1Xf0zLQE672Npk3TEkELmwDds4Ezm8xPLzbshl8e76FgOAed1uXiIiKBwNQITEAERXStUOI3fg5HEOXwwraemXRHg3g1vkNoN6jgBXnGSIi035/c+57Iip6/s3g8szPiH9pL9Y6PYo7Olu43f4PWDIEuq+CgCOLTX2ERFTOMQARUbFx9a+FTqN/wszGSzE99THc0jnDQmaw/vNFYNkIIDmhcKPYspsNm4jICAxARFSsrK0s8Wa/tvB5dCIeTPlKBaE0+dNz+Bekzu0I3DiVvx1Kr/2RRcCMZsCXTbQFYmWCRyKifGANUDZYA0RUPPacu4lXfz+EmvEHMcPmK1S0iEaShT2utv0Y1Ts9n/e8QeHHgZVvABezCTxVQ7TlPWp2YbE1UTkVwyLowmEAIio+iSlpWHn0Ov7ZcQhDIz5Ga6vj6vGVtt0R0+FDPBJUI+tirIkxwOYpwJ45gC4NsHYAHrxbUL1nNnDoFyAtWdvWt7EWhOo9omaqLvE5ldLTALdKJfu+RKQwABUSAxBRyTh2+RbC/p6IThE/wdJChxPpVfE/i9EIDmqBVoEVEJOQDM8Lf6PlmS/gkhKpXrPbrg2+tH4OJ++4Iyk1HZ5OtqhlH4sBaf+gY9xy2KVrEzTGOAfiaoOXkdawPwK83eFcnCvcy/IiEsTWT9TuPzEfqNOj+N6PiMpGAJo1axY++eQThIWFoUmTJpg5cyZatGiR4/aLFy/GuHHjcOHCBdSqVQtTp07FQw89ZHj+ueeew08//ZTpNd27d8fq1auNOh4GIKKSFX98HSyXDoVDym3E6ewxNuVFnNRVxYc2P6KV5Qm1zfl0H7yf+hy2pDfJcT/uiMUQ6zV4zmo13Cy0AutrOk/sS6+L67YBuONeC1Y+9eFZuRYCfdxQs6IzKrrYFW7JjtsXgWXDgYvb7z1maQ30nQs06l/w/RJR2Q5ACxcuxKBBgzBnzhy0bNkS06dPVwHn1KlT8Pb2zrL9zp078eCDD2Ly5Ml4+OGH8dtvv6kAdPDgQTRs2NAQgMLDw/Hjjz8aXmdnZwcPDw+jjokBiMgEYq5Dt+R5WFzaqe5KobTMIZRsYYcdfs/hZI3n4ObsDE8nG3g42sLDyRa2Vpa4lZCMm3HJuBWfhEh1nYy46FtoFrEU3WKWwFMXleWtEnU2CNVVwmldZVyyqop4t1qo27IH+raqB0tLI8OQ/OmUrrfVY4HkWMDGCej2IXBpF3BUhvlbAI9MB4KeK+ozRURlIQBJ6GnevDm++uordT89PR1VqlTBa6+9hrfffjvL9gMGDEB8fDyWL19ueKxVq1Zo2rSpClH6ABQVFYVly5YV6JgYgIhMJC0V2DwZ2Papdr/uw0CPyYB71YLtL+UOcH4r7lw9hoQrx2Bx4yRcYs/CRpeUZVOZq2i/fQgCOg5BleYPA1b3zXSdUWw48M9I4PQq7X6VVkDf2YBnoNYdtnIMsP8H7bluk4DWrxXs+Imo2L6/TToda3JyMg4cOICxY8caHrO0tESXLl2wa9eubF8jj48ePTpL99b9YWfz5s2qBUlafTp16oRJkyahQoUKxfRJiKhIyAzRnccBdR8C0lKAqq0Ktz8bB6B2dzjIRf+YFCnL/EE3TiIl7DgSrhwFrh6E253LaJe0BVi9BfHr3WHTpD9smz0JVArKPKrs+F/AP6OAO7cAK1ug47tawNEXXFtaAr0+B+xcgB1fAmvf04q4O75j/Oi0hFtA2BGtoNvRE2Yh/iYQfUlNcklUFpg0AEVGRiItLQ0+Pj6ZHpf7J0+ezPY1UieU3fbyuF6PHj3w2GOPoXr16jh79izeeecd9OzZU4UnK6uso0KSkpLUJWOCJCITktBRXCSoVKihLjZ1e8FNHtPpcOPMHhxZ8Q0aR61HxdQo4MB36qLzDIRF4wFAnZ7ArlnAkYXafnwaAY/NBXwaZH0PCTpdPwDs3YANHwBbpwFJsUD3j7WAlB1pjL+yD9j/I/Dfn0BqImBhCVQKBmp3A2p10wJRSQ/xV119PwNr3gOSooEOY4EOWVvniUqbMrkgz8CBAw23GzVqhMaNG6NGjRqqVahz585Ztpd6ookT747eIKLyx8ICFWu3QufarbD5xDX8s+x3tEnYiB6W++B465zWLScXta0l0PZ1oP3bgLVt7vuV4fh2rtrcRTJKTELQozMyD8+X1qGji7TgE37s3uPOPkBcOHBlr3bZOAlw8QNqddXCUGAHrZWpOElLmXT1ndt87zE5D3IO2r9ZvO9NVJYDkJeXl2qRkYLljOS+r69vtq+Rx/OzvQgMDFTvFRoamm0Aki64jN1q0gIkdUhEVP50qOePVjVHYdamhxGy5T901O1DP+sdaGN5FPAIgKW0+lTJeZRqFi2GArbOwF/D1ezXqmD6se+AGye0OiFZFy0lXtvW2h5o2A8IGgJUDgZirgJn1gFn1mohJPY6cHC+drG0Aaq1Bqq302qQKj0A2DoVzUmQbsK93wIbJgIpCdpxSVdfeqr22KaPtBAkczERlVImDUC2trYICgrChg0b0KdPH0MRtNx/9dVXs31NSEiIen7UqFGGx9atW6cez8mVK1dw8+ZN+Pn5Zfu8jBCTCxGRsLexwphuddCnWSWMW+aPZ8+2hQsS4J3siffiA9Axvzts+iRg5wwseV6rIbq4E4i/ce95rzpA8BCgyUDAIcNoVbfK2uNySUnUZsBWgWgNIC1T57doF/3Qe99GQJWW2kXqp1z98//hb5wG/n4VuLxHu1+tDfDoTK3bUE9C0MYPtRDULnNNJlFpYRbD4AcPHoy5c+equX9kGPyiRYtUDZDU9sgQ+UqVKqluKv0w+Pbt22PKlCno1asXFixYgI8//tgwDD4uLk51Z/Xr10+1CkkN0JtvvonY2FgcPXrUqKDDUWBEpCd/Iv/+9xo+XH4CkXFarWCnut4Y93B9VPfKZ4tL6AZgwdNA6h2tBad+byD4ea0lJ7+1PTfPAqHrgUu7tbAirUX3c6uitVZJMPIIuHfJGLL0pOh85wxg81QgLQmwdQG6TtRao+6vW9r6qRaARJeJQNt7/yAlMqVSNQxeyBB4/USIMpx9xowZani86NChAwICAjBv3jzD9jJP0HvvvWeYCHHatGmGiRDv3LmjWpMOHTqkhsL7+/ujW7du+PDDD7MUT+eEAYiI7hebmIKZG0Px447zSEnTwcbKAs+3rY7XOtXK3yzTYce0mp66jwDOFVXAuhadiNCIOMPlbEQc4pJS8UqHGni0iZGtONFX7oUhucj7yLIh2bFzAzyq3QtEEpSk0FlGnomaXbU5jKQFKidbpmldYYJD/clMlLoAZG4YgIgoJ2dvxOGDf45jy2mtC0tmkn67R130bVYp10kU9UHnxLUYnAqPvRd2bsQhITmHoCLzmrUOwDsP1YOtdQ6jx3KSFAdcPQBc3gvcDNUKmuUSd2/EbBbSMtRjCiCj3oxpkZL12fTF4TLCLWRE7tvLHElS6B12FKgWos2bRFSEGIAKiQGIiHIjfzY3nozAh8uP48JNbcmNZlXd8f4jDdCkiqxRloYz4XE4fj0GJ67H4Pi1GJwMi0X0nZRs92dtaYEALye1NEdNb+0iIWn25rPq+aBqHpj11APwdbMv/MEnJwBRl+4FIv1F6oVkeLtz1hn4c7XpY2DLVO22hKdWw+49J18vt89rBdzntgAXtgEJN7XnZA6lNqO0GiKZr6kgZASdFGaby1xJZHIMQIXEAERExpCg88P2C5i58YxqxZFGE6kLunQzAanpumyDjoSben6u6rrG3cBTrYIjbKyytvCsPx6O1xcdRmxiKrycbTHjyWZoXcPLqGNLT9dh65kbWLz/CppWccfQB4uptUW+QqQrbOsn2n2Z/8i1EnBuE3BuqzZ5YkYyIs69GhDxn3ZfuuAe+lQb3m+s6KvanEwH5mndfCGvanVIxT0tAJk9BqBCYgAiovwIj0nE1FUn8eehe4XI7o42qOfrivr+rirw1PNzUWHHzjrrZKy5uXgzHq/8clC1JEkP25s96uLlBwNzXMA1ITkVfx68qmqVzt64O7wewAe9G2BQSACKhXyNyISP2z/P+pwUe0shdvX2QGB7bZJLGbF24m9g1dtA7DVtu3qPasue5FZ3FBkK7JgO/LsASL+vNc3JG+j0LtDs2czzLFHRiLoErBuvda32/gpwyXnqGVNiACokBiAiKoiTYTG4HpWIun4u8HW1L9wq8xncSU7De8uO4Y+DV9T97g188MnjTeBqf2+9smtRdzB/10X8vveSoatNirOl+0zqlSQ8fTsoGJ3rGTcYJN/kq0Qma5QQJLNjq8DTUav1yWl+IpkYUuqIds/WWnJkQVnphms1DDEpgIONldYydu2wtt/jf8sb3Rue33a0NmO2fDHf0roL4d1AW5S2ZtY533Jcf+7aQW1agRqdVWE63Xd+9szRWvlkTijhVhV4ZglQsQ7MDQNQITEAEZG5kT/Vv+29hIl/H0dyWrrqapvzTJBq8fl++3msOhaGtLvdblU9HTGkTQD6B1VWIWjsn0exYN9lONpaYdHLIWhYSS0AUjxkEsX8tsDIiLUVow1zD0U41MDI2Gfh42yFjyquh9Plu3Mdido9tZm4q2ojhZXUZGD/91qYSoy6N5JNRqd51838XvKVd+OkVpMktUkyt1LS3eWPJIC1fAlo/X+sKxLXDmkzgV//V91F1dba7OQSNu3dgScXaAHXjDAAFRIDEBGZq38vR2HYLwfUiDIrSwtD6BEhgRXU0HyZp0ie00tJS8fz8/Zh25lIeLvYYdmINvB3L2DhcTGRdSH3LfsKdY9+AnfEZnou3cIKljJDttT5ZLf2WsZFZGWOor1zteJoCysgaDDQ/EWtFUkCj0wcKV/iGcmXuRR/R57W7sscSFLMLaPaHNxR7iTFaS0+0vKjS9fOj7SqNX0GuHMb+H2Atm6dlR3w2DdAA20iY3PAAFRIDEBEZM5uxSdj5IJDKtDYWlni0ab+qsWngX/OLTsxiSl4fPYuNbqsjo8LFg8LydSFZko7QyPxwfLjaqSchJ9JLn/g4ZS1SIYNFqR2wLdpvfBU9wfxSvuca5+yTBIp3WInl2f/vCztUTVEW09N6pLUIrOWwKlV2qi28KP35ktq/SrQ8hXA3tX4UXbSTWfjWPIL1xaFU6u1teuiL2v3G/bXarMyjg6Uz/jHi8CpFRIj7k6BMBzmgAGokBiAiMjcScvPrrM3UcfXRc1FZIyrUXfQd9YORMQmoV0tL/zwXPNsR5+VlPOR8fh45QmsO661yLjaW2NUl9p4NqQabKLOI9nGFRPWh6m6JiFzLU1+rJFaqiQvFyLj8fdfi/DgxRloaHEB52xqwadZD7jV7wJUbgHY2Oc8V9HJf4BNk7X12vTzI0m3WIuXtCVNUu5oNUMStKQ7SF3fva+fZ0mKv6X1yN5Na0FRtzNcSxebgyfgWOHu5e5tGcmWXXCSpVASIoH4yLvXN7VrCSNSZC6ziVsVItDGhgGr3gKOL9Puu1cFen0B1OqSw3lKA1a9Cez7TrsvI/G6fph11vASxgBUSAxARFRWHbsajSfm7lLD9gc2r6IChTGtKjIT9s24ZDVkv7DF3VKk/dXGM5i384KaVVu6655pWVWFHw8n20zbylfUz7svYuI/x1Xok3mWvnk2CD6u2QeYsOhEfLnhDBbtv2zoHnS0ARJStKLwSX0aqjXe8iRB6L8/tbqim2fuBSGpE4rRitGLhQQnfRiSliqZN0kuyXG5v05aq6Twu05PoGaXvGuYUu5oNVfnt2nzM8mkmfpuQ+n6k2L0vBbXlfiw40tg/QTtfoO+QJ85OYfLEsAAVEgMQERUlm04EY6h8/dD8sH/utfBiI41cww9G05EYMXR62okWXJqOvzc7NGxrje61PNWcxIZ0xqjH6W2IzQSO8/exKZTEYiSRAKgfe2KeK9XPdTyccmzm2z4bwfV63xc7fDNs8EqDOndjk/G7C1n8dPOC0hKTVePdahTEW90qwM3Bxu8vvAw9l+8rR7v09QfH/RpaFwXoLR0HF2sBSGZ1FFPWnY8a2iLxGa6DtRCjBRj34nKcn3hylVsOxoKV8TBA7HwsIhFBcs4eCIW9tDWmsuRTB/g6AU4eWkBSa6lC0rmXNJPMCkkxMhiuLV7aIHIq5bWgiR1OxJ2JPRc3Q+kJWfef6Vg4OEvAL/GyJcji4Flw7SpCaRQeuCvJisiZwAqJAYgIirr5u+6gPF/aZMRygSL+jXHZA0yCUgrjlzH5ruhJ+NEjhkneLS3sUSbGl7oVM9bFV77ud0rrI5KSMbuczexXUJP6E2ci7w3J5GoUdEJ7z1cHx3reOdrTqQXf9qPMxFxammQaf0ao2t9HzUK7tut5xCblKq2C67moeZLalH93pdwalo6vtoUihkbzqjgV9nDAV8ObKamCTB6OPjF7VptjwQd+YLPZ0uYdFk+9+NeFdBkTiiZ3kC6JfXskKxCkaeFFozcrFIR0qg2erduBNcKflroyu49JaRd2Q+cXgWcXgNEHM/8vAxbl8JvWeQ2Ixd/oHo7IKCddi2TUhaUjKpb+Iw2ok4mupQAJnVDzr7anEHOPtrFxQewcy22+igGoEJiACKi8mDS8uP4bvt5VUgtLUH7L97CplOZQ09gRSc83MgPvRr7q+6vXeduYuOJCBWSZCRaRvX9XNG0qjuOXonGsWvRqodETwalNarsjrY1K6jQJOHEugD1R9IqNWrBYWw4GWGoG4pJ1IKPTDj5Zvc6quUnp266AxdvYeSCw7hy+47qevu/TrUwomONAh1Lfhy6dBvPfLcH8clpqvVs9jNBqv5KQpDUQsnl3I04FRTV5UacmgFcuNhZ46UHA9UIPydjFt6VpU0kCElR94Xt9yaNlACiDzsB7bS12IwMIvI7sXD/ZcQlpqr16Rxss2n5C/8P+KX/vcktc2LtoIWj4Oe1kX1FiAGokBiAiKg8kOUyhv16AGv+yzwsPNDLCb0aS+jxUyPGsgsT8tUhI8o23A1Dhy5HZQo8Qlo52tSogDY1vdAysILqiioKUtvz6dpThrXSAio4YnS3Oiqo5bYgbcYRceOXHcOyw9cMLUbTBzZFZQ9HdU4keETdSVbdbbcTklXNktyWuqmOdSuirm/+vhdkFu+B3+xW+2ldo4IqPs+r61C/3twna06p0XGigpOt6q58qmVVo7se1Xpp0vXlVkXrCstny4tOp1NzTE1ZdRKXbmkTIUrrmcws3qmuT/ZTEYSuB2KvA7HhWsuTXKTIWq71cy6J9m8DHceiKDEAFRIDEBGVF9ICMfzXA6pFpHsDXxV66vpmH3pyczMuCZtP3VALwDbwd1WhJ6dC5aIidUnS1fZQI78CjWZbeugKxi37T3X7SXeehAoJKbl9K0qr0YvtqmNU59rZt4LcR1pynpi7G5FxSXigqjt+fqGlca04d0kgW370Oj5fe8qw8K6/mz1GdqmFfg9ULtaWqwMXb+OjFcdx8JI2uaSMNpTWQn23XY8GvpjwaP1MXZ95klFr+lAkLVKe1Yv0mBmACokBiIiofJCFa0cuPIRDd7/k9WTWbA9HW9VqJeu6yUVahmTuJVHF0wGT+jRSRdw5uXI7AU/M2aW6CqV78PeXWhW4FUwms1xy4Aq+XH8GYTGJhpa6VzvVhJezHeKTUlWQk1YquZb72mNpSExNU9sGB3iqEOaSR/H3xZvxmLr6JFYe1Yb0y5IkL7cPxNB2Mg8T1Ci777edV/VgTrZWeL1rbdUtVtzdiMZgACokBiAiovJDutRkHTdp3XBztFEhJadFa9cfD8f4v44Z6p+keHzcw/WzzMUUEZuowo+02kgdlSxBIkGlsBJT0vDL7ov4evNZNSFmfkkPodRKNQ/wvHvxgPfdljoZSTdzYyh+3q1NTyDbPhFcBaO71jZsoyfn692lx1QrkZB9fty3IZpVNbKovJgwABUSAxAREeVEWlg+X3sa83aeVyPKJDC981BdFRak61C65QbM3a1qpCq5O2DJsJD8dRMZeQzSCrPi6DVYWVqqlhjpWpO5jhwz3razUsFOuib3X7htqOPJSIrbG1Vyw9bTNwwF5VJIPrZnPTXRZm7dc4sPXMbkVSdVjZS0Dj3dsir+171ukdV75RcDUCExABERUV6OXInC238cVeFCyMi2dx+qp1qI/r0SrdZdW/xKCKpVyGNCwRIkE0XKaL/9F25j7/lbOBEWk6nmSeq/3u1VD+1q5dy1l13918crT+KPg9oEkR6ONujR0Bdd6vmoWjCjC7aLAANQITEAERGRMWR+oR93XMDn607jTkqa4XEJAQtfDkHtPCZ4NLWYxBRV/3T4UhQCvBzxcGP/TAvp5neeo/eWHcXZG/fmfJLicglTXev5qPmiiqIbMDcMQIXEAERERPlx+VaCavmReZSk6+n3oa3QqHLOi9OWVSlp6WoCTFnfTeqlMs4VJV1kD1T1UC1DXet7o0ZF50Ivq3I/BqBCYgAiIqL8kq/TfRduw9fVHlUrOKK80+l0qntw/fEIrD8RjqNXozM9L2vRTemXz2U3ivD72/jJCIiIiChH0pqRcfmN8s7CwgIN/N3UReYtuh59R02cKWFIlkfJuJabSY6PLUBZsQWIiIio+MgcRdL75WhbtO0wbAEiIiIis+WUj9mwi4vpp20kIiIiKmEMQERERFTuMAARERFRucMAREREROUOAxARERGVOwxAREREVO4wABEREVG5wwBERERE5Q4DEBEREZU7ZhGAZs2ahYCAANjb26Nly5bYu3dvrtsvXrwYdevWVds3atQIK1euzPS8rO4xfvx4+Pn5wcHBAV26dMGZM2eK+VMQERFRaWHyALRw4UKMHj0aEyZMwMGDB9GkSRN0794dERER2W6/c+dOPPnkk3jhhRdw6NAh9OnTR12OHTtm2GbatGmYMWMG5syZgz179sDJyUntMzExsQQ/GREREZkrky+GKi0+zZs3x1dffaXup6eno0qVKnjttdfw9ttvZ9l+wIABiI+Px/Llyw2PtWrVCk2bNlWBRz6Ov78/xowZgzfeeEM9L4ui+fj4YN68eRg4cGCex8TFUImIiEqf/Hx/m7QFKDk5GQcOHFBdVIYDsrRU93ft2pXta+TxjNsLad3Rb3/+/HmEhYVl2kZOhgStnPaZlJSkTlrGCxEREZVdJl2ONTIyEmlpaap1JiO5f/LkyWxfI+Emu+3lcf3z+sdy2uZ+kydPxsSJE7M8ziBERERUeui/t43p3DL9evRmYOzYsaoOSe/q1auoX7++6oojIiKi0iU2Nlb1/phtAPLy8oKVlRXCw8MzPS73fX19s32NPJ7b9vpreUxGgWXcRuqEsmNnZ6cues7Ozrh8+TJcXFxgYWGBok6nEqxk/6wvKn483yWL57tk8XyXLJ5v8z/f0vIj4UdqgfNi0gBka2uLoKAgbNiwQY3k0hdBy/1XX30129eEhISo50eNGmV4bN26depxUb16dRWCZBt94JGTKKPBhg0bZtRxSR1S5cqVUZzkh8n/gUoOz3fJ4vkuWTzfJYvn27zPd14tP2bTBSZdT4MHD0ZwcDBatGiB6dOnq1FeQ4YMUc8PGjQIlSpVUnU6YuTIkWjfvj0+++wz9OrVCwsWLMD+/fvxzTffqOelxUbC0aRJk1CrVi0ViMaNG6fSoD5kERERUflm8gAkw9pv3LihJi6UImVptVm9erWhiPnSpUuqRUavdevW+O233/Dee+/hnXfeUSFn2bJlaNiwoWGbN998U4Wol156CVFRUWjbtq3ap0ycSERERGTyeYDKGxlyL61ZUnidse6IigfPd8ni+S5ZPN8li+e7bJ1vBiAiIiIqd0y+FAYRERFRSWMAIiIionKHAYiIiIjKHQYgIiIiKncYgErQrFmzEBAQoIbjy+Kse/fuNfUhlQlbt27FI488ouZ6knmgZFqEjKTOX6ZZkJnBHRwc1EK5Z86cMdnxlnYyKqN58+ZqpnRvb281v9apU6cybZOYmIgRI0agQoUKamb1fv36ZZnBnYwze/ZsNG7c2DAZnEz6umrVKsPzPNfFa8qUKYb55fR4zovO+++/r85vxkvdunVL5FwzAJWQhQsXqkkfJ0yYgIMHD6JJkyZqFfuIiAhTH1qpJ3M+yfmUgJmdadOmYcaMGZgzZ46aEdzJyUmde/kfi/Jvy5Yt6g/S7t271SzsKSkp6Natm/o56L3++uv4559/sHjxYrX9tWvX8Nhjj5n0uEsrmZVevoQPHDigJn3t1KkTevfujf/++089z3NdfPbt24e5c+eqAJoRz3nRatCgAa5fv264bN++vWTOtQyDp+LXokUL3YgRIwz309LSdP7+/rrJkyeb9LjKGvmVXrp0qeF+enq6ztfXV/fJJ58YHouKitLZ2dnpfv/9dxMdZdkSERGhzvuWLVsM59fGxka3ePFiwzYnTpxQ2+zatcuER1p2eHh46L777jue62IUGxurq1Wrlm7dunW69u3b60aOHKke5zkvWhMmTNA1adIk2+eK+1yzBagEJCcnq3+9SdeLnsxuLfd37dpl0mMr686fP69mGM947mWdGOmC5LkvGtHR0era09NTXcvvurQKZTzn0qRdtWpVnvNCSktLU8v/SGubdIXxXBcfaeWU5ZYynlvBc170pCRBShgCAwPx9NNPqxUgSuJcm3wpjPIgMjJS/eHSL++hJ/dPnjxpsuMqDyT8iOzOvf45KjhZvFhqI9q0aWNYjkbOqyx07O7unmlbnvOCO3r0qAo80m0rdRBLly5F/fr1cfjwYZ7rYiAhU0oVpAvsfvz9Llryj9F58+ahTp06qvtr4sSJaNeuHY4dO1bs55oBiIgK9a9k+UOVsc+eip58OUjYkda2JUuWqAWkpR6Cit7ly5fVottS38b1I4tfz549Dbel1koCUbVq1bBo0SI1aKU4sQusBHh5ecHKyipL5brc9/X1NdlxlQf688tzX/ReffVVLF++HJs2bVKFunpyXqXbVxYizojnvODkX8E1a9ZEUFCQGoUnRf9ffvklz3UxkG4XGZzywAMPwNraWl0kbMpACrktrQ8858VHWntq166N0NDQYv/9ZgAqoT9e8odrw4YNmboO5L40a1PxqV69uvofJeO5j4mJUaPBeO4LRmrNJfxIN8zGjRvVOc5IftdtbGwynXMZJi/9+jznRUP+fshCkTzXRa9z586qy1Fa3PSX4OBgVZuiv81zXnzi4uJw9uxZNW1Jsf9+F7qMmoyyYMECNfJo3rx5uuPHj+teeuklnbu7uy4sLMzUh1YmRmscOnRIXeRX+vPPP1e3L168qJ6fMmWKOtd//fWX7siRI7revXvrqlevrrtz546pD71UGjZsmM7NzU23efNm3fXr1w2XhIQEwzavvPKKrmrVqrqNGzfq9u/frwsJCVEXyr+3335bjbA7f/68+v2V+xYWFrq1a9eq53mui1/GUWCC57zojBkzRv0tkd/vHTt26Lp06aLz8vJSo0uL+1wzAJWgmTNnqh+kra2tGha/e/duUx9SmbBp0yYVfO6/DB482DAUfty4cTofHx8VQjt37qw7deqUqQ+71MruXMvlxx9/NGwj4XL48OFquLajo6Oub9++KiRR/j3//PO6atWqqb8bFStWVL+/+vAjeK5LPgDxnBedAQMG6Pz8/NTvd6VKldT90NDQEjnXFvKfwrcjEREREZUerAEiIiKicocBiIiIiModBiAiIiIqdxiAiIiIqNxhACIiIqJyhwGIiIiIyh0GICIiIip3GICIiHJgYWGBZcuWmfowiKgYMAARkVl67rnnVAC5/9KjRw9THxoRlQHWpj4AIqKcSNj58ccfMz1mZ2dnsuMhorKDLUBEZLYk7Pj6+ma6eHh4qOekNWj27Nno2bMnHBwcEBgYiCVLlmR6vazq3alTJ/V8hQoV8NJLL6nVpjP64Ycf0KBBA/VesgK1rHSfUWRkJPr27QtHR0fUqlULf//9t+G527dvq1XCK1asqN5Dnr8/sBGReWIAIqJSa9y4cejXrx/+/fdfFUQGDhyIEydOqOfi4+PRvXt3FZj27duHxYsXY/369ZkCjgSoESNGqGAkYUnCTc2aNTO9x8SJE/HEE0/gyJEjeOihh9T73Lp1y/D+x48fx6pVq9T7yv68vLxK+CwQUYEUyZKqRERFbPDgwTorKyudk5NTpstHH32knpc/X6+88kqm17Rs2VI3bNgwdfubb75RK0jHxcUZnl+xYoXO0tJSFxYWpu77+/vr3n333RyPQd7jvffeM9yXfcljq1atUvcfeeQR3ZAhQ4r4kxNRSWANEBGZrY4dO6pWlYw8PT0Nt0NCQjI9J/cPHz6sbkuLTJMmTeDk5GR4vk2bNkhPT8epU6dUF9q1a9fQuXPnXI+hcePGhtuyL1dXV0RERKj7w4YNUy1QBw8eRLdu3dCnTx+0bt26kJ+aiEoCAxARmS0JHPd3SRUVqdkxho2NTab7EpwkRAmpP7p48SJWrlyJdevWqTAlXWqffvppsRwzERUd1gARUam1e/fuLPfr1aunbsu11AZJLZDejh07YGlpiTp16sDFxQUBAQHYsGFDoY5BCqAHDx6MX375BdOnT8c333xTqP0RUclgCxARma2kpCSEhYVlesza2tpQaCyFzcHBwWjbti1+/fVX7N27F99//716ToqVJ0yYoMLJ+++/jxs3buC1117Ds88+Cx8fH7WNPP7KK6/A29tbtebExsaqkCTbGWP8+PEICgpSo8jkWJcvX24IYERk3hiAiMhsrV69Wg1Nz0hab06ePGkYobVgwQIMHz5cbff777+jfv366jkZtr5mzRqMHDkSzZs3V/elXufzzz837EvCUWJiIr744gu88cYbKlj179/f6OOztbXF2LFjceHCBdWl1q5dO3U8RGT+LKQS2tQHQUSUX1KLs3TpUlV4TESUX6wBIiIionKHAYiIiIjKHdYAEVGpxN57IioMtgARERFRucMAREREROUOAxARERGVOwxAREREVO4wABEREVG5wwBERERE5Q4DEBEREZU7DEBERERU7jAAERERUbnz/3fSil2CE9C7AAAAAElFTkSuQmCC",
>>>>>>> 3a9edb88 (Initial commit)
      "text/plain": [
       "<Figure size 640x480 with 1 Axes>"
      ]
     },
     "metadata": {},
     "output_type": "display_data"
    }
   ],
   "source": [
    "import matplotlib.pyplot as plt\n",
    "\n",
    "# Plot loss\n",
    "plt.plot(history.history['loss'], label='Training Loss')\n",
    "plt.plot(history.history['val_loss'], label='Validation Loss')\n",
    "plt.title('Training and Validation Loss')\n",
    "plt.xlabel('Epochs')\n",
    "plt.ylabel('Loss')\n",
    "plt.legend()\n",
    "plt.show()"
   ]
  },
  {
   "cell_type": "markdown",
   "metadata": {},
   "source": [
    "Plot Training and Validation Accuracy:"
   ]
  },
  {
   "cell_type": "code",
<<<<<<< HEAD
   "execution_count": 76,
=======
   "execution_count": 17,
>>>>>>> 3a9edb88 (Initial commit)
   "metadata": {},
   "outputs": [
    {
     "data": {
<<<<<<< HEAD
      "image/png": "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",
=======
      "image/png": "iVBORw0KGgoAAAANSUhEUgAAAkAAAAHHCAYAAABXx+fLAAAAOnRFWHRTb2Z0d2FyZQBNYXRwbG90bGliIHZlcnNpb24zLjEwLjAsIGh0dHBzOi8vbWF0cGxvdGxpYi5vcmcvlHJYcgAAAAlwSFlzAAAPYQAAD2EBqD+naQAAigJJREFUeJzt3Qd4U1UbB/B/dwsdQFsKZS/Zs+wpiiAgAjIVWSIIgiz9FBRZDhQRQURQFEQEQbaIgIjsTdl7z9KWMlpa6M73vOc2adqmO206/r/niU1ubm5ObiP37Xvec46VTqfTgYiIiCgfsbZ0A4iIiIiyGwMgIiIiyncYABEREVG+wwCIiIiI8h0GQERERJTvMAAiIiKifIcBEBEREeU7DICIiIgo32EARERERPkOAyCiTBowYADKli2boddOnjwZVlZWyMuuX7+uPuMvv/yS7e8t7yvnWE/aINukTamR36n8bnPKd4WIzIsBEOVZcqFLy23Hjh2Wbmq+N3LkSPW7uHz5crL7fPTRR2qfkydPIifz8/NTQdfx48eRE507d06dR0dHRzx69MjSzSGyGAZAlGctWbIkwe2FF14wub1q1aqZep8FCxbgwoULGXrthAkT8PTpU+R3ffr0UT+XLVuW7D6///47atasiVq1amX4ffr27avOd5kyZZCVAdCUKVNMBkCZ+a6Yy2+//YZixYqp+6tWrbJoW4gsydai706UhV5//fUEjw8cOICtW7cm2Z7YkydPUKBAgTS/j52dXYbbaGtrq275XaNGjVCxYkUV5EycODHJ8/v378e1a9fwxRdfZOp9bGxs1M1SMvNdMQdZ+1qCzNdee02dz6VLl+LNN99EThQWFoaCBQtauhmUhzEDRPnas88+ixo1asDX1xctW7ZUgc+HH36onlu/fj06duwIb29vODg4oEKFCvjkk08QExOTYl2HvuZlxowZ+PHHH9Xr5PUNGjTA4cOHU60BkscjRozAunXrVNvktdWrV8fmzZuTtF+67+rXr6+6M+R9fvjhhzTXFe3evRs9evRA6dKl1XuUKlUKY8aMSZKRks/n7OyMO3fuoEuXLuq+p6cn3nvvvSTnQrpUZH83NzcUKlQI/fv3T3M3i2SBzp8/j6NHjyZ5Ti7a8pleffVVREZGqiDJx8dHvY9cJFu0aIHt27en+h6maoAkKPj0009RsmRJ9ftv3bo1zpw5k+S1Dx48UJ9ZslByDlxdXdG+fXucOHEiwe9Dfs9i4MCBhm5Wff2TqRogudC/++676vzL76Fy5crquyPtyuj3Ijl79+5Vn713797qtmvXLty+fTvJfrGxsZg9e7b6rPLdkt/3iy++iCNHjiTJJjVs2FCdt8KFC6v/h/75559ka7CSq6/S/1527tyJt99+G0WLFlW/D3Hjxg21Tc6Lk5MT3N3d1ffWVB2XfNfkOyzHl/Mjx+jXrx+CgoIQGhqqviujRo1K8jo5BxIYT5s2Lc3nknI//ulJ+d79+/fVhUwuCJId8vLyMvyjLBe6sWPHqp///fefuvCGhITgq6++SvW4ctF+/Pgx3nrrLfWP+/Tp0/HKK6/g6tWrqWYC9uzZgzVr1qh/+F1cXPDtt9+iW7duuHnzproAiGPHjqmLUvHixVWXiwQjU6dOVRertFi5cqXKdg0bNkwd89ChQ5gzZ466GMhzxuTY7dq1U5kauTj/+++/+Prrr1XQJa8XcsHu3LmzavvQoUNV1+LatWtVEJTWAEg+h5y3evXqJXjvP/74QwU5EqzJxeynn35SwdDgwYPVOf75559V++Qz1KlTB+khv1MJgDp06KBuEoC1bdtWBVrG5PcmwYdcfMuVK4eAgAAVcLZq1Qpnz55VgbJ8ZvkdyDGHDBmi2iyaNm1q8r3lnL388ssqeBs0aJBq+5YtW/C///1PBZzffPNNur8XKZGMj/zOJEiTIEoCF8m6yfsZk7bI91/+v5AMUXR0tAqYJYsqAbeQ35UEN/LZ5DPb29vj4MGD6v8TOX8ZIZ9Lvr9y/iQwFPJHw759+9T/nxLQSOAzb9489ceLnHd9tlYCHDnfUuP0xhtvqO+QfFf+/PNP9Z2Wc9u1a1esWLECM2fOTJAJlHMgvwt9VyzlEzqifGL48OHyJ3WCba1atVLb5s+fn2T/J0+eJNn21ltv6QoUKKALDw83bOvfv7+uTJkyhsfXrl1Tx3R3d9c9ePDAsH39+vVq+4YNGwzbJk2alKRN8tje3l53+fJlw7YTJ06o7XPmzDFs69Spk2rLnTt3DNsuXbqks7W1TXJMU0x9vmnTpumsrKx0N27cSPD55HhTp05NsG/dunV1Pj4+hsfr1q1T+02fPt2wLTo6WteiRQu1fdGiRam2qUGDBrqSJUvqYmJiDNs2b96sXv/DDz8YjhkREZHgdQ8fPtR5eXnp3njjjQTb5XVyjvWkDbJNfkciMDBQneuOHTvqYmNjDft9+OGHaj/57HryOzdul5DjODg4JDg3hw8fTvbzJv6u6M/Zp59+mmC/7t27q9+D8Xcgrd+L5ERGRqrv5EcffWTY9tprr+lq166dYL///vtPHXPkyJFJjqE/R/I9s7a21nXt2jXJOTE+j4nPv56cA+Nzq/+9NG/eXP1+U/ue7t+/X+3/66+/GrZNnDhRbVuzZk2y7d6yZYvaZ9OmTQmer1Wrlvq3gPIXdoFRviepcumuSEzS7XqSZZC/JuUvTMmaSFdNanr16qW6BfT02QDJJKSmTZs26i91PSn8lS4X/WslKyJZGOmSksyDntTRyF/taWH8+eSvbfl88te8XLcku5SYZHWMyecx/ix///23qmfSZ4SE/JX9zjvvIK0kAyd/rUvXjJ5khCS7IJkX/THlsb6rRrqmJEMhmQlT3WcpkXMomR5po3G34ejRo01+T6ytrQ3nXzKHkhmUrpn0vq/xOZPPI6PgjEmXmPweNm3alK7vRUrkWNJmyZzpyX3pwjPu8lu9erU6F5MmTUpyDP05kkyYnHvJ1OjPSeJ9MkIyeolrtIy/p1FRUeozyPdculiNz7u0u3bt2irLk1y75fzJ/y+SCdM7ffq0GlmYWm0g5T0MgCjfK1GihOGCakwuCvKPqdSZyEVGUvP6fySDg4NTPa501xjTB0MPHz5M92v1r9e/NjAwUNXqyIUgMVPbTJFuE6nDKFKkiKGuR7pzTH0+fR1Icu3R12pId5wcy5gECGkl3RxyAdSPBgsPD1fdaBLUGQeTixcvVhd/aZd0/UjbNm7cmKbfizFps6hUqVKC7XI84/cTcsGXLinZV4IhDw8PtZ9cPNP7vsbvLxdk6c4yph+ZqG9fWr8XKZF6Hem6k7bLdANyk2BKupCMA4IrV66oNsn3IjmyjwQ+1apVgzlJ+xKT77kEWvoaKf15l3of4/MubZJuvZRIm6WbSwI4+UNGyGeX75E+wKb8gwEQ5XvGf2HqyT+uEgzIX8dS37BhwwY1guzLL780XAxTk9xoo8TFreZ+bVpIBkOmBZCg4YMPPlAXBPl8+mLdxJ8vu0ZOSfGrtEv+mpe/9uW8S/bNuDZDLuQSuMnFW2p/pAhY2v7cc8+l6feSUZ9//rmqB5NCX2mD1OrI+0ohcla+rzm+F1K3JudSRn5JAKe/SQAjgYAEnOb6bqVF4uL5lP5flOzcZ599hp49e6paMCmylvMugW9GzrsURUu9kHzn9aPiXnrpJfWHDuUvLIImMkFG80iqXQpO5YKnJxeQnEACBfmr1dTEgSlNJqh36tQpXLx4UWVS5IKgJxeWjJK5dbZt26YuLsZZoPTOeyPBjgQ10mUjFyfJvnXq1MnwvMxdU758efW7Me5uMdVlk5Y2i0uXLqlj6t27dy9JVkXeV0aISdCVOFiWrERGuoDk/aUbToI84yyQvovVXPMVybmSbJoUDxu3Vf/7kfmoZIRY8+bNVWApwZ10LSaXBZJ9JPiQIuSUis4lO5V4FKB0Od69ezfNbZfzLoX0UnSvJ58l8XGlTdKdlRrJEtWtW1dlfqSoWjKhUvxP+Q8zQEQp/KVt/Fex/MP9/fffI6e0T+oZ5K9YmXjPOPhJXDeS3OsTfz65L0OfM0pGUEktjlxkjf/ST+/FReqapFtGzrV8Fhk5J8FeSm2X0UcyV1B6yTmUEXnSRuPjzZo1K8m+8r6JsyQyWk5GaxnTz12TluH/cs7kHH333XcJtktXmwRSaa3nSo1krCTAkzqu7t27J7jJ0H4JWPXdYDKqTD6njPJKTP/55Xck3UmSHU2chTE+RxKUGNdzCZkaIrkMkCmmzrv8vhIfQ9otGVvpMk2u3cYTYkomSX7Pkkky13mm3IUZICITpBhY/nqVvzz1yzTIrNHZ2U2QGhmCLP+IN2vWTBUe6y+k8hduasswVKlSRV2c5OInF3DJski3U1pqSZIjWRppy7hx49RQZelekcxDeutj5GIsF1h9HVDiocnSXSHHlfosmadJsnLz589X7yfZp/TQz2ck87/IcSUgkQJwCbwSZ0rkebngS8G8fD8kiyZBg3HmSMh5lQJdaZNkdSQgkukDTNW3yDmTrJIs8yHnTIp45Xcqc1BJIbZxwXNGSYAsw+wTF1rrSV2NTCEgwZwMq5f2SIAg9yUzJlMtSJAjw+DlOZmLSOrMpM0yL5YUw0uQKseRIetSP6SfT0eG0EvQJcGJdG1KgCLZpcTnNiVy3uX/Pemikt+xBLqSNUs87F+G8ku2SGp5ZBi8zBMlWSwZBi+/Czm3ejIR5Pvvv6+CJfl/x9ITVJKFWHoYGpGlh8FXr17d5P579+7VNW7cWOfk5KTz9vbWvf/++4ZhtNu3b091GPxXX32V5JiJhwUnNwxe2pra0GGxbds2NRxdhkdXqFBB99NPP+neffddnaOjY6rn4+zZs7o2bdronJ2ddR4eHrrBgwcbhlUbD+GW9yxYsGCS15tq+/3793V9+/bVubq66tzc3NT9Y8eOpXkYvN7GjRvVa4oXL25ymPXnn3+uzocMQZfP/9dffyX5PaRlGLyQ40+ZMkW9l/yun332Wd3p06eTnG8ZBi/nVr9fs2bN1HBs+Q4lHkItUx5Uq1bNMCWB/rObauPjx491Y8aMUd8xOzs7XaVKldR3x3g4eXq/F8a+/vpr9Vr5riTnl19+UftIu4UMRZc2VKlSRX23PD09de3bt9f5+vomeN3ChQvV+ZffQ+HChdV52Lp1a4Jz+8EHH6jvl0zZ0K5dOzWMP7lh8DKFQGIyxcHAgQPVMeS7Ksc4f/68yc8t378RI0boSpQoodotUyrIPkFBQUmO26FDB/We+/btS/a8UN5mJf+xVPBFROYn2RMZwSZ/vRORaZJBlCxeWmrmKG9iDRBRLpZ42QoJemRuGZkll4hMkyJsGQEpXX2UfzEDRJSLybw7MiRc6lBkzhgpQI6IiFB1LInntiHK76ReTEa7yVIqUq8kcwcVK1bM0s0iC2ERNFEuJgWqso6Rv7+/KkJt0qSJmq+GwQ9RUrLYqhSxy4SSMgUEg5/8jRkgIiIiyndYA0RERET5DgMgIiIiyndYA2SCTPolk4fJJGaZWdmYiIiIso9U9cjSMjIhp8xWnhIGQCZI8CMrDxMREVHuc+vWLbXWW44NgGSNmK+++gq+vr5qXgaZllwmcUttkUpZkVkmepMgRRbxk2HAxubOnauOKyNjZPpzWTemYcOGaW6XflFCOYGyRAARERHlfCEhISo2MF5cOEcGQGFhYSpAkXVbZC2ZtMzhIGv/yNoysgaPrDwta83IXCiylo1YsWKFCpBk7RdZf0cWu5PnZMVjWUE7LfTdXhL8MAAiIiLKXdJSvpJjhsFLY1PLAH3wwQdq9s7Tp08btvXu3Vuturx582b1WIKeBg0aGFZXlnoeiQbfeecdtUhjWiNIWXhPFnFkAERERJQ7pOf6natGgckqwG3atEmwTbI7sl1ERkaq7jTjfaQISh7r9zFFZs6Vk2Z8IyIiorwrVwVAUtPj5eWVYJs8loBF1kQKCgpCTEyMyX3ktcmZNm2aihj1NxZAExER5W0cBQZg/Pjxqm4ocRFVaiTYioqKyuLWEWU/Ozs72NjYWLoZRERZJlcFQLJuS0BAQIJt8lj6+ZycnNQ/2HIztU9Ka77IGkpySyspm5KMktQeEeVVhQoVUv/fcC4sIsqLclUAJAs9/v333wm2bd26VW0X9vb28PHxUaPD9MXUUgQtj0eMGGG2duiDHxlVVqBAAV4gKE+RAP/JkycIDAxUj2WUJRFRXmPRACg0NBSXL19OMMz9+PHjKFKkiFqtV7qm7ty5g19//VU9L8PfZXTX+++/r4bO//fff/jjjz/UyDA96crq378/6tevr+b+kWHwMtxeVgA2B+n20gc/7u7uZjkmUU4jGVUhQZB819kdRkR5jUUDoCNHjqB169aGx/o6HAlgfvnlFzU54s2bNw3PlytXTgU7Y8aMwezZs9Usjz/99JNhDiDRq1cv3Lt3DxMnTlSZmjp16qgh8okLozNKX/MjmR+ivEz/HZfvPAMgIsprcsw8QLllHoHw8HCVqZJgzNHR0WJtJMpq/K4TUW6TZ+cBIiIiIjIHBkCUKWXLllV1Vmkla7lJ0ThH0BERkSUxAMonJOhI6TZ58uQMHffw4cMYMmRImvdv2rSpqu2SFGV2qVKliprmIKXJMImIKH9hAJRPSNChv0nGRvpGjbe99957hn2lLCw6OjpNx/X09ExXQbhMVZCdc8vs2bNHzRLevXt3LF68GJbGiTOJiADfGw8Q/MSy/x4yAMonJOjQ3yT7IgGI/vH58+fh4uKCTZs2qXmUJFsigcOVK1fQuXNnNYLO2dlZLTL777//ptgFJseVkXldu3ZVgVGlSpXw559/JtsFJqP9ZMK9LVu2oGrVqup9XnzxRRWU6UkwNnLkSLWfTD0gi+LKSMGUFs7V+/nnn/Haa6+hb9++WLhwYZLnb9++jVdffVVNvVCwYEE1fcLBgwcNz2/YsEF9bikC9vDwUJ/L+LOuW7cuwfGkjfKZxPXr19U+K1asQKtWrdQxli5divv376v3LFGihDpHNWvWxO+//57gODJ/1fTp01GxYkX1+5BpIT777DP13HPPPZdkXisZ+SjBpcx5RUSWI39AxsbmsrFFOh1w+V/g2u4sfyu/R08x8vdj6DZvP2ZtuwhLYgBkronjIqOz/WbuAXzjxo3DF198gXPnzqFWrVpqnqYOHTqoi+qxY8dUYNKpU6cEUxOYMmXKFPTs2RMnT55Ur+/Tpw8ePHiQ7P4y6d6MGTOwZMkS7Nq1Sx3fOCP15ZdfqsBh0aJF2Lt3r6ryTxx4mPL48WOsXLkSr7/+Ol544QU1KmD37vj/weXzSWAic01JkHbixAk1x5QEH0KmXJCARz6DfH45DzK3VEbO66hRo9R5lSkbZHSVBJpy/NOnT6suRAnQDh06ZHiNzIElv4uPP/4YZ8+exbJlywxTObz55pvqsSziq/fbb7+pgEqCIyLKfhL0rPa9jWZf/IcO3+7GoyeRyBUeBwArXgd+6wYs7gRc3ZElb/M0Mgaz/72E577egT9P+EE6ASKjY81+HcuzM0HnVE+jYlBt4pZsf9+zU9uhgL35foVTp05VgYKeZEVq165tePzJJ59g7dq1KlhIaWbtAQMGqAyH+Pzzz/Htt9+qi7sEUMl1C82fPx8VKlRQj+XY0ha9OXPmqIBAn32RyTATzwhuyvLly1UGqnr16upx7969VUaoRYsW6rEEEZI5kTom+axCMi56knGR10hAp2d8PtJq9OjReOWVVxJsMw7w3nnnHZUBk0k9JcCSwE3muZLPKZkuIeemefPm6r4cS87R+vXrVaApJOsk552zklNGjFt9EgevPcD49lXQtnryywaRaUdvPsSUDWdx4paW2fYLDsfI5cexaEAD2Fjn0P8ndTrg9Grg7/eApw/1G4HVg4GhewAX88ydJwHOhpN38cXf59R5EQ3KFsakTtVRo0T21YKawgwQGUj3jzHJkMiFWrqmpGtHuqcki5FaBkiyR3rSrST1RvplFUyRbiB98KNfekG/v2RtZC0348yLTMonGZTUSJeXZH/05L5khCTAEDLreN26dQ3BT2Ly/PPPPw9zn1eZTVyCSen6kveW8yoBkP68yjmW7E5y7y1dacZdekePHlWZJAmAiNLr0LUHWH74Fq4FhWHIEl/8b+UJPA5nrVpa3A1+itHLj+GV7/ep4KegvQ3ealUejnbW2HXxHr7ZatkunmSFBmpZn9WDtOCnWE1g0L9A0WpAWCCw5k0gNibTb3PqdjB6zN+vurwk+ClRyAnfvVYXf7zVxOLBj2AGyAyc7GxUNsYS72tOEqwYk+BH1lqT7inJjMjyCFJMHBkZmepK4sYkK6HvVkrr/plNi0q30YEDB1TmSWqGjIMPyQwNHjzYsNxDclJ73lQ7TRU5Jz6vX331lcrwSO2UBEHyvGSJ9Oc1tffVd4PJLOdSwyRdg9L1VaZMmVRfR2RMvr9f/3NB3a9Y1BlX7oVipe9t7L96H1/3qI1G5bncjynhUTH4cddVzNtxRfUASOK1e72S+F+7yijq6oiqxVwxesVxfLf9MmqWdEO7nJJVM2R9/gc8fQBY2wIt38fpCoPw1dariHo0FD/jf3C6tgs/ff42Ftn2SnIIB1trFHNzRHE3J5Qo5IjihZzgLTfZVsgJzg62CHwcjhlbLqjvkrylXKuGPVsBQ1pKcJhzZpVnAGQGciE0Z1dUTiH1NpJV0Hc9SUZICnuzkxRsS+2LdFO1bNnSEMRI1kMCgORIV5fsP3fu3ATbJViQ5yQAkkyVFGxLfZKpLJA8L3U/ya0jJyPgjIu1L126pOqZ0nJepbhcn52S4PDixYuoVq2aeizddhIEyXtLoGOKBE6SWVqwYIHqypPuMqL02n/lvur6srexxq9vNMTth08x9o/j6mfvBQcwuEV5jH3hmRx10bJ0wPj3KX98/vc53Hn0VG3zKSPdOdVQq2Qhw35d6pbAiduPsGjvdbz7xwlUHOGMCp7OFmy5/AN+D9g4Bji3QXtcrCYetp2NL4/ZYcWWgypQATzwkfVAzLSfjzeiVmDbkwrYH6uVEBi7GhSW7Nu4OtoiKkanAkPRpY43PmhfRQVMOU3eu2qT2ciFeM2aNarwWYI8KchNKZOTVaRGZtq0aSoLJXP6SE3Qw4cPk613kSyMFFRLHVGNGjUSPCcBxcyZM3HmzBlVpyQ1SjKaTI4vXW9S7Ozt7Y0mTZpg0qRJqhtKuuekFkhGo0ntkT6jJFkXCTxkXwnKZHvibFZy53XVqlXYt28fChcurNoj3Xz6AEi6uORYUpAtI7uaNWumapWkzYMGDUrwWaQWSDJIxqPTiNKc/YnronmtUWntr/hCTtg8uiU+2XAWK47cUlmOnRfu4ZtedVDN2zUtBwVuHQRK+AA2Cf9fCI2IxvGbj3DkxgOcvhOMNlW90LthaWS56AjA7zhQsj5gnbZALiwiWnVv+T0KV6OWpPvG7+ET6G4fRmjQbci/Ki2c7dGtXgnULxsNq5BdwNmEx/ionA4Fr1zEpcBQLFl4VAUBTrYWCiRDA4DtnxuyPjHN3sUim1cwe/ENPI7Qpjx5ubY3+jctAzubZniw6z6KXFyJX91+xKWumxBdwNNwqCeRMQnOzd3guHP06ClCwqMRHR6KJtZnUcnTHj3rl0YFzxjgzi3gjol2uZYASqZezpBVGABRsuTC/MYbb6jJC2UIuFyUZQRWdpP3lUkM+/Xrp+p/ZNSUjKZKboFOKdKWoeamggKpZ5KbZIHk8/3zzz9499131UgvCXAkCNFnjZ599llVMyT1OjIiS2qZ9Fko8fXXX6vskBRVS9Ak3Vq+vr6pfp4JEybg6tWr6jNI/ZN8HgnCpN5JT4JNW1tbtaivn5+fCs6GDh2a4DgSwEnXmfzkWl2UXjsv3oPvjYeqS+PtZ+Nr8KQL48vutdCmmhfGrzmJCwGP0XnuHox54Rm81bJCykW9RxYCG8cC9frhTsvpOHL9gXqPI9cf4rx/CIxHh287HwgvN0e0rlw06z6k1LHI6Kbru4GSDYEu3wMelZLsdjkwFN/8exFX74WpC3nw04Rd2R4Ixid2C9He5jBgH7dR4gYZuBk/eDPJxVUNdZD9JVm0Bhan86qOg7U+w/j9VrgWdEVtq1nCTWWw6pc1yoJ3/xZYcBp2986h2oH3gNfXpCl4fHJuK+w2/g92oXcAKbXcnsoLanQHuv8MS+FiqCZwMdScTbJQEsTICCgJTvIr6Y6U7JR0D9arV8/sx+d3Pe+Sf/Y7z92Lk7eD8WbzcpjwkpZ9TOx+aATGrzmFf84GGC6WFTwT1rQZG3FjFCo+PYFoWOP5iBm4oUtY+yJFsPXLFkZYRAz+PReguks2vNMcZdyTP2amSNZj55fxj20dgecmAI3fNlzQj996hIGLDuFhokn5XBxtVXtftj2I/g/noGBMMGKtbBFdvB7s05HJkQzL+bshMr4KpQo7pdoVJJmymw+eqJ/Go5Vcnezg7uyAQk52GRhZZoWgYs3xnl8r7Lis/aHl6eKgapakdsna1PECzwMLWgNRT4DWE4BW/0v+8BGPgX8mAL7aHGhwKQ4ULpt6s8o/Czw7DpZaDJUZIMrxbty4oTI1MmePjI6Sbie5MMsEh/mRdPFJhksySY0bN86S4Ifytm3nAlXwU8DeBkONsj+JyQX3h74+WOV7Ww3zPnUnWN1McUUoZjickmstbBGLkbbr8EvRD1SNjAQ99csUUcWzIiI6Br1/PIBjNx/hrSW+WPt2MzjZm7l76Mp2YOd07X7bz4Ar24Ar/2kXaqmD6fw99jwshCFLjqhundol3TD6hWdU0FPczREu0Y+Av98Fzq7XjlGsJqy7zIO9jJhKBxcAFw7cwIR1p2EdCPz6UiM0r+SRZL/AkHBM33IBqy7eVo/ld9O5TgkcvfFQZeEgYySCtYJiyc5Jl1XLZzzgkCgYk/mIgsIicNeo++7c3RCs3XMHMbHBqt5rUItyGN66osr2JatoFaDj18C6YcCOz4EyTYCyzU2f5z/fAYJvaY8bDAbaTAYcLFzzlAbMAJnADFDOcuvWLVWDI0O95esqdT3SJWXcHZWfyGzarVu3xjPPPKNqiaQgOivwu56zRcfEYu2xO2o4cdXiaajPMbpAvjRnD87eDVEjcz54sUqaXicX061nAxAVY7oOsLz/Jjx35kOE2xWCY9Qj6KxsYDXiMOBuOsDyDw7HS3N2Iyg0Ep3reGNWrzrmm8dKJveb31wb0l2vH/DyHK0+6eivwJaPgMjHiLF2wPSonlgQ1Q5NKxbF/L4+8QHBmbXAxneBJ/e1kVIt3gNavAvY6vu/0kf+3Xp/1Uk1KqpwATuV9SpZuIBhRNnPe67h++2XERapFQ6/UrcE3n+xiiFgvOD/GBtO+KkJBCU7pCcZNKmlEnfi6nHkvEYm8ztqV90LH3aomr6M29phwIllgHMxbX4gZ8/4rM/WiVq3pyhUGug8Fyhn2X+X05MBYgBkAgMgIn7Xc7rPNp7Fgt3XVEZg8RsN0bCc6fmsEtt06i6GLT2qLva732+NwgUzdlFPYtUg4PQqoNloIOAMcHkrUKePVneTjINX7+O1nw4iJlan6lAGNitnnrqfJV2Aa7uAotWBwdsAO6Nup0e3cHfJYBS/v189vOxYA6UHLoS9V2UgLEgLfM7GzTTvVUNrf/H0T4CamAQ6PX/YrzJvNUq4YtXQpthx4R4++/ssbj3QRpTVKVVInYe6pQubPIZcruX1Egj9ddIPASHxs8Ebkx4tL1cZqh43TN3NEc9X9ULjjExrEBkG/NgaCLoAVHgO6LNaq6laPwIIjpsTrsGbQJspOSLrwwAokxgAEfG7npNJNuCd348ZHksw89ubjdQFNLXsz4uzd+FiQChGPlcRY9tWNk+DYqKAryoA4cHAG1u0rMlPzwNWNsA7R4Ai5ZN96cI91zD1r7OwtbbC0jcbpWvuISlevvkgDI3KuaOgPnuz4wtgxzTAriAwZAfg+Yxhf7ncfb/jCr7ach69bbZjssMyOMY+0WqD6g8CTq4AngRp7ZaMT8v/ZTjrY4pkaTrN2YMHYZHwcnUwBDByf1z7Kuhcu4TpepxkfpeHrj/AnktB6rN7F3I0jOQr6uIAOxszznMceE4LgqKfasXktw/FZ31e/g4o3wo5BWuAiIjyKOkOke4UMah5OZz1C1ETF/b7+SCWDW6c4gy7f526q4If6ToZ1CL5oCTdZOi7BD9ORYCSDbQC44ovaFmgXV8DXRLOx2VsYLOyas6c9cf9MHzZMfz1TnND109ypDh7xj8XsfzwTdWzJTMvS4ajf7EbaLDrCylDAl76JkHwIwHDZ3+fU91NUqjk3nIwHBqN0upXZP2rA3FtlKyRZH28k59nLKOkvmjOq3XR9+eDKviREXgyOeDQVhXiA7g0kkBJMjoZyuqkV9GqQMcZwPrh8cGPBIwvSNZHqpxyJy6FQUSUS8jw7LeWHFGTzDWv6KHqOX7qXx/1yxRWc7DIhfWiFMwmUzM0619t3h+Z4NDNKfU5q9LswibtZ6W28cOl9aN7TvwOPLia7Eul7mfaKzVRpZgLgkIjMGypryqSNkUWz/xp91U8O2MHfj+kBT+SPQmPisXBk+dRdudoWEGHg4U6YIdja0O9kvx8b9WJuOAHmNCxKv7XrgqsJIPRdx3w0izAo7KaFVlljbIg+NFrVtEDc16tpwK/f8e2wrttK6c7+LGIOn2A5mMA73pAv/XASzNzdfAj2AVmArvAiPhdz2kkgzH41yNq/hzJJEghbZG4+p2Q8Ci8/tNBVR/i4eyAP95qjPKJZh6WlcrfXXkChQrYqdofF0czBkBz6gP3LwE9fgGqG82/JXPwXP4XqPu6ViCbghv3w1T3kARyrzcujU+7xBf3y2Vq+4VAfPrXOcMsxNW9XdWCmrKw5ulbD+G8qifKhRzGhdiS6Bz5CcLhoM5P+xrFVHHwf+cD1fDx6d1qoZtPSfN9dspR0tMFxgwQEVEuMOe/yyr4kW4TGZquD36Eq6OdWspCRoNJFqXPTwdxy2i0kGRAvv3vkrovkxmaNfi5f0ULfqTuR4pkjbWKywIdlyyQln1JjoxMmv1qXbWu1m8HbuKPI9qw6suBjzFg0WG88csRFfx4ONvjy2418eeI5qrwWzJINa/9rIIfnV0BRL6yCD0aPwP3gvaq1mbpwZsq+FHn7XUfBj9kwACIiCibMzkyIig9/jsfgFnbtO6rz7rWNFnnU6iAPX4b1FAtaioZj1cXHFBLFog1R2/jxv0nKiiQ5Q7M6uJm7WeZZoBjonaVagBUeB7QxQC7Z6R6KJkVekwbrW5H5s2RlenbzdqtZq22s7HCWy3LY/t7z6JXg9LxkwFe36PNUyNdGh2/Rs06DfFJlxo4+OHzWDKoIXr4lFRz/EiAKPPnEOkxAKJ0keUhZPkFvbJly6pVzVMif6GtWxc3rDQTzHUcooyQbhgJXtJLgh0Z7j13+2W88cth1P1kK6pO3Iwhvx5Ry0Sk5npQGEYvP67qXfo2LoPuKWQwZOLCZW82Qln3AmpB0z4LDqqRR99uu6yel3l/zL5ws77+55kXTT9vqAVanmoWSIxoXRFtqhZFZHQM1vjeAGKj0baKB/4Z1Qzj21WCi50VEBOt3WS+Hxl+r4vValTqxE+OamtjjRaVPPFVj9pYP6I5V7anJHJB5RWZgyxoKjMIb94c99eakd27d6tJBU+cOKFWQE8PWYZBFuM0p8mTJ6tA5/jx4wm2y8rrsnhodnj69ClKlJAhqda4c+cOHBwcsuV9KWeSbphhvx3FtaAwNb+Kmi1YP+zYTfspSxzI9oiYGPhef4gjsgbWjYc4cycY0SYCJ1leQm5SwyLdUs9VKZpkCPSTyGgM/c1X1cXUK10IHyezZIWxoq6OWDq4MXrO36+6jF78ZpdajkGGRr/euIzpeXNWDgD8T2pD2F0SLl+RoqePgJvafDqonEwAVKqh1jUmszDv/hro/F2Kh5RzMLtxKB7d/AAlYrRZkXEdQPLTCQGeVYAOX6W93UQMgPIPWUW8W7duuH37NkqWTPgX5KJFi1C/fv10Bz/C0zN+leCsVqxYOv5hzqTVq1ejevXq6q9+CcZ69eoFS5E2yGrzsjgqZb8Ttx5hgNFaUZJRkVt6SPAhy0H4lCmiRmw52Fmr+W9kJufD1x/i8PUjqutKhkTLrMiyvIH83j9YfQrn/R+rwuZ5r/vA3jZtSXsJxH6XIOiH/fAPCVfbZOkDRzsTy01IUHLuT+3+nm+A9kZrZ6VGlpeIjdZGUKUw14+qBZIASEaEtXwv+XWiZNK9fyej4KEfkeY/q1xLasXX9lm0nhjlWewCyydeeuklFaz88kvcYnVxQkND1YrnEiDJ+lKysrhkPmSVclli4ffff0/xuIm7wC5duqSySTJqSFZW37p1q8nV3WUZB3mP8uXLq5XPJTslpH1TpkxR2Sjp8pKbvs2Ju8BOnTqF5557Dk5OTnB3d1erqsvn0RswYIBaZX3GjBlqNXXZZ/jw4Yb3SomsFv/666+rm9xP7MyZM+qcyigDFxcXtSL8lSva6spi4cKFKoCSzJG894gRIwwLmMrnMM5uPXr0SG2TJS6E/JTHmzZtgo+PjzrGnj171PE7d+4MLy8vODs7o0GDBvj3338TtEvWSpPzW6pUKfW6ihUrqvbLxVTuy7kwJu2Q97p8WesioYRkkjmppZHgR+pIto5pidXDmqi5XMa3r4L+TcrghWpeakSSvihZinhlSHefRqXxTa/aasSV1KN838dHzdtTu1QhVCnmiunda2PPB8/hrVbl4eJgqyb1k/l9Wk7fjh92XlFdZjLhoUwQ+H2feirzlB6l3Qtg6eBGajbgSkWd0bthqaQ7XdutTRqod2QREHI37W9yIS6j/Ey7VBrTSMsCSbAkAZcpUsszrylw6Eftsc9A4N0LwAfXU76NOq7NU0OUTvyT0hykc15WzM1udgW0f23TQLIH/fr1U8HERx99ZFhzR4IfyS5I4CPBg1xw5QIqF/aNGzeib9++asXxhg0bpmmV9ldeeUVdoA8ePKiGIRrXC+lJwCDt8Pb2VkHM4MGD1bb3339fZVpkzS/pqtNf3GVIY2JhYWFo164dmjRporrhAgMD8eabb6pAwzjI2759uwpA5Kdc5OX4derUUe+ZHAk09u/fjzVr1qjAYcyYMWpB1jJltO4D6RKTIE/qof777z91rvbu3YvoaG315nnz5mHs2LFqvbL27dur8yDPp9e4ceNUwCJBonT9yZpoHTp0wGeffaaCm19//VV1bV64cAGlS5dWr5HfsbT922+/Re3atdUw9qCgIPX7fuONN1S277333jO8hzyWzyLBESVdMmLU8uNqXaVmFd3xQ9/6hrWifJKpI34aGYNYnS7N87pIUDO+fVWVnfn94E0s3HtNTZA3bdN5wz4yZ01al7lIrIKnM3b+r7UqGE6ygnjoPWD1m/H1MzJXj3Rn7Z2VtiyQ1ODIRIeicvvU99dngY4v09bWKlwmPuuzbSpwcH58RqfznKQjyojMTeYBooSCg4Olw179TOzp06e6s2fPqp8GEaE63STX7L/J+6bDuXPn1Ofavn27YVuLFi10r7/+erKv6dixo+7dd981PG7VqpVu1KhRhsdlypTRffPNN+r+li1bdLa2tro7d+4Ynt+0aZN6z7Vr1yb7Hl999ZXOx8fH8HjSpEm62rVrJ9nP+Dg//vijrnDhwrrQ0PhzsHHjRp21tbXO399fPe7fv79qX3R0tGGfHj166Hr16qVLyYcffqjr0qWL4XHnzp1Vm/TGjx+vK1eunC4yMtLk6729vXUfffSRyeeuXbumPsexY8cM2x4+fJjg9yI/5fG6det0qalevbpuzpw56v6FCxfU67Zu3WpyX/m92NjY6A4ePKgeS/s9PDx0v/zyi8n9TX7X84llB2/oyo37S1fmg790Q5cc0YVHxX+HspK8z4rDN3XPf71DvfeYFcd0sbGx5n+jmBid7tcu2r8j3zXU/i25/J/2+JOiOl3I3dSPcX2vtv+00jpddFTa3ndxZ+0169+JP8as2vH/psn2p0n/3SUyx/U7MXaB5SNVqlRB06ZNVfeMkIyIFEBL95eQTNAnn3yiur6KFCmiulm2bNmCmzfjFrxLxblz51TXi2R29CRDk9iKFSvQrFkzVdMj7zFhwoQ0v4fxe0mGw7gAW44pWSjJiOhJN5SNTXzdg2SDJFuUHDkHixcvVl1fenJfskpybH23kXR52dklnUtFju3n54fnn38emSV1WcYkQyfZm6pVq6JQoULq3Ml50J87aZd81latTK/LI7+Xjh07Gn7/GzZsUF1mPXr0yHRb8wptrajLGL/mFKRu+dWGpfHda/VUTU52kPfpWb8U/hndEv+92wpf96htvhXSje2ZqWVjbJ3i62fKPwuUagxEhwN7Uh7ZmWD4u8z+bJPGzgT9iLDjS7UlKBZ1AB5e07I+r68BXv4WcEz7yvZEmcEuMHN1RX3oZ5n3TScJdt555x3MnTtXdX9I95b+gvnVV19h9uzZqqZHgiAJLqQLKzIy0mxNlu6ZPn36qDof6cKS7q3ly5fj66+TqQvIpMRBilxM9IGMKRLwSRdX4qJnCYy2bduGF154QdUcJSel54SMKhPGE7AnV5OUeHSdBD9SUyXdYtJlJe/VvXt3w+8ntfcW0k0o3ZrffPON+v3L55RaLLN4+hBYPRio1hmo1zdzx9o1A/A7BnT9IXMrTN89AWweD1R5CWj0VvwyDSbIEPfP/z6Hn+KWSxjeugLea1vZvAFIdKQWfFz6R1tWoGqnZEdCJZ7JOYkb+7Suo+J1gOcmpP08Xd8LbP9Mu9/x6/j6GfmcEqDISuq+i4Dmo1MeEZbW+h9jpRtrgZasvXX0V21b3b5Au8+SziFElMWYATIH+YdD/oLK7lsG/mHu2bOnuggvW7ZM1ZBIXYj+H3ipU5EiW8l4SHZFak8uXtQmX0sLyUxInYoMV9c7cOBAgn327dunammkDkkyHJUqVVL1Ncbs7e1VwJHae0mhtNQC6Un75bNVrpzxFa6lYLh3794qm2J8k236YmgZLSeZM1OBi9QySWG4BEspjZozPkeJh/snRz6fFHZ37dpVBaiSQZOiaj3ZJsHdzp07kz2G1BBJYCV1SlJnJb9/szm1SqsJkYtrZlbYiXwC7PwSOP9XfEFsRkgbNr4H3NgLbBmvZRtk1uJk1sn636qThuDHsFaUOYOfuyeBBc9pRcd3fIEVr2tz2Dx5kL7jSM3Mpg+0zyM1OwfnAfOaANd2pf7asCBgddy8ObVfBer2Sfi8ygI10rJAe2cnfxypFwq6oK2aXrFN+trfegJg4wC4lgD6rNaGxTP4ofwYAEkmQi4YMmqoUaNGOHQobqVZE+SCM3XqVJW1kP3lIp14Xhu5cMqoIlm/SP4iln2lW4dLnmmk20T+6h8/fry6CMsFVU+CEckwSJAiXStvvfUWAgIC0nzsNm3aqNFd/fv3V8GJBAkS6BiT95AuG8n6SLGxFOuuXbs2wT7yfZDiXQkMpIBXumkSkyySfAfkvaRoWoqcJbMl2Q0pws6Ie/fuqW4hOWaNGjUS3KS4WEagPXjwQBVay3ozEhQdOXJEjXxbsmSJoetN5jGSjJZ8Nnnu6NGjmDNnjnpOvpONGzdWBdJyjiVYkS7AtJBzJ4XZcl7k/L722msJslly3qTtEtRIW+UcyoiyP/74w7CPdJHJ71x+/3I8U12UGSajeMTjuykufpmq24eBmLis4745QET8yL50kS4eWblaLrb2zsCtA8C8ZsD+7yXdk6BwedjSo1h99LYqFJZupzfNuVJ6TBSw4wtgQWsg4JS2Ynqd1wEra+D0KmBuI+D8xrQdS7I+8hlUwbAOqNEdcCsFPLoJLO6kBXzJnS/5zGuGaL8fj2eADiZmZtZngcSRhcBjf9PHurhF+1mmKeBUCOkis0OPPgWMPAZUSmfwRJRXAiCpBZHRMpMmTVIXCQlopFskuRoNuVD88MMP6mJy9uxZDB06VP01fOzYMcM+X375pfrr9rvvvlMXGHk8ffp0wwWItG6whw8fqnNtXK8j57devXpqu4xwkgyDDCNPK8m+SDAjkwjKqDHpbpERS8ZefvllNapKgggZjSXBlgSsxmS+ohdffBGtW7dWGRNTQ/Gl20a6qyQgkeHg0hUkdTfye88oyYhJdsRU/Y5sk+Dlt99+U8PpZfSX1ORI96GMnFuwYIGhu02CEOlG/P7771UNkgyXl0BIT2pwZMSYvE66GD/99NM0tW/mzJlqNJjUccnoL/k9ye/LmHz35Vy8/fbbquZLRrsZZ8n0v3/pNhs4cCDMRv7A0AdA4vrujB/L+DhPHwCHF2SsPZJFEg0GAW/vB8q1AqKfatmgX7RskKyX9cq8fdh6NiBr1oryP6UFPpL1kSHg0uU1/CDQZS4waKsWiIQFAstf07oPk8sGSVZMuvL0NTMu3kCfVUD3n7XPJkPGhZwrGUpufA71ZHSXzNuj6n4WJ99lVr516lmg1GZ/To2LF2DLyUUpH68GLxkfuXjpL1ry16wU0cpf8jIEODG5WEtGQeZyMb5Y6i9MQi42kgEwnrsl8T6p4WrwlJdJZk4COumuTClblq7veuB54PtG8Y9r9gC6/WT6/S/dUz+bV/Qw3cW0sD1wcx9QtoUWSEnGRDIG6akFkuzPkq6ArSMw6oRWyyL/1ElWY+tEIDIUMTaO+Dq2N+Y9bQN3Z0c10WCDshkbbm4y67N7JrBruhb4OBXWMi41uiXsuo4K19axkkyXdEs5ewEvzQKqdIjf5+YBYN3bwIO47jvJHknNTOLMi3zm9e8AIXGzJzccArSZrHWX39gP/NJRW5Pr5TlAvX4pt//yNuC3V+LO30ktYNELDwGml9M+1ztHAfcKmT9fRPlpNXj5C9TX11d1mxgaY22tHkuhrCnSFZL4H2IJbGSSOD3561jqL/S1K9JVIM/LfCzJkePKSTO+EeU18j2XmcCli05GfmW0q9CkG3H/Dzq4xRfaJvrbSv7W+nbbJfT9+ZC6vThrN1b73kZktFFRetRT4M6R+ALdIhXiskCmgymT5H2ly0lIZkRfyCuBR4NB0A3bC7/CDWETE473db9gg/MX2Ph6SfMFP/6n42p9PteCBCnAHn4IqNk9ad2enSPwwlTgjX+0bFBoALD8Va2rKsQP2PwhsPBFLfhxKQ68tlLLHpnqdpJ5cyQbVK+/9ljqpyQbdO4vYNUbWvBTq5dWdJwaOVbJhqazQPrZn90rMvihXM1io8CktkPqdRL/IyyPz5+PnwTMmKT8pRtAJm6T2h4JdKQmwrhgVjJHEsBI+l/qHeQ56YaRmpHkTJs2TY1KIsrLpCtRur+k61G6+8xK3+XS4A1g/1zgsZ9WBxR3gZQRVlP/Ootf9mlF2052NrgQ8BjvrjyBGf9cUDMk925YGs5+cfU/crGXgKDl/4B1Q4F93wIN3kxbFkhGGN06qGUvZCRTooVJP9oajDV3R6KPzTZ8bL8cNaJPA0uf0+pZkMmiZwkyZHbl2CjAsZCW9TEV+Jiqi3lrF7D9c2D/d8DJFcBJqd2KCyJlosJ2n6debyNDyGUouYzE+3Mk8PA6sCLu3z73SkDHmWkbPKFqgT4AfusGHPkZaDYqPgukr//JaPcXUQ6Rq4bByxBtqWmQ4EZS5xIESR2Dfl4TIQWfS5cuVaOcpP5CCkalzkK6z6Q2wxQpCJVaJD0JoKQrjigvkeJn46L3LKn/kTlhbh7UurBkm3sFRMkIq5UnsO64NlXE5E7V8IpPSSyTmY/3XMPd4HB8uvEcZm+7hPkltqCZ7FS2uXYRlq406UaSYEqyQHEBTUh4FO4+CkdoRDSqFneJX+E8ueyPDMIKfoqhS3xx4nYwbKxtUK79KNhXG6XNRyNdbZcTLiuSKZU7Ai99k7DrKDV2TkDbT7Q6oXXDgPuXtUCw0+z0DTUXFZ8H3t4HbPkIOLZECwZlvp/0dCNWeB4o2UArSpcAVLrdZOFUGcIvGABRLmexAMjDw0NlaBKPMpLHyS16KQWxMrpFahNk3SoJaiTjI8O19f73v/+pbTJCRz80WIZZS5YnuQBIlhXgat9EKZOCYVn1PMmSCkEXgbB72kW2hI8WvMQFQE9rvo63l/pi+4V7ak2rGT1qo0vdEuplQ1tVwMBmZbH+mB9+2HUFV+6FwfbWXtUxv/pBWbhfCMT90Ei4evbDCw8mI+S/mXj9UFVcC4Za3VxP2lOtuCt8yhTGiwXOobGM9pKRX5K1iHPk+gMM/e0ogkIjUKiAHea+Vg/NKnpoT/b7U+vWCU1+gsx0cSsJlGuZoWkqDKunD90DXN2pzZuT3lFWejK0XIaYS+ZM5gzzfCZ9r9ePCJMs0OGfgaZxGaUn97VjS9uIcjGLBUAy14uMgpFuLP1IIymClsf6hSOTI3VAsmCnDIuXVbtlbhu9J0+eGCab05NAK6XJ7zKCw+opr9N/x+XnpPWnsXj/DZR1L6CGiHf3KRm/srh+xJdcuGVkjwRAu6Yj9tpu9P3pAI7cfARHO2vM6+OD1lWKJp35uEEpdbztp2+i3hptUdbvrhbDtSuH1X0bVMC/9l4ohwA0vr8WJ2O0yQMlkLGzsca9xxE4dScYp+48Qkf7L1UA9QfaYO/f/vApE6FqjL7cfB5RMTq1SOmPfeurhUIN5N+LSi8gR5FsUGUzZVi862T8tZIFKlFfq8uSLJBN3MSiMveP/j5RLmXRLjDpdpKsjEyIJ8OmZeiwDNnVD8+VuVck0JHsjZAFNmWWXqlhkJ9SzCmBjSyiqSfDg6XmRxaHlC4wGSIvdUPmmvBNP9RZAq20zLxLlFvJd1zM3n5VBT/i+v0nmLDuNL7ZehEDmpZF3yZlUEgKnkWZ5trPkg2gs7aDdehd3Lt/Hq6OJbFwQAPUT6HIWGY+ft5F3iMakU5FUbl8HVjfC0VxNye1mvnFyKEod2kK3nPegl79pqK4ZxFDt5ffo6c4cuMhHpz6Bw0uX0SEzg4zwjog8Lgf1sd1u4mONYvjqx614rvLKI1ZoPHA0rgskHNcAPtMGhY/JcrhLPovgUzIJ5PPTZw4Ef7+/iqwkYkN9YXRMmGecTZHur5krpqrV6+qCf1kVluZgE7WRdKT+X5kXhmZB0XmE5JuMpnQT97DHCSbJO+nn6tI5qPJkrV6iCxEMj4S/Mh3/HRQNObv0tYam/JydbXS+U+7r+HOo6f4eutFzNt5GYfsd0BVlkjmRwaEPdbhESqiNs6hTYFL6P5mD1Qtnob1neICKfsKLTG/e8J10BBTHfjuV9g/vIYK15cDJUYanpJuuZfdHAHf5eqxVf0BmFnlRRy58QC+Nx7i9sOn6NWgFN5qWZ7/r2ZERaMs0KMbcbM/Z36tO6J8PQ9Qbp1HQE6ZBGyPHj2ySPuIssP5BzEYu+GGGockhcsDmpVT26Wo+e9TdzF/51VE+p/DNof/IVxnhwmV/8LzNcvg4/Vn0C98CUbarkNY5W4o+Gr8IIUULeqoDaeXeXDqm5ik8dhSYP3bQAEPYPRJbX4b45Ffv3bWan9GHQdc4yf4JDO4tBVY2l27X6YZMPBvS7eIKNPzADEXnAHyV6SsKl60aNFkF7Ikys2WHb6DqRu16SjGta9iCH6E1N10rlMCL9f2xuW/jwKHgaOxlbDq5H11E37u9YGwdSh494A2Miu1zItMCCijjYRMgGiKzGGz6yttJmTpjmk20mjkV9yszz4DGPxkBan5kQJ3WcOsSkdLt4bILBgAZbI7TG5EecmSAzcMwc/oNpXUaK3k/hCo9PSEul+h4YvoFOqNjSf9VK3P+FebA7OmACF3tIClSPk0rP8VATgXS35yPRtboOV7wPrhcfMCDdKyQLIIqIw6s7FPMu8PmYkEsD2XaAvU6pfdIMrlLL4YKhHlHH8cuYWP151W9yXwGfV8pTTN/+NVsw3mvFoXJye3w/LBjeHm6gaUjKvjMbUuVWL6fco2SzlbJFmgwmW1YfeyrEWCeX+Y/clSbiWARm8BtvaWbgmRWTADRJTDyWR/dx89VYXHMmmgjHryexSOgJBw1ClVCKPaVFLdUpm1/vgdfLD6pLovI7w+eLFyykXDMlGfLN0gdTfSPQLA2cHonxSpFbm5XytuTm3tqRtxI8niCqmTJUOvZXZoyQLJEg0yW7Qh+zMmrR+ViIgBEFFOExgSjs//Pofz/o9VsBMSHj/pX2J7Lgfh3N0QzO1TL35engzYfPouxv5xQiVUXm1YGpM6VUt9xJTx/D+yplViEszsnqFld1KqA5L6n1uHUq7/SZwF2jldG5G0Mm5ma1n/itkfIkoHBkBEOciN+2F4/eeDuPXgaYLtro62ari3dnNU8+PY21irdbS2nQ9Ev58PYUH/+nBzSv/kdBtP3sXoFccQE6vDK/VK4LMuNdI2XNzQbZVM1kYCI2s7bXVymUG4SHwhdQIyvFrV/3hpC2ymRp8F+nMEEPWE2R8iyhAGQEQ5xFm/EPRbeEgt11DGvYDKwpQqXADFCzkl7FoyUrtUIQxafBiHrj9A7x8PYPEbDVDUxUQ2xoTH4VGYsuEsVvneVo871iqO6d1qqUkJU6Xqf1LptpICZekak6UpJFhKLgAyDqTSOk9P7d7aiDDJAkn2R+pTiIjSgUXQRDnAoWsP0OvH/Sr4kUkDVw5tgueqeKGSl0uywY9oWK4IVgxpAg9nB9UV1mP+frVmV2oOXL2PF2ftVsGPxBxvtSqPWb3qwDattUT3rwCh/nH1P4kmLTSmD45SKoTWPyc1Q2klWaBuPwMNBgOtP0z764iI4jAAIrKwbecC0Pfng3gcHo2GZYtg+ZDGac7iiGrerlg9rAlKFXHCjftP0G3ePpz3DzG5b3hUDD7beBavLjigiqrlNX+81QTj21dNXyG1vv5HVgs3Vf+jJ6O69EXOpuZcTcv8P8kp1QDoOAMokPwSG0REyWEARGRBa47expAlvoiIjkWbqkXx66CGGarjKeNeEKuHNlWLfQY+jkDP+fvhe+NBgn3O+AWj83d7sWD3NRWL9G5QCptGtUSDFNboynD9j16pRoC1LRB8S+uuSkwm1osOBwoWBTxSGHJPRGRmDICILGThnmtq5JW++Hje6z6ZGslV1NVRdYf5lCmsRo71+ekgtp8PVMefu/0yuszdiwsBj+HhbI+f+tXHF91qpdi9liyJntI6bF1fB5RcN1hG6n+IiMyAARBRNpO15L7+5wKm/nVWPR7UvBxmdK9tlrl83ArY4bdBjfBsZU+ER8Vi8K9H8NKcPfhqywVExejQrroXtoxuiTbVtAWHDd1QQZfS/iYPrgKP72r1P9IFlpqU6oD0XWmpBVJERGbGAIgoG0k2ZsK605jz32X1+H/tKmNCx6ppG3mVRk72NljQrz661PFGdKxOFUdLpmdGj9qY/7oP3J0dEr5g3TDgu/rAoQXmrf9JLQCKjsh4/Q8RUSZxGDxRNpHRWe+tPIGD1x6o3p5Pu9RAn0ZlsuS9JJs0s2cdlPNwxtWgUBVolSxcIOmOd08CZ9Zo97d8qC1f4V037ctWpIVxHdDDG0DhuM/M+h8isiAGQETZ0OW10vc2pm44q5a1KGBvo7IxHWoWz9L3laySLJORop1xq6hLd5ZMRigzK7+1C3B0S3X9rzR3W0kdkHc94PYh7bX6ACit638REWUBdoERZSGZ10dGeb2/6qQKfuqXKYxNo1pkefCTJpL9kdW9YQX03wC4ldZmbP5zpOkh6wnqf+zTVv+TUjcY63+IyIIYABFlka1nA/DirF3qp52NFT54sQpWvNVEDVnPEfTZnxrdgNKNgB6LtK6qs+uAwz+Zfo0+gFH1P04ZD4Ck/ic9638REZkZu8CIzEyWmPjkr7P444i2xITMzSP1ODJhYZpFRwK29lnXSP9T8dmfVu9r26T+54WpWi2Q3GQtr+K1E74uvd1fSeqAbmp1QCF34up/PLUV3YmIshkzQERmdPDqfbSfvVsFP2qJiZblsX5Es/QFP9d2AzMqAqsHJ98VZbbszyuAZ+X47Y3fBip3AGIigT/6A+Ehput/0rNshXBwji+ulmMYH4f1P0RkAQyAiMxk6cEb6L3gAG4/fIqShZ2wfHBjjO9QFQ626ZjcMDQQWD0ICA8GTv0B7P/O/A31Pw2c26Blf1rGZX/0JBjpPBdwKwU8vAZsGBUfhKn6H7/01//o6bNGMoliRjNJRERmwgCIyAzCIqIxffMFFSt0q1dSFTo3Ku+evoPExgBrBgOhAYBTYW3bv5OBW3Fz5Zg7+1O9K1C0StLnZW2t7nH1QDJE/shCbbt+9mdZ/NTexJD61OiDnas7WP9DRBbHAIjIDFYcvoXgp1Eo51EQ07vXgotj+tfzwu6ZWnBgVwB4Y4sWoMRGA6sGAk8SruuVuezPnwlrf5JbaLTNZO3+5vHaiLHMZm1KNQasbOLqf54CBTwSdr8REWUjBkBEmRQdE4uf91xT999sUQ42GZnVWYKLHZ9r9zvO1AKDTt8ChctpEwiuH26eeqBd042yP1VT3rfJCOCZF+PnB7q6M3MBkNQBlagX/5jrfxGRBTEAIsqkjafu4s6jp3AvaK+6v9It9B6wahCgiwXq9AHqvKptd3QFei7Wam4u/A0c+D5zDQ04A5xdn3r2R0+Cky7zANeSwIMrQKh/xut/9IyDJ9b/EJEFMQAiyuQszz/uuqruzyq9G47zGwLHlqY9WxMbC6wdogUXnlWADl8lfF6GobeLywxtnQTc9s14Y3fqsz9dUs/+JKgHWqh1XQlZ2T0j9T96ZRgAEVHOwACIKBP2XbmPM34haGt3Ei2uzQbuXwbWvw0s6wWE+KV+gD0zgSv/AbZOQI9ftGUjEmvwJlCtMxAbpXVFPX2Y/oYGnNUmODQ18is1Mkliu8+018qkiZlRpglQqIw2JF4CPiIiC2EARJQJP+y6imK4j2/s58UX+ko30aUtwPeNgePLks8GXd8LbP8sru5nRvJZGemKenkOULisNpHg+hHprwfSj/ySQMqrGtKt8TBg/C2g4WBkigR47/gCg/5l/Q8RWRQDIKIMOnc3BHsv+mOO/XcoGBMMFKsF9FuvLSYqGQ6Zy2fdMOD33kDI3YQvDgvS5vuRup/ar2q1PymRxUklQyTBlczgfHB+OrM/UvsDoNUHyDAHF5iFjR1gw0noiciyGAARZdCCXVcx1nYlGlhfAOxdtADFzlHL5EiG4/mJWsBycTPwfSPgxHItcyN1P2uGaIuKyjIQHWakLRsiQVXbuIzRPx8Dd3zTMfJLl/HsDxFRHsQAiCgD/B49xcOTmzDcVubUAfDyt4B7hfgdJMPR4l1gyE6geB0tG7T2LeD3V4Ftk4Er2wBbRy1okuHhaSVdUFU7xdUDDQSePkp5/8BzwJl1mc/+EBHlMRYPgObOnYuyZcvC0dERjRo1wqFDcTPEmhAVFYWpU6eiQoUKav/atWtj8+bNSfa7c+cOXn/9dbi7u8PJyQk1a9bEkSNHsviTUH6yavtBzLCdqz2oP0hbU8sUybi8uQ147mPA2g64uAnYO1t7TkZ8eVVP3xureqDvtELiRzeA+S2AH59N/rbkFaPsTzrfi4goD7NoR/yKFSswduxYzJ8/XwU/s2bNQrt27XDhwgUULVo0yf4TJkzAb7/9hgULFqBKlSrYsmULunbtin379qFuXW2hxYcPH6JZs2Zo3bo1Nm3aBE9PT1y6dAmFC8ctLUCUSSFPnqLJ8XFwt3qMx4WqwkU/TD05kg1q+Z62yKjUBN09DtTqDdTtm7EGOBXSMkeL2mtF0XJLiSxpwewPEVECVjqZyMRCJOhp0KABvvtOW/AxNjYWpUqVwjvvvINx48Yl2d/b2xsfffQRhg8fbtjWrVs3leWRwEjI6/bu3Yvdu3dnuF0hISFwc3NDcHAwXF3TsYo35Qu+i8bC58bPeAInOA7fA2vPiml/cUyUNiGhFExbZzIBK8PsZWmL1BQqbXrNLyKiPCY912+LZYAiIyPh6+uL8ePHG7ZZW1ujTZs22L9/v8nXREREqK4vYxL87NkTt0YRgD///FNlkXr06IGdO3eiRIkSePvttzF4cPLDd+W4cjM+gUSmRF34F3VvaIuDnqg7BU3SE/zoR0B51zFPY1y9tRsREeWeGqCgoCDExMTAy8srwXZ57O/vb/I1EtjMnDlTdWlJtmjr1q1Ys2YN7t6NH2J89epVzJs3D5UqVVJdZMOGDcPIkSOxePHiZNsybdo0FTHqb5KFIkoi5C5iVg+GNXRYY90W9Tq+aekWERFRbi2CTo/Zs2erwEbqf+zt7TFixAgMHDhQZY70JDCqV68ePv/8c1UXNGTIEJX9kTqj5EgWStJl+tutW7ey6RNRrhETDd3qQXCMfIBzsaUR1GwyHGzjlocgIqJcx2JdYB4eHrCxsUFAQECC7fK4WLFiJl8jBc3r1q1DeHg47t+/r2qCpOanfPnyhn2KFy+OatUSznVStWpVrF69Otm2ODg4qBvlQ5FhwL7vtCUsUhLqD6sbexGqc8R7GINlTZ/JrhYSEVFeCoAkg+Pj44Nt27ahS5cuhuyNPJbMTkqkDkhqe2RYvAQ2PXv2NDwnI8BkFJmxixcvokyZMln0SSjXkqUoZN2uh9fT/JIPowahSdPGcHOyy9KmERFRHh4GL0Pg+/fvj/r166Nhw4ZqGHxYWJjq1hL9+vVTgY7U6IiDBw+qOX7q1Kmjfk6ePFkFTe+/H7+445gxY9C0aVPVBSaBkcwr9OOPP6obkSHrs21q/HISriW1CQalQDmFiQ/H7tbhCKpjV/Ny2ddWIiLKewFQr169cO/ePUycOFEVPktgIxMb6gujb968maC+R7q+ZC4gKXR2dnZGhw4dsGTJEhQqVMiwjwyrX7t2rarrkUkTy5UrpwKrPn1SWWuJ8ocb+4B1kvW5pj2u1x9o+yngmHS4ZGysDpcCQ+F74yGWX7mJk7HB6FrXG96FnLK/3URElHfmAcqpOA9QHhT5xCjrowNcS2jLV1RsY9jlaWQMjt96BN8bD3DkxkMcvfEQIeHRhuftbKzw54jmqFqc3wkiopwoV8wDRJTVwiKiMevfi3C754teftPgGXlHbT9YqCP+9BqO8KPOwNETkL8BrtwLxRm/EETHJvx7wMnOBnVKFUL9soXxYo1iDH6IiPIIBkCUZ01cdwJVTs3AIJtNsLbS4a6uCMZHvYkd/nUAf1lENOlCol6uDqhfpgh8yhRWQY8EPHY2uWq2CCIiSgMGQJQnrT9+BwVO/orBdn+rx+eLvYx9Fd9FYzsXNDaxfzFXRxX0lCzsBCtZcJSIiPI0BkCU59y8/wST1x7D37Z/ahvafooqTd8BV8MiIiI95vYpT4mKicU7y4+hY/S/KG71ADoXb6DhEEs3i4iIchhmgChP+WbrRZy7dQ8/Oq5Xj61ajAVsOcs3ERElxAwQ5Rn7Lgdh3s4r6GmzA154AEj2p14/SzeLiIhyIAZAlCc8CIvEmD+Ow04XhfcKbNQ2MvtDRETJYABEuZ7M4/P+qhMICInA2277USgqUMv+1O1r6aYREVEOxQCIcr0lB27g33OBKGgTg+G2Wu0Pmo8B7Bwt3TQiIsqhGABRrnbePwSfbjyn7v9Y8zzswu4CLsVZ+0NERCliAES5lqzdNfL3Y4iMjsULz7ihqd9i7YnmY5n9ISKiFDEAolzr041ncTEgFB7ODvjmmTOwCrnN7A8REaUJAyDKlVb53sbSgzfV/W+6VYXzoW+1J1j7Q0REacCJECnX+WXvNUzecFbdf6tVebQI2wJI9se5GFCvv6WbR0REuQADIMpVw92/+fcSvt12ST0e0LQsPmhTHviuR/y8P8z+EBFRGjAAolwhNlaHSX+eUUPexdgXnsE7z1WEle8vQPAtZn+IiChdGABRjiejvN5deQIbTvjBygqY2rkG+jYuA0RHAru/1nZi7Q8REaUDAyDK0Z5ERmPob0ex6+I92NlYYWbPOuhU21t78sSy+OyPD7M/RESUdgyAKMd69CQSb/xyGEdvPoKTnQ3m9/VBq2c8tScl+7NLn/0ZDdg5WbStRESUuzAAohzJPzgc/RYeVPP8uDnZYeGABvApUzh+h1MrgeCbgLMX4DPAkk0lIqJciAEQ5TjXg8Lw+s8HcfvhU3i5OmDJoEZ4xssl4U6X/9V+1n+D2R8iIko3BkCUo4RFRKtuLwl+yroXUMFPqSIFku54x1f7WbpxtreRiIhyPwZAlKNM2XAGV4PCUMzVESuHNoWni0PSncKCgEcyHN4K8K5riWYSEVEux6UwKMf466Qf/jhyWw11/6ZXHdPBj7h9RPvp8Qzg6JatbSQioryBARDlCLcePMH4NafU/eHPVkSTCu7J76zv/ipZP5taR0REeQ0DILK46JhYjFp+DI/Do1G3dCGMalMp5RfcicsAlaiXLe0jIqK8hwEQWZys7SVz/bg42OLb3nVhZ5PC1zI2Nj4DVIIZICIiyhgGQGRRB6/ex3fbL6v7n71S0/SIL2MPrgLhwYCtI+BVPXsaSUREeQ4DILIYmel59IrjiNUB3X1K4mX9Ehdp6f4qXhuwscvyNhIRUd7EAIgsQqfTYdzqU7gbHI5yHgUx5eU0ZnP0I8DY/UVERLk9AJo7dy7Kli0LR0dHNGrUCIcOHUp236ioKEydOhUVKlRQ+9euXRubN29Odv8vvvgCVlZWGD16dBa1njLi90O3sPmMv1rgVOp+CjqkcUoqfQaopE+Wto+IiPI2iwdAK1aswNixYzFp0iQcPXpUBTTt2rVDYGCgyf0nTJiAH374AXPmzMHZs2cxdOhQdO3aFceOHUuy7+HDh9W+tWrVyoZPQml1KeAxpv51Rt1/v10V1CyZxrl8osIB/9PafWaAiIgoNwdAM2fOxODBgzFw4EBUq1YN8+fPR4ECBbBw4UKT+y9ZsgQffvghOnTogPLly2PYsGHq/tdfx60MHic0NBR9+vTBggULULiw0SKaZFHhUTF45/djCI+KRYtKHhjUvFzaX+x/CoiNAgp4AIVKZ2UziYgoj7NoABQZGQlfX1+0adMmvkHW1urx/v37Tb4mIiJCdX0Zc3Jywp49exJsGz58ODp27Jjg2MmRY4aEhCS4Udb4cvN5nPd/DA9ne3zdszasra3S/mJD91d9qOmiiYiIcmMAFBQUhJiYGHh5eSXYLo/9/f1Nvka6xyRrdOnSJcTGxmLr1q1Ys2YN7t69a9hn+fLlqjtt2rRpaWqH7Ofm5ma4lSpVKpOfjEwJfhqF3w7IGl7AV91ro6hLwkA2VZz/h4iI8koXWHrNnj0blSpVQpUqVWBvb48RI0ao7jPJHIlbt25h1KhRWLp0aZJMUXLGjx+P4OBgw02OQeb33/kARMXoUKmoM1pXKZr+AxhGgHEGaCIiysUBkIeHB2xsbBAQEJBguzwuVqyYydd4enpi3bp1CAsLw40bN3D+/Hk4OzureiAhXWpSQF2vXj3Y2tqq286dO/Htt9+q+5JxSszBwQGurq4JbmR+m09rWb0Xa5j+3aYo7D7w8Jp2vwRHgBERUS4OgCSD4+Pjg23bthm2SbeWPG7SpEmKr5XsTokSJRAdHY3Vq1ejc+fOavvzzz+PU6dO4fjx44Zb/fr1VUG03JeAi7Lfk8ho7Lx4L+MBkL77y70S4FTIzK0jIqL8Jo2Tr2QdGQLfv39/FaQ0bNgQs2bNUtkd6dYS/fr1U4GOvp7n4MGDuHPnDurUqaN+Tp48WQVN77//vnrexcUFNWrUSPAeBQsWhLu7e5LtlH12XrinRn6VKuKEasUzkGEz1P8w+0NERHkgAOrVqxfu3buHiRMnqsJnCWxkYkN9YfTNmzcN9T0iPDxczQV09epV1fUlQ+BlaHyhQswK5GQy6aF4sXoxNTFluhmPACMiIsokK52sSUAJyDB4GQ0mBdGsB8q8iOgY1P/kXzyOiMbqYU3hUyad8zLJV3R6OeDpQ2DwdhZBExFRpq/fuW4UGOU++y7fV8FPURcH1C2VgUydrAAvwY+NA+DFbkwiIso8BkCUbaO/2lUvlr6JDxPX/xSvBdjam7l1RESUHzEAIvO5eQAIPJdgU3RMLLae06Y5aJ+R0V+CK8ATEZGZMQAi83jsD/zSEfixdYIg6ND1B3gQFolCBezQsFyRjB1bXwDNEWBERGQmDIDIPALOALHRQPRTYOUAIDJMbd4S1/31QlUv2Npk4OsWHaEtgipKMgAiIiLzYABE5nH/Svz9e+eBv99HbKwOW84EZHzyQ+F/GoiJBJyKAIXTsXI8ERFRTp4HiPKI+5e0n6WbArcOAMd/w02XuvAPKQ5nB1s0q+iR+e4vrgBPRERmwgwQmcf9y9rPOq8Crcapu957P0IFqztq4VNHuwwuQaIfAcYJEImIyIwYAJF5AyBZq6vle9CVawX72HDMtfsWHSq7Zfy4HAFGRERZgAEQZV7UU+DRLe2+e0XA2gYXm32Dezo3VLG+hTY3vs7YcZ88AB7E1RZx9mciIjIjBkCUeQ+uyXoVgIMbUFCr9dl4LQYjo0YgFlawO/EbcPKP9B/X76j2s0h5oEAGh9ATERGZwACIzNf95VHRUKgsw9/3x1bH+WeGac9tGA0ExRVKp9Vt/Qrw7P4iIiLzYgBEZqz/qah+XL0XigsBj2FrbYUSL08CyrYAosKAP/pr3WVpxQkQiYgoizAAIrMHQJvPaJMfNqngDjdnR6Dbz0BBTyDwDLBZGyGWphXg9QXQHAFGRERmxgCIzB4A6Wd/Nkx+6OIFvLIAgBXg+wtwalXqx3x4HXj6ALCxB4rVzLq2ExFRvsQAiMwaAN159BQnbgerUqC21Yxmf67QGmj5P+3+n+8ARxZqWZ7U5v+R4MfWIStbT0RE+RADIMocGar+5L52v0h5Q/anQZki8HRJFLg8Ow6o1BaIegL8NQZY0jV++Hyy8/+w/oeIiMyPARCZZw0wF2/AwdlQ/9PO1Npf1jbAq8uBdtMAWyfg6nbg+yZat1jibJA+A8QRYERElAUYAJHZhsDfexyBw9cfpLz4qQRBTd4Ghu0FSjUGIh8DG0YBv70Snw2KjgTuntDuswCaiIhyQgBUtmxZTJ06FTdv3syK9lBuXQTVvSK2ng1QiZxaJd1QopBTyq9zrwAM/Bto+xlg6whc+S8uG7QYCDgFxEQAjoW0SRCJiIgsHQCNHj0aa9asQfny5fHCCy9g+fLliIiIMHe7KBcWQBu6v6onk/0xlQ1qOgIYugco2TAuGzQSWP669jxXgCciopwUAB0/fhyHDh1C1apV8c4776B48eIYMWIEjh6NW7qA8l0N0KMCZbDvcpC63z657q/keFQC3tgMtP0UsHEAHvtp29n9RUREOa0GqF69evj222/h5+eHSZMm4aeffkKDBg1Qp04dLFy4ELqUhjhT3hAbawiAfjhthehYHeqUKoTyns7pP5bKBr0Tnw2ytgWeaWf+NhMREQGwzegLo6KisHbtWixatAhbt25F48aNMWjQINy+fRsffvgh/v33Xyxbtsy8raWcJeQOEP0UsdZ2WHA6BoANPn6pWuaO6fkMMOgfbai8fUFztZSIiChzAZB0c0nQ8/vvv8Pa2hr9+vXDN998gypVqhj26dq1q8oGUf6o//GzKoZonQ261PGGT5nCmT+u1P0w+CEiopwUAElgI8XP8+bNQ5cuXWBnZ5dkn3LlyqF3797maiPl8ADoXGRRONnZ4IP28UEwERFRngqArl69ijJlyqS4T8GCBVWWiPK2qMCLkPD3qq4Yhj9XAcXdUhn6TkRElFuLoAMDA3Hw4MEk22XbkSNxyxdQvnD78in185FTabzZgvP1EBFRHg6Ahg8fjlu3kq7fdOfOHfUc5Q+3Hz6BzUNtBFirJk3haGdj6SYRERFlXQB09uxZNQQ+sbp166rnKH/46q+TKIF76n6jBg0t3RwiIqKsDYAcHBwQEBCQZPvdu3dha5uxUfVz585VS2w4OjqiUaNGapLFlIbfy1IcFSpUUPvXrl0bmzdvTrDPtGnTVLG2i4sLihYtqoq1L1y4kKG2UVIHrt7HmbMnYGOlQ4ydM6ycvSzdJCIioqwNgNq2bYvx48cjODjYsO3Ro0dq7h8ZHZZeK1aswNixY9VkijLEXgKadu3aqVojUyZMmIAffvgBc+bMURmnoUOHqmH3x44dM+yzc+dO1R134MABNUeRBE3S7rCwsHS3jxKKidVhyoazKG91Vz228azE5SqIiCjXsdKlc8pmqfVp2bIl7t+/r7q9hCyN4eXlpYKNUqVKpasBkvGRbM13332nHsfGxqpjyBIb48aNS7K/t7c3PvroowT1Rt26dYOTkxN+++03k+9x7949lQmSwEjanpqQkBC4ubmpIM/V1TVdnyevW3bwJj5cewqjHDdiDJYCNXsA3X6ydLOIiIiQnut3ujNAJUqUwMmTJzF9+nRUq1YNPj4+mD17Nk6dOpXu4CcyMhK+vr5o06ZNfIOsrdXj/fv3m3yNLLwqXV/GJPjZs2dPsu+jz1YVKVIkXe2jhIKfRmHGP1pXYkfvuGyae0XLNoqIiCgDMlS0I/P8DBkyBJkVFBSEmJgYlT0yJo/Pnz9v8jXSPTZz5kyVyZE6oG3btqnV6eU4pkhGSRZwbdasGWrUqJFsUGW8or1EkJTUt9su4UFYJCoWdUZFG23ldwZARESUr9YCk/qbmzdvqiyOsZdffhlZSbJNgwcPVktvWFlZqSBo4MCBagFWU6Sr7PTp0ylmiKRoesqUKVnY6tzvcmAoFu+7ru5PfKkarNdrQ+AZABERUb6ZCVqKjqXLSwIQfQmR3BfJZWJM8fDwgI2NTZJRZfK4WLFiJl/j6emJdevWITw8XNUhSU2Q1AqVL590Ir4RI0bgr7/+wq5du1CyZMlk2yFF3VKIbZwBSm93Xl4WEh6FT/46q1Z7b1PVCy1L2QFh2hB4uFewdPOIiIiyPgAaNWqUWutLup7kpwxZl0Dk3XffxYwZM9J1LHt7e1VDJMeSoer6Lit5LMFLSqQOSOqRZITX6tWr0bNnT8NzEpRJEbWsVr9jxw7VztSG9sstv7rz6Clu3A/D3Ufh8Hv0FH7B2s+7wU/h9ygcoRHRaj87GytM6FgVuB/XPelcDHBwsWzjiYiIsiMAkuLk//77T2VvpGBZbs2bN1fdSCNHjkwwHD0tJPPSv39/1K9fHw0bNsSsWbPUcHXp1hKy2rwEOnJ8/ZIbMhKtTp066ufkyZNV0PT+++8n6PZatmwZ1q9fr+YC8vfX6lWkMlwKpine74duYvwabUmLlBQpaI/321VGWY+CwAltEVR4VMr6BhIREeWEAEi6uCSoEBIE+fn5oXLlymqB1IxMNtirVy81TH3ixIkqUJHARiY21BdGS52RBFl60vUlcwFJV5yzszM6dOiAJUuWoFChQoZ9ZKV68eyzzyZ4L1mgdcCAAeluY14lmbKFe66p+yUKOaGcR0EUd3OEdyEn9bh4Ie2+bCtgb5tkFXh2fxERUb4JgGQk1YkTJ1S3kszhI8PhpSvrxx9/NFmHkxbS3ZVcl5d0YRlr1apVqktupHNqo3zrxO1gXAoMhYOtNTaNbgFXR1nbPQ3uX9J+sgCaiIjySwAk2Rf9jMqyJMVLL72EFi1awN3dXc3qTLnHKl9tUdsXaxRLe/CTIAPELjAiIsonAZDMw6NXsWJFNV/PgwcPULhwYcNIMMr5wqNi8OdxP3W/h086RrxJdu0+h8ATEVHulq6ZoGXElSx4KvPqGJMZlhn85C7/nA1ASHg0vN0c0bSCe9pfGOIHRD0BrG2BwmWysolEREQ5IwCys7ND6dKl0zXXD+VMq3xvq5/dfErC2toq/d1fhcsCNunoNiMiIspB0r0WmCxEKiu/S7cX5U4yv8/uS9pEht19kp8gMuX6H3Z/ERFRPqoBklXbL1++rGZglqHvsi6YsaNHj5qzfZQF1hy9o0p5GpYtgjLuCX9/qWL9DxER5ccASD9jM+VOMkWAvvure/10Zn8Eh8ATEVF+DIAmTZqUNS2hbOF74yGuBYWhgL0NOtYsnv4DsAuMiIjyYw0Q5W767E/7GsVR0CGd8W90JPDwhnafARAREeWnDJAsS5HSkHeOEMu5nkRG46+Td9X9Hhnp/np4HdDFAPbOgEsx8zeQiIgopwZAssJ64rmBZAHUxYsXY8qUKeZsG5nZljP+amX30kUKqALodDNeA4zzPhERUX4KgDp37pxkW/fu3VG9enW1FMagQYPM1TYys5VH4ub+qZfOuX/0WP9DRER5hNlqgBo3boxt27aZ63BkZrcePMG+K/dV4qabT4mMHYQBEBER5RFmCYCePn2Kb7/9FiVKZPDCStky94+QZS9KFi6QsYNwEVQiIsqvXWCJFz2VeWUeP36MAgUK4LfffjN3+8gMYmN1WHX0VsZmfk6uBoiIiCg/BUDffPNNggBIRoV5enqiUaNGKjiinOfQ9Qe49eApXBxs8WL1DMz9I8JDgNAA7T67wIiIKL8FQAMGDMiallCWFz+/VLs4nOxtMpf9cfYCHF3N2DoiIqJcUAO0aNEirFy5Msl22SZD4SlnkWHvf5+6a4buL64BRkRE+TgAmjZtGjw8PJJsL1q0KD7//HNztYvMRIKfp1ExKO9ZEPVKZ6KLkvU/RESUnwOgmzdvoly5ckm2y8rw8hzlLKviur8k+5PSDN6p4iKoRESUnwMgyfScPHkyyfYTJ07A3d3dXO0iM7geFKYKoGXOw1fqZqL7S3AIPBER5ecA6NVXX8XIkSOxfft2te6X3P777z+MGjUKvXv3zppWUoasPqplf1pU8kQxN8eMH0inYw0QERHl71Fgn3zyCa5fv47nn38etrbay2NjY9GvXz/WAOUwuy8FqZ9d6npn7kAy/D0yFLCyAQqXNU/jiIiIclMAZG9vr9b8+vTTT3H8+HE4OTmhZs2aqgaIcg6ZoPLKvVB1v7q3W+YOFnhW+1m4DGBrb4bWERER5bIASK9SpUrqRjnTvdAIPA6PVvU/ZdwzuPSFiHwCbPlIu1+ygdnaR0RElKtqgLp164Yvv/wyyfbp06ejR48e5moXZdLVe2HqZ6kiBeBgm8HJD8XmD7QMUMGiwAufmK+BREREuSkA2rVrFzp06JBke/v27dVzlDPou78qeDpn/CAn/wCO/gpAlpBfALh4ma+BREREuSkACg0NVXVAidnZ2SEkJMRc7aJMuhKoZYDKexTM2AGCLgEbRmv3W70PlH/WjK0jIiLKZQGQFDxLEXRiy5cvR7Vq1czVLsqkq0FxGaCiGcgART0FVg4AosKAsi2AVh+Yv4FERES5qQj6448/xiuvvIIrV67gueeeU9u2bduGZcuWYdWqVVnRRsruLrDN44CA00BBT6DbT4B1JmqIiIiI8kIA1KlTJ6xbt07N+SMBjwyDr127tpoMsUiRIlnTSkqX8KgY3H74VN2XNcDS5dQqwPcXre7nlR8Bl2JZ00giIqLc1AUmOnbsiL179yIsLAxXr15Fz5498d5776lAKCPmzp2LsmXLwtHREY0aNcKhQ4eS3TcqKgpTp05FhQoV1P7ynps3b87UMfOa6/fD1OTNbk52cC+Yjnl7gi4DG0Zp91u+B1TQMnxERER5TYYCICEjvvr37w9vb298/fXXqjvswIED6T6O1BONHTsWkyZNwtGjR1VA065dOwQGBprcf8KECfjhhx8wZ84cnD17FkOHDkXXrl1x7NixDB8zrxZAV/AsmPYFUKPCtbofmfG5THOg1bisbSQREZEl6dLh7t27umnTpukqVqyoK1q0qG7EiBE6W1tb3ZkzZ3QZ1bBhQ93w4cMNj2NiYnTe3t7qfUwpXry47rvvvkuw7ZVXXtH16dMnw8dMLDg4WCenRn7mRrP/vagr88Ffunf/OJ72F20YrdNNctXpviyv0wX7ZWXziIiIskR6rt/W6an9qVy5sloJftasWfDz81NZmMyIjIyEr68v2rRpY9hmbW2tHu/fv9/kayIiIlS3ljGpQ9qzZ0+mjilD+I1vudnV9BZAn14NHFkYX/fjWjxrG0hERJRbiqA3bdqkVoEfNmyY2ZbACAoKUqvJe3klnGBPHp8/f97ka6Qra+bMmWjZsqWqA5IRaGvWrFHHyegxp02bhilTpiCvuBI3C3Qd2+vAxnmATjs3JkmxkBQ+ixZjgYrPZ1MriYiIckEAJBmWn3/+GT4+PqhatSr69u2L3r17I7vNnj0bgwcPRpUqVVR9iwRBAwcOxMKFksHImPHjx6uaIT3JAJUqVQq5exFUHXyOjgceXEjbC0s3BZ79MKubR0RElLsCoMaNG6ubdH9JkbEEHBI0xMbGYuvWrSpgcHFxSdebe3h4wMbGBgEBAQm2y+NixUwPv/b09FTD8MPDw3H//n1VhD1u3DiUL18+w8d0cHBQt7zAPyQcTyJjUMfmGuwl+LF1BJqNBlIqhnZwBer2AWwyvDYuERFRrpLuK17BggXxxhtvqNuFCxdUVuiLL75QQcgLL7yAP//8M83HkiU1JKMk3VhdunRR2ySgkscjRoxI8bVSB1SiRAk1LH716tVqKH5mj5mXFkHtX2A/EAWgSkeg9XhLN4uIiChvDIMXUhQtq8Dfvn0bv//+e4aOIVmkBQsWYPHixTh37pyqMZL5haRbS/Tr1091UekdPHhQ1fzI/EO7d+/Giy++qAKc999/P83HzMuk+8seUXghJm5h2jqvWbpJREREOY5Z+jyky0myLfqMS3r06tUL9+7dw8SJE+Hv7486deqoiQ31Rcw3b95Uo7j0pOtL5gKSAMjZ2VmtTL9kyRIUKlQozcfMy64EhuI562Nwjn0MuBQHyre2dJOIiIhyHCsZC2/pRuQ0UgTt5uaG4OBguLq6Ijfp+/NB9Ls+Di/YHAWajwHaTLZ0k4iIiHLc9TtTXWCU8zwIuI3W1se1B7XZ/UVERGQKA6A85ElkNBqHbYOtVSyii/sAns9YuklEREQ5EgOgPORqYCi622jFz7b1+li6OURERDkWA6A8JOjyYVS1voVI2AE1XrF0c4iIiHIsBkB5iOuFlernObcWgFNhSzeHiIgox2IAlFdER+KZgE3qrl/ZrpZuDRERUY7GACivuPQPnGNDEKArBMfKXNCUiIgoJQyA8gjd8aXq59qY5ihXNH5SSCIiIkqKAVBeEHpPZYDEn7pWKFnYydItIiIiytEYAOUFp1bCKjYax2PLI9qjMmxt+GslIiJKCa+UecGJZerHqphWKO/hbOnWEBER5XgMgHK7uycB/1OItrLDhpgmqFC0oKVbRERElOMxAMrtTvyufhxxaIxgOKOCJzNAREREqWEAlJvFRAEn/1B3V0S1UD/LMwAiIiJKFQOg3OzSVuBJEGILFsWfYVXVpvKe7AIjIiJKDQOg3Cxu7p+gcp0RAxsUdXGAq6OdpVtFRESU4zEAyq3C7gMXt6i7Jz06qJ/M/hAREaUNA6Dc6vQqIDYKKF4HxyK81SYWQBMREaUNA6DcKCYa8P1Fu1/nNVy9F6buMgAiIiJKGwZAudH2T4HAs4CDK1CzB67cC1WbKxRlAERERJQWDIBym0v/Anu+0e6//C1iHAvjetAT9bC8B2uAiIiI0oIBUG4S4gesHaLdb/AmUL0rbj98gsiYWDjYWqNEIS6CSkRElBYMgHJT3c+qQcCT+0CxWkDbz9RmffeXTIBobW1l4UYSERHlDgyAcosdnwM39wH2LkCPXwA7R7X5SqBWAM0h8ERERGnHACg3uPwvsHumdv/l2YB7BcNThgJojgAjIiJKMwZAOV3IXWDNWwB0QP03gBrdEjwdPwSeGSAiIqK0YgCU0+t+Vr+p1vuCV02g3bQkuzADRERElH4MgHKynV8CN/YA9s5Az8WGuh+9R08icT8sUt0vxyHwREREacYAKKe6sh3Y9ZV2v1PCuh/DLnHdX95ujijoYJvdLSQiIsq1GADlRI/9gTWDtbofnwFAze4mdzMeAk9ERERpxwAop9HptLqfsHuAVw3gxS+S3TW+/ofdX0RERLkqAJo7dy7Kli0LR0dHNGrUCIcOHUpx/1mzZqFy5cpwcnJCqVKlMGbMGISHhxuej4mJwccff4xy5cqpfSpUqIBPPvkEOgkscoOA08D13YCtY9x8P8nP7mwYAcY1wIiIiNLFooUjK1aswNixYzF//nwV/Ehw065dO1y4cAFFixZNsv+yZcswbtw4LFy4EE2bNsXFixcxYMAAWFlZYeZMbZ6cL7/8EvPmzcPixYtRvXp1HDlyBAMHDoSbmxtGjhyJHO/uSe1nyQaAR6UUdzV0gXkwACIiIso1GSAJWgYPHqwClGrVqqlAqECBAirAMWXfvn1o1qwZXnvtNZU1atu2LV599dUEWSPZp3PnzujYsaPap3v37mq/1DJLOYb/Ke1nsZop7hYVE4ub97VFUCsUZRcYERFRrgiAIiMj4evrizZt2sQ3xtpaPd6/f7/J10jWR16jD2auXr2Kv//+Gx06dEiwz7Zt21R2SJw4cQJ79uxB+/btk21LREQEQkJCEtxyegB088ETRMfqUMDeBsVcEw6PJyIiohzaBRYUFKTqdby8vBJsl8fnz583+RrJ/Mjrmjdvrmp6oqOjMXToUHz44YeGfaSLTAKYKlWqwMbGRr3HZ599hj59+iTblmnTpmHKlCmwOKlTCkhbAHQlUD8CrKDqAiQiIqJcVASdHjt27MDnn3+O77//HkePHsWaNWuwceNGVeSs98cff2Dp0qWqXkj2kVqgGTNmqJ/JGT9+PIKDgw23W7duwSKCbwHhwYC1HeBROcVd9XMAcQZoIiKiXJQB8vDwUBmagICABNvlcbFixUy+RkZ39e3bF2+++aZ6XLNmTYSFhWHIkCH46KOPVBfa//73P5UF6t27t2GfGzduqCxP//79TR7XwcFB3SxO3/3lWQWwtU9xVy6BQURElAszQPb29vDx8VH1OnqxsbHqcZMmTUy+5smTJyrIMSZBlNAPc09uHzl2jpfG+h9x1TAJIgugiYiIctUweBkCL1mZ+vXro2HDhmoYvGR0ZFSY6NevH0qUKKGyN6JTp05q5FjdunXVsPnLly+rrJBs1wdCcl9qfkqXLq2GwR87dky95o033kCOl9YC6PtPcPauVqhdkXMAERER5a4AqFevXrh37x4mTpwIf39/1KlTB5s3bzYURt+8eTNBNmfChAmq4Fd+3rlzB56enoaAR2/OnDkqKHr77bcRGBgIb29vvPXWW+o9cjz/k6kGQDL8/Z3lxxAeFYuGZYugspdL9rWPiIgoj7DS5ZopkrOPjCKTiROlINrV1TV73vTpI+DLMtr9D64DToVN7jZ983l8v+MKXB1tsWl0S5QolPxM0URERPlJSDqu37lqFFieFnBG++lWOtngZ9/lIMzbeUXd/7JbLQY/REREGcQAKMfV/9Qw+fSDsEiMXnFcTRX0asNSaF+zePa2j4iIKA9hAJQLCqCll/L9VScQ+DhCrfz+8UvVsr99REREeQgDoFxQAL3kwA38ey4Q9jbWmPNqPRSwt2jtOhERUa7HACgniI4E7p03GQCduxuCTzeeU/fHd6iCat7ZVJRNRESUhzEAygmCLgIxkYCDK1CoTPzAsMgYjPz9GCKjY/FclaIY0LSsRZtJRESUVzAAygkCTsdnf4wWNv1041lcCgyFp4sDvupei4ueEhERmQkDoBxaAL359F0sPXhT3Z/ZszbcnXPAWmVERER5BAOgnFQA7aUNgfd79BQfrNaCordalkeLSp6WbB0REVGewwDI0mRiH6MMkAx5H7PiOIKfRqFWSTe827aypVtIRESU5zAAsrSQO8DTh4C1LeBZBVfuheHgtQewt7XG7N511U8iIiIyL15dLU2f/fGoDNg54s6jp+pheY+CKOdR0LJtIyIiyqMYAOWwAmip/xHF3Rwt2SoiIqI8jQFQDguA7uoDIC50SkRElGUYAOW0DFBwuPrJld6JiIiyDgMgSwoPAR5eS5gBCmYXGBERUVZjAGRJAWe0n64lgAJF1F2/R1oGqLgbM0BERERZhQFQDur+kjmA9EXQ3oWYASIiIsoqDIBywgzQcQHQwydRiIiO1TaxC4yIiCjLMADKKYugGg2B93B2gIOtjSVbRkRElKcxALKUmGgg4KzJAIjdX0RERFmLAZCl3L8ExEQA9i5AobJq0924IfAcAUZERJS1GABZugDaqzpgrf0a/OKGwHtzDiAiIqIsxQAohxRAi7txQ+C9OQSeiIgoSzEAyiFD4BOsA8YaICIioizFAMgSdDrAP+EIsIQ1QMwAERERZSUGQJbw2B94EgRY2QBFq6pNMbE6+IdwHTAiIqLswADIkt1fHs8Adlqwc+9xhAqCbK2t4OniYNn2ERER5XEMgCxaAF3DsOlOXP2Pl6sjbKytLNUyIiKifIEBUA4pgOYq8ERERPkoAJo7dy7Kli0LR0dHNGrUCIcOHUpx/1mzZqFy5cpwcnJCqVKlMGbMGISHa7Uzenfu3MHrr78Od3d3tV/NmjVx5MgR5OgASD8EnvU/REREWc4WFrRixQqMHTsW8+fPV8GPBDft2rXDhQsXULRo0ST7L1u2DOPGjcPChQvRtGlTXLx4EQMGDICVlRVmzpyp9nn48CGaNWuG1q1bY9OmTfD09MSlS5dQuHBh5AgRocCDq9p9L6Mh8PoMEIfAExER5e0ASIKWwYMHY+DAgeqxBEIbN25UAY4EOont27dPBTevvfaaeiyZo1dffRUHDx407PPll1+qzNCiRYsM28qVK4ccI1DW/9IBLsUBZ0/DZsM6YBwCT0RElHe7wCIjI+Hr64s2bdrEN8baWj3ev3+/yddI1kdeo+8mu3r1Kv7++2906NDBsM+ff/6J+vXro0ePHiqLVLduXSxYsCDFtkRERCAkJCTBLTtngBZcB4yIiCgfBEBBQUGIiYmBl5dXgu3y2N/f3+RrJPMzdepUNG/eHHZ2dqhQoQKeffZZfPjhh4Z9JCiaN28eKlWqhC1btmDYsGEYOXIkFi9enGxbpk2bBjc3N8NNMkjZWf8j/FgDRERElH+KoNNjx44d+Pzzz/H999/j6NGjWLNmjeoy++STTwz7xMbGol69emo/yf4MGTJEdbNJ91pyxo8fj+DgYMPt1q1b2bAIavwQ+IjoGASFRqj7DICIiIjycA2Qh4cHbGxsEBAQkGC7PC5WrJjJ13z88cfo27cv3nzzTfVYRneFhYWpIOejjz5SXWjFixdHtWrVEryuatWqWL16dbJtcXBwULcsFxMNBJzR7herZdjsH9f95WBrjcIF7LK+HURERPmcxTJA9vb28PHxwbZt2xJkb+RxkyZNTL7myZMnKsgxJkGU0Mn6WoAqkpZRZMZktFiZMmVgcQ+uANHhgF1BoEg5k91fMqKNiIiI8vAoMBkC379/f1W03LBhQzUMXjI6+lFh/fr1Q4kSJVSNjujUqZMaOSZdWzJs/vLlyyorJNv1gZDMCyTF0tIF1rNnT1Uw/eOPP6qbxRm6v6oD1lp7jSdB9OYQeCIiorwfAPXq1Qv37t3DxIkTVeFznTp1sHnzZkNh9M2bNxNkfCZMmKAyJPJTJjuUOX4k+Pnss88M+zRo0ABr165VdT1SMC1D4CWw6tOnDyzOrRRQty/gXjHBZq4CT0RElL2sdPq+IzKQYfAyGkwKol1dXbP8/T5cewrLDt7EyOcqYmzbyln+fkRERPn9+p2rRoHlVXf1kyByBBgREVG2YACUAxi6wBgAERERZQsGQDlA/DIYLIImIiLKDgyALCw0Ihoh4dHqPjNARERE2YMBUA6p/3F1tIWzg0UH5REREeUbDIAszC+u/ocF0ERERNmHAVAOyQBxFXgiIqLswwAoh2SAWP9DRESUfRgA5ZARYCUYABEREWUbBkAWpl8HjF1gRERE2YcBkIXdjVsJnuuAERERZR8GQBYky7D5cSV4IiKibMcAyIIePolCeFSsul+MXWBERETZhgFQDiiA9nB2gIOtjaWbQ0RElG8wAMoBi6Cy+4uIiCh7MQCyII4AIyIisgwGQBZ0R78KPOcAIiIiylYMgHLAEHhvDoEnIiLKVgyAckIXGGuAiIiIshUDIAvy4ySIREREFsEAyEJiYnXwD9ECIK4DRkRElL0YAFnIvccRKgiytbaCp4uDpZtDRESUrzAAshD9Ehhero6wsbaydHOIiIjyFQZAFl8ElQXQRERE2Y0BkIWXweAcQERERNmPAZCFu8A4BJ6IiCj7MQCyEE6CSEREZDkMgCyE64ARERFZDgMgC7mjzwCxBoiIiCjbMQCygIjoGASFRqj7DICIiIiyHwMgCwgI1oIfB1trFC5gZ+nmEBER5Ts5IgCaO3cuypYtC0dHRzRq1AiHDh1Kcf9Zs2ahcuXKcHJyQqlSpTBmzBiEh2tdSol98cUXsLKywujRo5HTRoBJ9kfaRkRERPksAFqxYgXGjh2LSZMm4ejRo6hduzbatWuHwMBAk/svW7YM48aNU/ufO3cOP//8szrGhx9+mGTfw4cP44cffkCtWrWQM+cAYgE0ERFRvgyAZs6cicGDB2PgwIGoVq0a5s+fjwIFCmDhwoUm99+3bx+aNWuG1157TWWN2rZti1dffTVJ1ig0NBR9+vTBggULULhwYeQkd4O5CjwREVG+DYAiIyPh6+uLNm3axDfI2lo93r9/v8nXNG3aVL1GH/BcvXoVf//9Nzp06JBgv+HDh6Njx44Jjp2ciIgIhISEJLhlSwaIQ+CJiIgswhYWFBQUhJiYGHh5eSXYLo/Pnz9v8jWS+ZHXNW/eHDqdDtHR0Rg6dGiCLrDly5er7jTpAkuLadOmYcqUKcj2DBBHgBEREeXPLrD02rFjBz7//HN8//33KshZs2YNNm7ciE8++UQ9f+vWLYwaNQpLly5VRdVpMX78eAQHBxtucoysxHXAiIiI8nEGyMPDAzY2NggICEiwXR4XK1bM5Gs+/vhj9O3bF2+++aZ6XLNmTYSFhWHIkCH46KOPVPeYFFDXq1fP8BrJMu3atQvfffed6u6S9zTm4OCgbtmFXWBERET5OANkb28PHx8fbNu2zbAtNjZWPW7SpInJ1zx58kTVCRnTBzTSJfb888/j1KlTOH78uOFWv359VRAt9xMHP9ktLCIaIeHR6j67wIiIiPJhBkjIEPj+/furIKVhw4Zqjh/J6MioMNGvXz+UKFFC1emITp06qZFjdevWVXMGXb58WWWFZLsENy4uLqhRo0aC9yhYsCDc3d2TbLfkGmCujrZwdrD46SciIsqXLH4F7tWrF+7du4eJEyfC398fderUwebNmw2F0Tdv3kyQ8ZkwYYKaPFB+3rlzB56enir4+eyzz5AbcA0wIiIiy7PSSb8RJSDD4N3c3FRBtKurq1mPvfzQTYxbcwqtK3ti0cCGZj02ERFRfhaSjut3rhsFltv5cQg8ERGRxTEAymZ340aAlWAAREREZDEMgCy2DAaHwBMREVkKA6Bspp8DiOuAERERWQ4DoGwk9eZ+ccPguRI8ERGR5TAAykaPnkQhPCpW3S/GLjAiIiKLYQCUjfTZHw9nBzjYWnZGaiIiovyMAVA28jNMgsjsDxERkSUxAMrmdcAK2ttwBBgREVF+XwojP+lStwQ61/FGZIxWB0RERESWwQxQNpN1zFj/Q0REZFkMgIiIiCjfYQBERERE+Q4DICIiIsp3GAARERFRvsMAiIiIiPIdBkBERESU7zAAIiIionyHARARERHlOwyAiIiIKN9hAERERET5DgMgIiIiyncYABEREVG+wwCIiIiI8h1bSzcgJ9LpdOpnSEiIpZtCREREaaS/buuv4ylhAGTC48eP1c9SpUpZuilERESUgeu4m5tbivtY6dISJuUzsbGx8PPzg4uLC6ysrMwenUpgdevWLbi6upr12JQUz3f24vnOXjzf2YvnO+efbwlpJPjx9vaGtXXKVT7MAJkgJ61kyZJZ+h7yy+T/QNmH5zt78XxnL57v7MXznbPPd2qZHz0WQRMREVG+wwCIiIiI8h0GQNnMwcEBkyZNUj8p6/F8Zy+e7+zF8529eL7z1vlmETQRERHlO8wAERERUb7DAIiIiIjyHQZARERElO8wACIiIqJ8hwFQNpo7dy7Kli0LR0dHNGrUCIcOHbJ0k/KEXbt2oVOnTmrmT5m5e926dQmelzr/iRMnonjx4nByckKbNm1w6dIli7U3t5s2bRoaNGigZkovWrQounTpggsXLiTYJzw8HMOHD4e7uzucnZ3RrVs3BAQEWKzNudm8efNQq1Ytw2RwTZo0waZNmwzP81xnrS+++EL9uzJ69GjDNp5z85k8ebI6v8a3KlWqZMu5ZgCUTVasWIGxY8eqIX1Hjx5F7dq10a5dOwQGBlq6ableWFiYOp8SYJoyffp0fPvtt5g/fz4OHjyIggULqnMv/2NR+u3cuVP9g3TgwAFs3boVUVFRaNu2rfo96I0ZMwYbNmzAypUr1f6ytMwrr7xi0XbnVjIrvVyEfX19ceTIETz33HPo3Lkzzpw5o57nuc46hw8fxg8//KACUGM85+ZVvXp13L1713Dbs2dP9pxrGQZPWa9hw4a64cOHGx7HxMTovL29ddOmTbNou/Ia+UqvXbvW8Dg2NlZXrFgx3VdffWXY9ujRI52Dg4Pu999/t1Ar85bAwEB13nfu3Gk4v3Z2drqVK1ca9jl37pzaZ//+/RZsad5RuHBh3U8//cRznYUeP36sq1Spkm7r1q26Vq1a6UaNGqW285yb16RJk3S1a9c2+VxWn2tmgLJBZGSk+utNul6M1xuTx/v377do2/K6a9euwd/fP8G5l3VipAuS5948goOD1c8iRYqon/Jdl6yQ8TmXlHbp0qV5zjMpJiYGy5cvV9k26Qrjuc46kuXs2LFjgnMreM7NT0oSpIShfPny6NOnD27evJkt55qLoWaDoKAg9Q+Xl5dXgu3y+Pz58xZrV34gwY8wde71z1HGxcbGqtqIZs2aoUaNGmqbnFd7e3sUKlQowb485xl36tQpFfBIt63UQaxduxbVqlXD8ePHea6zgASZUqogXWCJ8fttXvLH6C+//ILKlSur7q8pU6agRYsWOH36dJafawZARJSpv5LlHyrjPnsyP7k4SLAj2bZVq1ahf//+qh6CzO/WrVsYNWqUqm+TASuUtdq3b2+4L7VWEhCVKVMGf/zxhxq0kpXYBZYNPDw8YGNjk6RyXR4XK1bMYu3KD/Tnl+fe/EaMGIG//voL27dvV4W6enJepdv30aNHCfbnOc84+Su4YsWK8PHxUaPwpOh/9uzZPNdZQLpdZHBKvXr1YGtrq24SbMpACrkv2Qee86wj2Z5nnnkGly9fzvLvNwOgbPrHS/7h2rZtW4KuA3ksaW3KOuXKlVP/oxif+5CQEDUajOc+Y6TWXIIf6Yb577//1Dk2Jt91Ozu7BOdchslLvz7PuXnIvx8RERE811ng+eefV12OknHT3+rXr69qU/T3ec6zTmhoKK5cuaKmLcny73emy6gpTZYvX65GHv3yyy+6s2fP6oYMGaIrVKiQzt/f39JNyxOjNY4dO6Zu8pWeOXOmun/jxg31/BdffKHO9fr163UnT57Ude7cWVeuXDnd06dPLd30XGnYsGE6Nzc33Y4dO3R379413J48eWLYZ+jQobrSpUvr/vvvP92RI0d0TZo0UTdKv3HjxqkRdteuXVPfX3lsZWWl++eff9TzPNdZz3gUmOA5N593331X/Vsi3++9e/fq2rRpo/Pw8FCjS7P6XDMAykZz5sxRv0h7e3s1LP7AgQOWblKesH37dhX4JL7179/fMBT+448/1nl5eakg9Pnnn9dduHDB0s3OtUyda7ktWrTIsI8El2+//bYarl2gQAFd165dVZBE6ffGG2/oypQpo/7d8PT0VN9fffAjeK6zPwDiOTefXr166YoXL66+3yVKlFCPL1++nC3n2kr+k/k8EhEREVHuwRogIiIiyncYABEREVG+wwCIiIiI8h0GQERERJTvMAAiIiKifIcBEBEREeU7DICIiIgo32EARESUDCsrK6xbt87SzSCiLMAAiIhypAEDBqgAJPHtxRdftHTTiCgPsLV0A4iIkiPBzqJFixJsc3BwsFh7iCjvYAaIiHIsCXaKFSuW4Fa4cGH1nGSD5s2bh/bt28PJyQnly5fHqlWrErxeVvV+7rnn1PPu7u4YMmSIWm3a2MKFC1G9enX1XrICtax0bywoKAhdu3ZFgQIFUKlSJfz555+G5x4+fKhWCff09FTvIc8nDtiIKGdiAEREudbHH3+Mbt264cSJEyoQ6d27N86dO6eeCwsLQ7t27VTAdPjwYaxcuRL//vtvggBHAqjhw4erwEiCJQluKlasmOA9pkyZgp49e+LkyZPo0KGDep8HDx4Y3v/s2bPYtGmTel85noeHRzafBSLKELMsqUpEZGb9+/fX2djY6AoWLJjg9tlnn6nn5Z+voUOHJnhNo0aNdMOGDVP3f/zxR7WCdGhoqOH5jRs36qytrXX+/v7qsbe3t+6jjz5Ktg3yHhMmTDA8lmPJtk2bNqnHnTp10g0cONDMn5yIsgNrgIgox2rdurXKqhgrUqSI4X6TJk0SPCePjx8/ru5LRqZ27dooWLCg4flmzZohNjYWFy5cUF1ofn5+eP7551NsQ61atQz35Viurq4IDAxUj4cNG6YyUEePHkXbtm3RpUsXNG3aNJOfmoiyAwMgIsqxJOBI3CVlLlKzkxZ2dnYJHkvgJEGUkPqjGzdu4O+//8bWrVtVMCVdajNmzMiSNhOR+bAGiIhyrQMHDiR5XLVqVXVffkptkNQC6e3duxfW1taoXLkyXFxcULZsWWzbti1TbZAC6P79++O3337DrFmz8OOPP2bqeESUPZgBIqIcKyIiAv7+/gm22draGgqNpbC5fv36aN68OZYuXYpDhw7h559/Vs9JsfKkSZNUcDJ58mTcu3cP77zzDvr27QsvLy+1j2wfOnQoihYtqrI5jx8/VkGS7JcWEydOhI+PjxpFJm3966+/DAEYEeVsDICIKMfavHmzGppuTLI358+fN4zQWr58Od5++2213++//45q1aqp52TY+pYtWzBq1Cg0aNBAPZZ6nZkzZxqOJcFReHg4vvnmG7z33nsqsOrevXua22dvb4/x48fj+vXrqkutRYsWqj1ElPNZSSW0pRtBRJReUouzdu1aVXhMRJRerAEiIiKifIcBEBEREeU7rAEiolyJvfdElBnMABEREVG+wwCIiIiI8h0GQERERJTvMAAiIiKifIcBEBEREeU7DICIiIgo32EARERERPkOAyAiIiLKdxgAERERUb7zf5MunI4AfIRrAAAAAElFTkSuQmCC",
>>>>>>> 3a9edb88 (Initial commit)
      "text/plain": [
       "<Figure size 640x480 with 1 Axes>"
      ]
     },
     "metadata": {},
     "output_type": "display_data"
    }
   ],
   "source": [
    "# Plot accuracy\n",
    "plt.plot(history.history['accuracy'], label='Training Accuracy')\n",
    "plt.plot(history.history['val_accuracy'], label='Validation Accuracy')\n",
    "plt.title('Training and Validation Accuracy')\n",
    "plt.xlabel('Epochs')\n",
    "plt.ylabel('Accuracy')\n",
    "plt.legend()\n",
    "plt.show()"
   ]
  },
  {
   "cell_type": "markdown",
   "metadata": {},
   "source": [
    " # Evaluate the ANN Model"
   ]
  },
  {
   "cell_type": "markdown",
   "metadata": {},
   "source": [
    "Make Predictions:"
   ]
  },
  {
   "cell_type": "code",
<<<<<<< HEAD
   "execution_count": 77,
=======
   "execution_count": 18,
>>>>>>> 3a9edb88 (Initial commit)
   "metadata": {},
   "outputs": [
    {
     "name": "stdout",
     "output_type": "stream",
     "text": [
<<<<<<< HEAD
      "\u001b[1m11/11\u001b[0m \u001b[32m━━━━━━━━━━━━━━━━━━━━\u001b[0m\u001b[37m\u001b[0m \u001b[1m0s\u001b[0m 7ms/step \n"
=======
      "\u001b[1m11/11\u001b[0m \u001b[32m━━━━━━━━━━━━━━━━━━━━\u001b[0m\u001b[37m\u001b[0m \u001b[1m0s\u001b[0m 8ms/step\n"
>>>>>>> 3a9edb88 (Initial commit)
     ]
    }
   ],
   "source": [
    "y_pred_prob = model.predict(X_test)  # Predicted probabilities\n",
    "y_pred = (y_pred_prob > 0.5).astype(int)  # Convert probabilities to binary predictions"
   ]
  },
  {
   "cell_type": "markdown",
   "metadata": {},
   "source": [
    "Calculate Evaluation Metrics:"
   ]
  },
  {
   "cell_type": "code",
<<<<<<< HEAD
   "execution_count": 78,
=======
   "execution_count": 19,
>>>>>>> 3a9edb88 (Initial commit)
   "metadata": {},
   "outputs": [
    {
     "name": "stdout",
     "output_type": "stream",
     "text": [
      "Accuracy: 0.9911242603550295\n",
      "Precision: 0.9959839357429718\n",
      "Recall: 0.992\n",
      "F1-Score: 0.9939879759519038\n"
     ]
    },
    {
     "data": {
      "image/png": "iVBORw0KGgoAAAANSUhEUgAAAhsAAAHHCAYAAAAWM5p0AAAAOnRFWHRTb2Z0d2FyZQBNYXRwbG90bGliIHZlcnNpb24zLjEwLjAsIGh0dHBzOi8vbWF0cGxvdGxpYi5vcmcvlHJYcgAAAAlwSFlzAAAPYQAAD2EBqD+naQAAMH5JREFUeJzt3QucTfX+//HP2mOMcRuNy8wowsk1QkNSQii3ZFBOjlMjovzcb9XUiaiMg45yneoIXThSLqUTacSkCBMqSW6FGHejGYwxs/+P77f/3mf2GMywv7Nn9no9f4/127PXWnvt79rOtN/z+X6/a1lOp9MpAAAAhjhMHRgAAEAhbAAAAKMIGwAAwCjCBgAAMIqwAQAAjCJsAAAAowgbAADAKMIGAAAwirABAACMImwABu3atUvuv/9+CQkJEcuyZOnSpV49/q+//qqPO3fuXK8etzBr2bKlXgAUHIQN+L09e/bIk08+KdWqVZNixYpJ6dKl5e6775bXX39dzp07Z/S9o6Oj5YcffpBXXnlF3n33XWnUqJH4i169eumgoz7PnD5HFbTUdrVMnjw5z8c/dOiQvPjii7J161YvtRiArxTx2TsD+eDTTz+Vhx9+WIKCguSxxx6TunXryoULF2TdunUyatQo2b59u7z55ptG3lt9Aa9fv16ef/55GThwoJH3uPnmm/X7BAYGii8UKVJEzp49K5988ol0797dY9v777+vw9358+ev6dgqbIwdO1aqVKkiDRo0yPXrPv/882t6PwDmEDbgt/bt2yePPPKI/kJevXq1REREuLcNGDBAdu/ercOIKceOHdOPZcqUMfYeqmqgvtB9RYU4VSVasGDBJWFj/vz50rFjR/noo4/ypS0q9BQvXlyKFi2aL+8HIPfoRoHfmjhxoqSkpMjs2bM9gobLLbfcIkOGDHE/v3jxorz00kvyl7/8RX+Jqr+on3vuOUlLS/N4nVr/wAMP6OrIHXfcob/sVRfNO++8495Hlf9VyFFUBUWFAvU6V/eD6+es1GvUflmtWrVKmjVrpgNLyZIlpWbNmrpNVxuzocLVPffcIyVKlNCv7dy5s+zYsSPH91OhS7VJ7afGljz++OP6izu3/va3v8lnn30mp0+fdq/btGmT7kZR27I7efKkjBw5UurVq6fPSXXDtG/fXrZt2+beZ82aNdK4cWP9s2qPqzvGdZ5qTIaqUiUmJkrz5s11yHB9LtnHbKiuLPVvlP3827ZtKzfccIOuoAAwi7ABv6VK+yoE3HXXXbna/4knnpDRo0fL7bffLlOmTJEWLVpIbGysro5kp76gH3roIbnvvvvk1Vdf1V9a6gtbdcsoXbt21cdQevToocdrvPbaa3lqvzqWCjUq7IwbN06/z4MPPihff/31FV/3xRdf6C/So0eP6kAxfPhw+eabb3QFQoWT7FRF4o8//tDnqn5WX+iq+yK31LmqILB48WKPqkatWrX0Z5nd3r179UBZdW7/+te/dBhT41rU5+364q9du7Y+Z6Vfv37681OLChYuJ06c0CFFdbGoz/bee+/NsX1qbE758uV16MjIyNDr3njjDd3dMm3aNKlYsWKuzxXANXICfig5Odmp/ufduXPnXO2/detWvf8TTzzhsX7kyJF6/erVq93rbr75Zr0uISHBve7o0aPOoKAg54gRI9zr9u3bp/ebNGmSxzGjo6P1MbIbM2aM3t9lypQp+vmxY8cu227Xe8yZM8e9rkGDBs4KFSo4T5w44V63bds2p8PhcD722GOXvF/v3r09jtmlSxdn2bJlL/ueWc+jRIkS+ueHHnrI2bp1a/1zRkaGMzw83Dl27NgcP4Pz58/rfbKfh/r8xo0b5163adOmS87NpUWLFnpbXFxcjtvUktXKlSv1/i+//LJz7969zpIlSzqjoqKueo4AvIPKBvzSmTNn9GOpUqVytf9///tf/aiqAFmNGDFCP2Yf21GnTh3dTeGi/nJWXRzqr3ZvcY31WLZsmWRmZubqNYcPH9azN1SVJTQ01L3+tttu01UY13lm9dRTT3k8V+elqgauzzA3VHeJ6vpISkrSXTjqMacuFEV1UTkcf/6nR1Ua1Hu5uoi+++67XL+nOo7qYskNNf1YzUhS1RJViVHdKqq6ASB/EDbgl9Q4AEV1D+TGb7/9pr8A1TiOrMLDw/WXvtqeVeXKlS85hupKOXXqlHjLX//6V931obp3wsLCdHfOBx98cMXg4Wqn+uLOTnVNHD9+XFJTU694Luo8lLycS4cOHXSwW7hwoZ6FosZbZP8sXVT7VRdT9erVdWAoV66cDmvff/+9JCcn5/o9b7zxxjwNBlXTb1UAU2Fs6tSpUqFChVy/FsD1IWzAb8OG6ov/8ccf8/S67AM0LycgICDH9U6n85rfwzWewCU4OFgSEhL0GIxHH31UfxmrAKIqFNn3vR7Xcy4uKjSoisG8efNkyZIll61qKOPHj9cVJDX+4r333pOVK1fqgbC33nprris4rs8nL7Zs2aLHsShqjAiA/EPYgN9SAxDVBb3UtS6uRs0cUV90agZFVkeOHNGzLFwzS7xBVQ6yztxwyV49UVS1pXXr1nog5U8//aQvDqa6Kb788svLnoeyc+fOS7b9/PPPuoqgZqiYoAKG+kJX1aScBtW6fPjhh3owp5olpPZTXRxt2rS55DPJbfDLDVXNUV0uqvtLDThVM5XUjBkA+YOwAb/19NNP6y9W1Q2hQkN2KoiomQqubgAl+4wR9SWvqOtFeIuaWqu6C1SlIutYC1URyD5FNDvXxa2yT8d1UVN81T6qwpD1y1tVeNTsC9d5mqAChJo6PH36dN39dKVKSvaqyaJFi+T333/3WOcKRTkFs7x65plnZP/+/fpzUf+mauqxmp1yuc8RgHdxUS/4LfWlrqZgqq4HNV4h6xVE1VRQ9QWnBlIq9evX118+6mqi6stNTcPcuHGj/nKKioq67LTKa6H+mldffl26dJHBgwfra1rMmjVLatSo4TFAUg1mVN0oKuioioXqApg5c6bcdNNN+toblzNp0iQ9JbRp06bSp08ffYVRNcVTXUNDTYU1RVVh/vGPf+Sq4qTOTVUa1LRk1aWhxnmoacrZ//3UeJm4uDg9HkSFjyZNmkjVqlXz1C5VCVKf25gxY9xTcefMmaOvxfHCCy/oKgcAw7w0qwUosH755Rdn3759nVWqVHEWLVrUWapUKefdd9/tnDZtmp6G6ZKenq6na1atWtUZGBjorFSpkjMmJsZjH0VNW+3YseNVp1xebuqr8vnnnzvr1q2r21OzZk3ne++9d8nU1/j4eD11t2LFino/9dijRw99PtnfI/v00C+++EKfY3BwsLN06dLOTp06OX/66SePfVzvl31qrTqWWq+Ondupr5dzuamvaopwRESEbp9q5/r163Ocsrps2TJnnTp1nEWKFPE4T7XfrbfemuN7Zj3OmTNn9L/X7bffrv99sxo2bJieDqzeG4BZlvp/pgMNAACwL8ZsAAAAowgbAADAKMIGAAAwirABAACMImwAAACjCBsAAMAowgYAADDKL68gumCL52WPAfypS70bfd0EoMAplg/fhMENB3rlOOe2TJfCiMoGAAAwyi8rGwAAFCiWvf+2J2wAAGCaZYmdETYAADDNsndlw95nDwAAjKOyAQCAaRbdKAAAwCTL3h0J9j57AABgHJUNAABMs+hGAQAAJln27kiw99kDAADjqGwAAGCaRTcKAAAwybJ3R4K9zx4AABhHZQMAANMsulEAAIBJlr07EggbAACYZtm7smHvqAUAAIyjsgEAgGmWvf+2J2wAAGCaZe+wYe+zBwAAxlHZAADANIe9B4gSNgAAMM2yd0eCvc8eAAAYR2UDAADTLLpRAACASZa9OxLsffYAAMA4KhsAAJhm0Y0CAABMsuzdkUDYAADANMvelQ17Ry0AAGAclQ0AAEyz7P23PWEDAADTLLpRAAAAjKGyAQCAaZa9/7YnbAAAYJpFNwoAAIAxVDYAADDNsvff9oQNAABMs+wdNux99gAAwDgqGwAAmGbZe4AoYQMAANMse3ckEDYAADDNsndlw95RCwAAGEdlAwAA0yx7/21P2AAAwDSLbhQAAABjqGwAAGCYZfPKBmEDAADDLJuHDbpRAACAUVQ2AAAwzRJbI2wAAGCYRTcKAACAOVQ2AAAwzLJ5ZYOwAQCAYRZhAwAAmGTZPGwwZgMAABhFZQMAANMssTXCBgAAhll0owAAAJhDZQMAAMMsm1c2CBsAABhm2Txs0I0CAACMorIBAIBhls0rG4QNAABMs8TW6EYBAABGUdkAAMAwy+bdKFQ2AADIh7BheWHJi9jYWGncuLGUKlVKKlSoIFFRUbJz506Pfc6fPy8DBgyQsmXLSsmSJaVbt25y5MgRj332798vHTt2lOLFi+vjjBo1Si5evJinthA2AADww7Cxdu1aHSQ2bNggq1atkvT0dLn//vslNTXVvc+wYcPkk08+kUWLFun9Dx06JF27dnVvz8jI0EHjwoUL8s0338i8efNk7ty5Mnr06Lydv9PpdIqfWbDld183ASiQutS70ddNAAqcYvkwoKBC7w+8cpyjb3e/5tceO3ZMVyZUqGjevLkkJydL+fLlZf78+fLQQw/pfX7++WepXbu2rF+/Xu6880757LPP5IEHHtAhJCwsTO8TFxcnzzzzjD5e0aJFc/XeVDYAADDN8s6SlpYmZ86c8VjUutxQ4UIJDQ3Vj4mJibra0aZNG/c+tWrVksqVK+uwoajHevXquYOG0rZtW/2+27dvz/XpEzYAACgk3SixsbESEhLisah1V5OZmSlDhw6Vu+++W+rWravXJSUl6cpEmTJlPPZVwUJtc+2TNWi4tru25RazUQAAKCRiYmJk+PDhHuuCgoKu+jo1duPHH3+UdevWiS8QNgAAKCRTX4OCgnIVLrIaOHCgLF++XBISEuSmm25yrw8PD9cDP0+fPu1R3VCzUdQ21z4bN270OJ5rtoprn9ygGwUAAD+cjeJ0OnXQWLJkiaxevVqqVq3qsT0yMlICAwMlPj7evU5NjVVTXZs2baqfq8cffvhBjh496t5HzWwpXbq01KlTJ9dtobIBAIAfGjBggJ5psmzZMn2tDdcYCzXOIzg4WD/26dNHd8uoQaMqQAwaNEgHDDUTRVFTZVWoePTRR2XixIn6GP/4xz/0sfNSYSFsAADgh1cQnTVrln5s2bKlx/o5c+ZIr1699M9TpkwRh8OhL+alZrWomSYzZ8507xsQEKC7YPr3769DSIkSJSQ6OlrGjRuXp7ZwnQ3ARrjOBuCb62xUfGqxV45zKO5/F9wqTBizAQAAjKIbBQAAwyyb34iNsAEAgGEWYQMAAJhk2TxsMGYDAAAYRWUDAADTLLE1wgYAAIZZdKMAAACYQ2UD1y0zM0PWLJon36/7QlJOn5RSN5SVBi3aSfOuf3en+RcfaZXja+/r2U/u7vRIPrcY8I3EzZtk7tuzZcdPP8qxY8dkytQZ0qp1G183C/nAsnllg7CB67Zu2X9k0xcfS5f+z0r5m6rIob07ZVncRAkqXkLubP/n1e5GxH3o8ZrdW7+VZW9Mltp3NPdRq4H8d+7cWalZs6ZEde0mw4cM9HVzkI8swgZwfQ78sl1qRd4tNW7/88Y9N1QIlx+/WS2/7/nZvU+pMqEer/l58zdStU4DCQ2rmO/tBXyl2T0t9ALYjU/DxvHjx+Xtt9+W9evXu+9GFx4eLnfddZe+SUz58uV92TzkUqUat0pi/HI5fuiAlKtYSZJ+2yP7d/4obR/tn+P+qqtl15YNEtX/2XxvKwD4gkVlwzc2bdqk7y5XvHhxadOmjdSoUUOvP3LkiEydOlUmTJggK1eulEaNGvmqicilZp17SNq5VJk+ope+e2BmZqa0/msfua1Zzn3RWxM+l6LFikvtO+7J97YCgE9YYms+CxuDBg2Shx9+WOLi4i5JfOpGtE899ZTeR1U9rkTdElctWaVfSJPAokFG2o1Lbd+wRn5YFy/dBj0vFW6qIkm/7pYV78z8/wNF216y/5Y1n8ltzVpLYNGiPmkvAMAmU1+3bdsmw4YNy7G0pNapbVu3br3qcWJjYyUkJMRjWfb2dEOtRk5WvfeGrm7Uu6uVhFWuJvWb3y93dugmXy2bf8m+v+34Xk4cOiC3t+rok7YCgC9YluWVpbDyWdhQYzM2btx42e1qW1hY2FWPExMTI8nJyR5L596M8s5PqpKU/ZfA4QgQZ6bzkn2/+/IziahWQ8Jv/ks+thAAfMuyedjwWTfKyJEjpV+/fpKYmCitW7d2Bws1ZiM+Pl7eeustmTx58lWPExQUpJesAov+YazduFSN25tKwtL3JaRcmJ76mvTrLln/6SJp2LK9x37nz6bKT9+ulfv//pTP2gr40tnUVNm/f7/7+e8HD8rPO3boimxERWZm+TOr8OaEwh02BgwYIOXKlZMpU6bIzJkzJSMjQ68PCAiQyMhImTt3rnTv3t1XzUMedHh8kKz+4G359O3XJDX5tB6rEdnmAWnR7TGP/X785ks9Hqfe3Tlf4Avwd9u3/yhPPP6/34vJE2P144Odu8hL4yf4sGWAWZZT/dffx9LT0/U0WEUFkMDAwOs63oItv3upZYB/6VLvRl83AShwiuXDn93VR63wynF2TWonhVGBuKiXChcRERG+bgYAAEZYNu9G4UZsAADA/ysbAAD4M8vmpQ3CBgAAhln2zhp0owAAALOobAAAYJjDYe/SBmEDAADDLHtnDbpRAACAWVQ2AAAwzLJ5aYOwAQCAYZa9swZhAwAA0yybpw3GbAAAAKOobAAAYJhl88oGYQMAAMMse2cNulEAAIBZVDYAADDMsnlpg7ABAIBhlr2zBt0oAADALCobAAAYZtm8tEHYAADAMMveWYNuFAAAYBaVDQAADLNsXtogbAAAYJhl76xB2AAAwDTL5mmDMRsAAMAoKhsAABhm2buwQdgAAMA0y+Zpg24UAABgFJUNAAAMs+xd2CBsAABgmmXztEE3CgAAMIrKBgAAhln2LmwQNgAAMM2yedqgGwUAABhFZQMAAMMsm1c2CBsAABhm2TtrEDYAADDNsnnaYMwGAAAwisoGAACGWfYubBA2AAAwzbJ52qAbBQAAGEVlAwAAwyx7FzYIGwAAmOawedqgGwUAABhF2AAAwDDL8s6SVwkJCdKpUyepWLGiHqS6dOlSj+29evXS67Mu7dq189jn5MmT0rNnTyldurSUKVNG+vTpIykpKXlqB2EDAADDrGxf6Ne65FVqaqrUr19fZsyYcdl9VLg4fPiwe1mwYIHHdhU0tm/fLqtWrZLly5frANOvX788tYMxGwAAGObw0ZCN9u3b6+VKgoKCJDw8PMdtO3bskBUrVsimTZukUaNGet20adOkQ4cOMnnyZF0xyQ0qGwAA2NiaNWukQoUKUrNmTenfv7+cOHHCvW39+vW668QVNJQ2bdqIw+GQb7/9NtfvQWUDAIBCclGvtLQ0vWSvTKjlWqgulK5du0rVqlVlz5498txzz+lKiAoZAQEBkpSUpINIVkWKFJHQ0FC9LbeobAAAUEgGiMbGxkpISIjHotZdq0ceeUQefPBBqVevnkRFRekxGarLRFU7vImwAQBAIRETEyPJyckei1rnLdWqVZNy5crJ7t279XM1luPo0aMe+1y8eFHPULncOI+c0I0CAIBhlninG+V6ukxy4+DBg3rMRkREhH7etGlTOX36tCQmJkpkZKRet3r1asnMzJQmTZrk+riEDQAA/HQ2SkpKirtKoezbt0+2bt2qx1yoZezYsdKtWzddpVBjNp5++mm55ZZbpG3btnr/2rVr63Edffv2lbi4OElPT5eBAwfq7pfczkRR6EYBAMBPbd68WRo2bKgXZfjw4frn0aNH6wGg33//vR6zUaNGDX2xLlW9+OqrrzyqJ++//77UqlVLWrdurae8NmvWTN588808tYPKBgAAfnqL+ZYtW4rT6bzs9pUrV171GKoCMn/+/OtqB2EDAADDLHvfh41uFAAAYBaVDQAADHPYvLRB2AAAwDDL3lmDsAEAgL8OEC0oGLMBAACMorIBAIBhlr0LG4QNAABMc9g8bdCNAgAAjKKyAQCAYZbYG2EDAADDLLpRAAAAzKGyAQCAn95ivlCFjY8//jjXB1S3qgUAAP9j2bwbJVdhIyoqKtcfZkZGxvW2CQAA2C1sZGZmmm8JAAB+yrJ3YYMxGwAAmGbZPG1cU9hITU2VtWvXyv79++XChQse2wYPHuyttgEA4Bcc9s4aeQ8bW7ZskQ4dOsjZs2d16AgNDZXjx49L8eLFpUKFCoQNAABwfdfZGDZsmHTq1ElOnTolwcHBsmHDBvntt98kMjJSJk+enNfDAQBgi24UywuLbcLG1q1bZcSIEeJwOCQgIEDS0tKkUqVKMnHiRHnuuefMtBIAgELM8tJim7ARGBiog4aiuk3UuA0lJCREDhw44P0WAgAAe43ZaNiwoWzatEmqV68uLVq0kNGjR+sxG++++67UrVvXTCsBACjEHIW4C8QnlY3x48dLRESE/vmVV16RG264Qfr37y/Hjh2TN99800QbAQAo1CzLO4ttKhuNGjVy/6y6UVasWOHtNgEAAD/CRb0AADDMKsxlCV+EjapVq17xQ9u7d+/1tgkAAL9i2Ttr5D1sDB061ON5enq6vtCX6k4ZNWqUN9sGAADsGDaGDBmS4/oZM2bI5s2bvdEmAAD8isPmpY08z0a5nPbt28tHH33krcMBAOA3LGajeMeHH36o75MCAAA8WYU5Kfjqol5ZPzSn0ylJSUn6OhszZ870dvsAAIDdwkbnzp09woa6dHn58uWlZcuWUqtWLSkIoure6OsmAAXSDY0H+roJQIFzbsv0wjNmwS5h48UXXzTTEgAA/JRl826UPIctdafXo0ePXrL+xIkTehsAAMB1VTbUGI2cqFvNFy1aNK+HAwDA7znsXdjIfdiYOnWquxT073//W0qWLOnelpGRIQkJCQVmzAYAAAWJg7CRO1OmTHFXNuLi4jy6TFRFo0qVKno9AADANYWNffv26cd7771XFi9erG8tDwAArs6y+QDRPI/Z+PLLL820BAAAP+Wwd9bI+2yUbt26yT//+c9L1k+cOFEefvhhb7ULAADYNWyogaAdOnTI8d4oahsAAPBkcW+UvElJSclximtgYKCcOXPGW+0CAMBvOApzUvBFZaNevXqycOHCS9b/5z//kTp16nirXQAA+NWXrcMLi20qGy+88IJ07dpV9uzZI61atdLr4uPjZf78+frOrwAAANcVNjp16iRLly6V8ePH63ARHBws9evXl9WrV3OLeQAAcmDZuxcl72FD6dixo14UNU5jwYIFMnLkSElMTNRXEwUAAP/jsHnauOYuIDXzJDo6WipWrCivvvqq7lLZsGGDd1sHAADsVdlISkqSuXPnyuzZs3VFo3v37voGbKpbhcGhAADkzLJ3YSP3lQ01VqNmzZry/fffy2uvvSaHDh2SadOmmW0dAAB+cgVRhxcWv69sfPbZZzJ48GDp37+/VK9e3WyrAACA/Sob69atkz/++EMiIyOlSZMmMn36dDl+/LjZ1gEA4CcDRB1eWPw+bNx5553y1ltvyeHDh+XJJ5/UF/FSg0MzMzNl1apVOogAAIBLWTa/XHmeZ6OUKFFCevfurSsdP/zwg4wYMUImTJggFSpUkAcffNBMKwEAQKF1XVc/VQNG1d1eDx48qK+1AQAALuVggOj1CwgIkKioKL0AAABPlhTipFBQwgYAALg8h72zRqG+iRwAACgEqGwAAGCYw+aVDcIGAACGWYV53qoX0I0CAACMorIBAIBhDnsXNggbAACYZtk8bNCNAgAAjCJsAADgpzdiS0hIkE6dOul7malBqkuXLvXY7nQ6ZfTo0RIRESHBwcHSpk0b2bVrl8c+J0+elJ49e0rp0qWlTJky0qdPH0lJScnb+ee55QAAoFBcrjw1NVXq168vM2bMyHG7uuXI1KlTJS4uTr799lt9/7O2bdvK+fPn3fuooLF9+3Z909Xly5frANOvX788tcNyqljjZ86l+7oFQMEUesdAXzcBKHDObZlu/D2mrtvnleMMblb1ml+rKhtLlixx31pEff2rioe6oerIkSP1uuTkZAkLC5O5c+fKI488Ijt27JA6derIpk2bpFGjRnqfFStWSIcOHfR90dTrc4PKBgAANrzF/L59+yQpKUl3nbiEhIRIkyZNZP369fq5elRdJ66goaj9HQ6HroTkFrNRAAAwzOGlG7GlpaXpJaugoCC95JUKGoqqZGSlnru2qccKFSp4bC9SpIiEhoa698kNKhsAABSSykZsbKyuPmRd1LqCjsoGAACFRExMjAwfPtxj3bVUNZTw8HD9eOTIET0bxUU9b9CggXufo0ePerzu4sWLeoaK6/W5QWUDAIBCMhslKChIT0HNulxr2KhataoODPHx8e51Z86c0WMxmjZtqp+rx9OnT0tiYqJ7n9WrV0tmZqYe25FbVDYAADDM4aNLiKrrYezevdtjUOjWrVv1mIvKlSvL0KFD5eWXX5bq1avr8PHCCy/oGSauGSu1a9eWdu3aSd++ffX02PT0dBk4cKCeqZLbmSgKYQMAAD+1efNmuffee93PXV0w0dHRenrr008/ra/Foa6boSoYzZo101NbixUr5n7N+++/rwNG69at9SyUbt266Wtz5AXX2QBshOtsAL65zsZb3/7mleP0bXKzFEZUNgAA8NNulIKCAaIAAMAoKhsAABhm2buwQdgAAMA0h9ib3c8fAAAYRmUDAADDLJv3oxA2AAAwzBJ7I2wAAGCYw+aVDcZsAAAAo6hsAABgmCX2RtgAAMAwy+Zpg24UAABgFJUNAAAMs2xe2iBsAABgmEPsze7nDwAADKOyAQCAYRbdKAAAwCRL7I1uFAAAYBSVDQAADLPoRgEAACY5xN4IGwAAGGbZvLJh97AFAAAMo7IBAIBhltgbYQMAAMMsm6cNulEAAIBRVDYAADDMYfOOFMIGAACGWfbOGnSjAAAAs6hsAABgmEU3CgAAMMmyd9agGwUAAJhFZQMAAMMcdKMAAACTLHtnDcIGAACmWTYPG4zZAAAARlHZAADAMIsxGwAAwCSHvbMG3SgAAMAsKhsAABhm0Y0CAABMsuydNehGAQAAZlHZAADAMItuFAAAYJLD3lmDbhQAAGAWlQ143ey33pD4Lz6XX/ftlaBixaR+g4YydNhIqVK1mq+bBhgzsvf9EtWqvtSoEibn0tLl22175fnXl8mu347muP/S6f2l7d23Svdhb8ona753r4+sU1leGtxZGtapJE6nyOYff5PnX18qP/zyez6eDbzNsnk3CpUNeF3i5o3y1x495Z35H0jcm3PkYvpF6d+vj5w7e9bXTQOMuef2WyRuYYK0eGyyPNB/uhQpEiDLZw2U4sWKXrLvoJ736iCRXYngorJsxgA5kHRKmj86WVo//i9JOXtePp4xQIoU4T/XhX02iuWFpbCisgGvm/nGbI/n416ZIK2aN5WfftoukY0a+6xdgEmdB870eN5vzHtyYPUEXaH4+rs97vW31bhRhjzaSu7uOVF+/SLW4zU1q4ZL2TIl5KVZy+XgkdN63StvfCabFz0nlSNCZe+B4/l0NvA2S+yNqAzjUlL+0I8hISG+bgqQb0qXLKYfTyX/r6IXXCxQ5sb2kqETPpAjJ/78vcjql1+PyPFTKRIddZcEFgmQYkGB0iuqqezYe1h+O3QyX9sP2CZsHDhwQHr37n3FfdLS0uTMmTMei1qHgiEzM1MmTRgvDRreLrdUr+Hr5gD5wrIsmTTyIflmyx75ac9h9/qJI7rJhm37ZPmaH3J8XcrZNGnb93Xp0aGxnNowRY5//arcd1dtiRo4UzIyMvPxDOBtDsvyylJYFeiwcfLkSZk3b94V94mNjdV/MWddJv3TszQJ34l9eazs3r1L/jlpiq+bAuSb12K6y623RMhjz85xr+vYop60vKOGjJr04WVfpyoZcWN6yvpte/XYj1aP/0uHlcVT++ttKLwsLy2FlU/HbHz88cdX3L53796rHiMmJkaGDx/usS7TEXTdbcP1i31lnCSsXSNvz3tPwsLDfd0cIF9MeeZh6XBPXWnT5zX5/eif4y6Ulo1rSLWbyklSwiSP/RdMfkK+3rJHVzT+2r6RVK4YKi2iXxXn/x9BGh0zVw4nTJROLW+TRSsT8/18gEIfNqKionS50fVLlRO1/UqCgoL0ktW5dK81EddA/XtOGP+SrI5fJf+e867ceFMlXzcJyLeg8WCr+nJ/39flt0MnPLZNnvO5zFnyjce6xA+fl6df/Ug+Xfujfq5mrmRmOj3+m5jpVM//LMOjELPE1nzajRIRESGLFy/W/fo5Ld99950vm4drNP7lsfLp8o8l9p+vSokSJeT48WN6OX/+vK+bBhjtOnmkY2OJfm6upKSel7CypfTi6v5QA0JVl0jWRTlw+JQ7mMRv+FluKF1cH6tm1TCpXS1c3nzx73IxI0PWbv7Fp+eH67/OhuWF/yusfFrZiIyMlMTEROncuXOO269W9UDBtGjhAv34xOOPeqwf+3KsdI7q6qNWAWY92b25flz176Ee6/uOflfe++TbXB1DzUbpNuQNef7J9rJm3ghd5dj280HpPGCmJB0/Y6TdQH6wnD78Nv/qq68kNTVV2rVrl+N2tW3z5s3SokWLPB2XbhQgZ6F3DPR1E4AC59yW6cbfY+PeZK8c545qhfMSAj6tbNxzzz1X3K5K8HkNGgAAFDSW2FuBnvoKAAAKPy5XDgCAaZbYGmEDAADDLJunDcIGAACGWfbOGozZAAAAZlHZAADAMEvsjbABAIBpltga3SgAAMAowgYAAH54b5QXX3xR3/Yj61KrVi33dnW/qgEDBkjZsmWlZMmS0q1bNzly5IiBsydsAACQL7NRLC8seXXrrbfK4cOH3cu6devc24YNGyaffPKJLFq0SNauXSuHDh2Srl3N3L+KMRsAAPipIkWKSHh4+CXrk5OTZfbs2TJ//nxp1aqVXjdnzhypXbu2bNiwQe68806vtoPKBgAAhlleWtLS0uTMmTMei1p3Obt27ZKKFStKtWrVpGfPnrJ//369Xt1xPT09Xdq0aePeV3WxVK5cWdavX+/18ydsAABQSNJGbGyshISEeCxqXU6aNGkic+fOlRUrVsisWbNk3759+gaof/zxhyQlJUnRokWlTJkyHq8JCwvT27yNbhQAAAqJmJgYGT58uMe6oKCgHPdt3769++fbbrtNh4+bb75ZPvjgAwkODpb8RNgAAKCQ3BslKCjosuHialQVo0aNGrJ7926577775MKFC3L69GmP6oaajZLTGI/rRTcKAAB+Ohslq5SUFNmzZ49ERERIZGSkBAYGSnx8vHv7zp079ZiOpk2birdR2QAAwA8vIDpy5Ejp1KmT7jpR01rHjBkjAQEB0qNHDz3Wo0+fPrpLJjQ0VEqXLi2DBg3SQcPbM1EUwgYAAH7o4MGDOlicOHFCypcvL82aNdPTWtXPypQpU8ThcOiLeakZLW3btpWZM2caaYvldDqd4mfOpfu6BUDBFHrHQF83AShwzm2Zbvw9fvw9xSvHqXtjSSmMqGwAAFBIBogWVgwQBQAARlHZAADAMMvehQ3CBgAApllib3SjAAAAo6hsAABgmiW2RtgAAMAwy+Zpg24UAABgFJUNAAAMs+xd2CBsAABgmiX2RtgAAMA0S2yNMRsAAMAoKhsAABhm2by0QdgAAMAwy95Zg24UAABgFpUNAAAMs8TeCBsAAJhmia3RjQIAAIyisgEAgGGWzUsbhA0AAAyz7J016EYBAABmUdkAAMAwS+yNsAEAgGmW2BphAwAAwyybpw3GbAAAAKOobAAAYJhl78IGYQMAANMssTe6UQAAgFFUNgAAMMyyeWmDsAEAgHGW2BndKAAAwCgqGwAAGGbZu7BB2AAAwDRL7I1uFAAAYBSVDQAADLNsXtogbAAAYJhl844UwgYAAKZZYmuM2QAAAEZR2QAAwDBL7I2wAQCAYZbN0wbdKAAAwCgqGwAAGGbZvCOFsAEAgGmW2BrdKAAAwCgqGwAAGGaJvRE2AAAwzLJ52qAbBQAAGEVlAwAAwyybd6QQNgAAMMyyd9agGwUAAJhF2AAAAEbRjQIAgGGWzbtRCBsAABhm2XyAKN0oAADAKCobAAAYZtm7sEHYAADANEvsjW4UAABgFJUNAABMs8TWCBsAABhm2Txt0I0CAACMorIBAIBhlr0LG4QNAABMs8TeCBsAAJhmia0xZgMAABhFZQMAAMMsm5c2CBsAABhm2Ttr0I0CAADMspxOp9Pwe8Cm0tLSJDY2VmJiYiQoKMjXzQEKDH43YDeEDRhz5swZCQkJkeTkZCldurSvmwMUGPxuwG7oRgEAAEYRNgAAgFGEDQAAYBRhA8aogW9jxoxhAByQDb8bsBsGiAIAAKOobAAAAKMIGwAAwCjCBgAAMIqwAQAAjCJswJgZM2ZIlSpVpFixYtKkSRPZuHGjr5sE+FRCQoJ06tRJKlasKJZlydKlS33dJCBfEDZgxMKFC2X48OF6et93330n9evXl7Zt28rRo0d93TTAZ1JTU/XvggrigJ0w9RVGqEpG48aNZfr06fp5ZmamVKpUSQYNGiTPPvusr5sH+JyqbCxZskSioqJ83RTAOCob8LoLFy5IYmKitGnTxr3O4XDo5+vXr/dp2wAA+Y+wAa87fvy4ZGRkSFhYmMd69TwpKcln7QIA+AZhAwAAGEXYgNeVK1dOAgIC5MiRIx7r1fPw8HCftQsA4BuEDXhd0aJFJTIyUuLj493r1ABR9bxp06Y+bRsAIP8V8cF7wgbUtNfo6Ghp1KiR3HHHHfLaa6/paX+PP/64r5sG+ExKSors3r3b/Xzfvn2ydetWCQ0NlcqVK/u0bYBJTH2FMWra66RJk/Sg0AYNGsjUqVP1lFjArtasWSP33nvvJetVMJ87d65P2gTkB8IGAAAwijEbAADAKMIGAAAwirABAACMImwAAACjCBsAAMAowgYAADCKsAEAAIwibAB+qFevXhIVFeV+3rJlSxk6dKhPLmJlWZacPn06398bQMFB2ADyOQSoL1+1qHvI3HLLLTJu3Di5ePGi0fddvHixvPTSS7nal4AAwNu4NwqQz9q1aydz5syRtLQ0+e9//ysDBgyQwMBAiYmJ8djvwoULOpB4g7r3BgD4CpUNIJ8FBQVJeHi43HzzzdK/f39p06aNfPzxx+6uj1deeUUqVqwoNWvW1PsfOHBAunfvLmXKlNGhoXPnzvLrr7+6j5eRkaFvfKe2ly1bVp5++mnJfheC7N0oKug888wzUqlSJd0eVWGZPXu2Pq7r3h033HCDrnCodrnu3BsbGytVq1aV4OBgqV+/vnz44Yce76PCU40aNfR2dZys7QRgX4QNwMfUF7OqYijx8fGyc+dOWbVqlSxfvlzS09Olbdu2UqpUKfnqq6/k66+/lpIlS+rqiOs1r776qr6J19tvvy3r1q2TkydPypIlS674no899pgsWLBA3xxvx44d8sYbb+jjqvDx0Ucf6X1UOw4fPiyvv/66fq6CxjvvvCNxcXGyfft2GTZsmPz973+XtWvXukNR165dpVOnTvpOpk888YQ8++yzhj89AIWCuhEbgPwRHR3t7Ny5s/45MzPTuWrVKmdQUJBz5MiReltYWJgzLS3Nvf+7777rrFmzpt7XRW0PDg52rly5Uj+PiIhwTpw40b09PT3dedNNN7nfR2nRooVzyJAh+uedO3eqsod+75x8+eWXevupU6fc686fP+8sXry485tvvvHYt0+fPs4ePXron2NiYpx16tTx2P7MM89cciwA9sOYDSCfqYqFqiKoqoXqmvjb3/4mL774oh67Ua9ePY9xGtu2bZPdu3frykZW58+flz179khycrKuPjRp0sS9rUiRItKoUaNLulJcVNUhICBAWrRokes2qzacPXtW7rvvPo/1qrrSsGFD/bOqkGRth9K0adNcvwcA/0XYAPKZGsswa9YsHSrU2AwVDlxKlCjhsW9KSopERkbK+++/f8lxypcvf83dNnml2qF8+umncuONN3psU2M+AOBKCBtAPlOBQg3IzI3bb79dFi5cKBUqVJDSpUvnuE9ERIR8++230rx5c/1cTaNNTEzUr82Jqp6oiooaa6EGp2bnqqyogacuderU0aFi//79l62I1K5dWw90zWrDhg25Ok8A/o0BokAB1rNnTylXrpyegaIGiO7bt09fB2Pw4MFy8OBBvc+QIUNkwoQJsnTpUvn555/l//7v/654jYwqVapIdHS09O7dW7/GdcwPPvhAb1ezZNQsFNXdc+zYMV3VUN04I0eO1INC582bp7twvvvuO5k2bZp+rjz11FOya9cuGTVqlB5cOn/+fD1wFQAIG0ABVrx4cUlISJDKlSvrmR6qetCnTx89ZsNV6RgxYoQ8+uijOkCoMRIqGHTp0uWKx1XdOA899JAOJrVq1ZK+fftKamqq3qa6ScaOHatnkoSFhcnAgQP1enVRsBdeeEHPSlHtUDNiVLeKmgqrqDaqmSwqwKhpsWrWyvjx441/RgAKPkuNEvV1IwAAgP+isgEAAIwibAAAAKMIGwAAwCjCBgAAMIqwAQAAjCJsAAAAowgbAADAKMIGAAAwirABAACMImwAAACjCBsAAMAowgYAABCT/h95mITx9Bl/UwAAAABJRU5ErkJggg==",
      "text/plain": [
       "<Figure size 640x480 with 2 Axes>"
      ]
     },
     "metadata": {},
     "output_type": "display_data"
    }
   ],
   "source": [
    "from sklearn.metrics import accuracy_score, precision_score, recall_score, f1_score, confusion_matrix\n",
    "\n",
    "# Metrics\n",
    "print('Accuracy:', accuracy_score(y_test, y_pred))\n",
    "print('Precision:', precision_score(y_test, y_pred))\n",
    "print('Recall:', recall_score(y_test, y_pred))\n",
    "print('F1-Score:', f1_score(y_test, y_pred))\n",
    "\n",
    "# Confusion matrix\n",
    "cm = confusion_matrix(y_test, y_pred)\n",
    "sns.heatmap(cm, annot=True, fmt='d', cmap='Blues')\n",
    "plt.xlabel('Predicted')\n",
    "plt.ylabel('Actual')\n",
    "plt.title('Confusion Matrix')\n",
    "plt.show()"
   ]
  },
  {
   "cell_type": "code",
<<<<<<< HEAD
   "execution_count": 79,
=======
   "execution_count": 20,
>>>>>>> 3a9edb88 (Initial commit)
   "metadata": {},
   "outputs": [
    {
     "data": {
<<<<<<< HEAD
      "image/png": "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",
=======
      "image/png": "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",
>>>>>>> 3a9edb88 (Initial commit)
      "text/plain": [
       "<Figure size 640x480 with 1 Axes>"
      ]
     },
     "metadata": {},
     "output_type": "display_data"
    }
   ],
   "source": [
    "import matplotlib.pyplot as plt\n",
    "\n",
    "plt.plot(history.history['loss'], label='Train Loss')\n",
    "plt.plot(history.history['val_loss'], label='Validation Loss')\n",
    "plt.legend()\n",
    "plt.show()\n"
   ]
  },
  {
   "cell_type": "code",
<<<<<<< HEAD
   "execution_count": 80,
=======
   "execution_count": 21,
>>>>>>> 3a9edb88 (Initial commit)
   "metadata": {},
   "outputs": [
    {
     "name": "stdout",
     "output_type": "stream",
     "text": [
      "[[ 87   1]\n",
      " [  2 248]]\n"
     ]
    }
   ],
   "source": [
    "from sklearn.metrics import confusion_matrix\n",
    "\n",
    "cm = confusion_matrix(y_test, y_pred)\n",
    "print(cm)\n"
   ]
  },
  {
   "cell_type": "markdown",
   "metadata": {},
   "source": [
<<<<<<< HEAD
    "Save the improved model"
=======
    "# Improve the ANN Model"
>>>>>>> 3a9edb88 (Initial commit)
   ]
  },
  {
   "cell_type": "code",
<<<<<<< HEAD
   "execution_count": 83,
   "metadata": {},
   "outputs": [
    {
     "name": "stderr",
     "output_type": "stream",
     "text": [
      "WARNING:absl:You are saving your model as an HDF5 file via `model.save()` or `keras.saving.save_model(model)`. This file format is considered legacy. We recommend using instead the native Keras format, e.g. `model.save('my_model.keras')` or `keras.saving.save_model(model, 'my_model.keras')`. \n"
=======
   "execution_count": 22,
   "metadata": {},
   "outputs": [
    {
     "name": "stdout",
     "output_type": "stream",
     "text": [
      "Epoch 1/50\n",
      "\u001b[1m43/43\u001b[0m \u001b[32m━━━━━━━━━━━━━━━━━━━━\u001b[0m\u001b[37m\u001b[0m \u001b[1m1s\u001b[0m 6ms/step - accuracy: 0.9919 - loss: 0.0327 - val_accuracy: 0.9704 - val_loss: 0.0559\n",
      "Epoch 2/50\n",
      "\u001b[1m43/43\u001b[0m \u001b[32m━━━━━━━━━━━━━━━━━━━━\u001b[0m\u001b[37m\u001b[0m \u001b[1m0s\u001b[0m 5ms/step - accuracy: 0.9911 - loss: 0.0346 - val_accuracy: 0.9882 - val_loss: 0.0295\n",
      "Epoch 3/50\n",
      "\u001b[1m43/43\u001b[0m \u001b[32m━━━━━━━━━━━━━━━━━━━━\u001b[0m\u001b[37m\u001b[0m \u001b[1m0s\u001b[0m 5ms/step - accuracy: 0.9893 - loss: 0.0312 - val_accuracy: 0.9822 - val_loss: 0.0327\n",
      "Epoch 4/50\n",
      "\u001b[1m43/43\u001b[0m \u001b[32m━━━━━━━━━━━━━━━━━━━━\u001b[0m\u001b[37m\u001b[0m \u001b[1m0s\u001b[0m 5ms/step - accuracy: 0.9888 - loss: 0.0334 - val_accuracy: 0.9911 - val_loss: 0.0281\n",
      "Epoch 5/50\n",
      "\u001b[1m43/43\u001b[0m \u001b[32m━━━━━━━━━━━━━━━━━━━━\u001b[0m\u001b[37m\u001b[0m \u001b[1m0s\u001b[0m 5ms/step - accuracy: 0.9849 - loss: 0.0438 - val_accuracy: 0.9822 - val_loss: 0.0329\n",
      "Epoch 6/50\n",
      "\u001b[1m43/43\u001b[0m \u001b[32m━━━━━━━━━━━━━━━━━━━━\u001b[0m\u001b[37m\u001b[0m \u001b[1m0s\u001b[0m 5ms/step - accuracy: 0.9863 - loss: 0.0366 - val_accuracy: 0.9911 - val_loss: 0.0260\n",
      "Epoch 7/50\n",
      "\u001b[1m43/43\u001b[0m \u001b[32m━━━━━━━━━━━━━━━━━━━━\u001b[0m\u001b[37m\u001b[0m \u001b[1m0s\u001b[0m 5ms/step - accuracy: 0.9934 - loss: 0.0312 - val_accuracy: 0.9911 - val_loss: 0.0253\n",
      "Epoch 8/50\n",
      "\u001b[1m43/43\u001b[0m \u001b[32m━━━━━━━━━━━━━━━━━━━━\u001b[0m\u001b[37m\u001b[0m \u001b[1m0s\u001b[0m 6ms/step - accuracy: 0.9911 - loss: 0.0279 - val_accuracy: 0.9852 - val_loss: 0.0258\n",
      "Epoch 9/50\n",
      "\u001b[1m43/43\u001b[0m \u001b[32m━━━━━━━━━━━━━━━━━━━━\u001b[0m\u001b[37m\u001b[0m \u001b[1m0s\u001b[0m 5ms/step - accuracy: 0.9948 - loss: 0.0258 - val_accuracy: 0.9793 - val_loss: 0.0328\n",
      "Epoch 10/50\n",
      "\u001b[1m43/43\u001b[0m \u001b[32m━━━━━━━━━━━━━━━━━━━━\u001b[0m\u001b[37m\u001b[0m \u001b[1m0s\u001b[0m 6ms/step - accuracy: 0.9930 - loss: 0.0297 - val_accuracy: 0.9911 - val_loss: 0.0235\n",
      "Epoch 11/50\n",
      "\u001b[1m43/43\u001b[0m \u001b[32m━━━━━━━━━━━━━━━━━━━━\u001b[0m\u001b[37m\u001b[0m \u001b[1m0s\u001b[0m 6ms/step - accuracy: 0.9868 - loss: 0.0423 - val_accuracy: 0.9852 - val_loss: 0.0301\n",
      "Epoch 12/50\n",
      "\u001b[1m43/43\u001b[0m \u001b[32m━━━━━━━━━━━━━━━━━━━━\u001b[0m\u001b[37m\u001b[0m \u001b[1m0s\u001b[0m 5ms/step - accuracy: 0.9903 - loss: 0.0292 - val_accuracy: 0.9822 - val_loss: 0.0305\n",
      "Epoch 13/50\n",
      "\u001b[1m43/43\u001b[0m \u001b[32m━━━━━━━━━━━━━━━━━━━━\u001b[0m\u001b[37m\u001b[0m \u001b[1m0s\u001b[0m 5ms/step - accuracy: 0.9884 - loss: 0.0438 - val_accuracy: 0.9941 - val_loss: 0.0279\n",
      "Epoch 14/50\n",
      "\u001b[1m43/43\u001b[0m \u001b[32m━━━━━━━━━━━━━━━━━━━━\u001b[0m\u001b[37m\u001b[0m \u001b[1m0s\u001b[0m 4ms/step - accuracy: 0.9923 - loss: 0.0296 - val_accuracy: 0.9911 - val_loss: 0.0237\n",
      "Epoch 15/50\n",
      "\u001b[1m43/43\u001b[0m \u001b[32m━━━━━━━━━━━━━━━━━━━━\u001b[0m\u001b[37m\u001b[0m \u001b[1m0s\u001b[0m 4ms/step - accuracy: 0.9951 - loss: 0.0206 - val_accuracy: 0.9882 - val_loss: 0.0224\n",
      "Epoch 16/50\n",
      "\u001b[1m43/43\u001b[0m \u001b[32m━━━━━━━━━━━━━━━━━━━━\u001b[0m\u001b[37m\u001b[0m \u001b[1m0s\u001b[0m 5ms/step - accuracy: 0.9943 - loss: 0.0209 - val_accuracy: 0.9882 - val_loss: 0.0243\n",
      "Epoch 17/50\n",
      "\u001b[1m43/43\u001b[0m \u001b[32m━━━━━━━━━━━━━━━━━━━━\u001b[0m\u001b[37m\u001b[0m \u001b[1m0s\u001b[0m 5ms/step - accuracy: 0.9976 - loss: 0.0198 - val_accuracy: 0.9852 - val_loss: 0.0298\n",
      "Epoch 18/50\n",
      "\u001b[1m43/43\u001b[0m \u001b[32m━━━━━━━━━━━━━━━━━━━━\u001b[0m\u001b[37m\u001b[0m \u001b[1m0s\u001b[0m 5ms/step - accuracy: 0.9904 - loss: 0.0268 - val_accuracy: 0.9911 - val_loss: 0.0201\n",
      "Epoch 19/50\n",
      "\u001b[1m43/43\u001b[0m \u001b[32m━━━━━━━━━━━━━━━━━━━━\u001b[0m\u001b[37m\u001b[0m \u001b[1m0s\u001b[0m 5ms/step - accuracy: 0.9961 - loss: 0.0142 - val_accuracy: 0.9852 - val_loss: 0.0241\n",
      "Epoch 20/50\n",
      "\u001b[1m43/43\u001b[0m \u001b[32m━━━━━━━━━━━━━━━━━━━━\u001b[0m\u001b[37m\u001b[0m \u001b[1m0s\u001b[0m 5ms/step - accuracy: 0.9903 - loss: 0.0312 - val_accuracy: 0.9882 - val_loss: 0.0255\n",
      "Epoch 21/50\n",
      "\u001b[1m43/43\u001b[0m \u001b[32m━━━━━━━━━━━━━━━━━━━━\u001b[0m\u001b[37m\u001b[0m \u001b[1m0s\u001b[0m 5ms/step - accuracy: 0.9926 - loss: 0.0224 - val_accuracy: 0.9911 - val_loss: 0.0215\n",
      "Epoch 22/50\n",
      "\u001b[1m43/43\u001b[0m \u001b[32m━━━━━━━━━━━━━━━━━━━━\u001b[0m\u001b[37m\u001b[0m \u001b[1m0s\u001b[0m 5ms/step - accuracy: 0.9987 - loss: 0.0120 - val_accuracy: 0.9882 - val_loss: 0.0184\n",
      "Epoch 23/50\n",
      "\u001b[1m43/43\u001b[0m \u001b[32m━━━━━━━━━━━━━━━━━━━━\u001b[0m\u001b[37m\u001b[0m \u001b[1m0s\u001b[0m 6ms/step - accuracy: 0.9977 - loss: 0.0183 - val_accuracy: 0.9941 - val_loss: 0.0193\n",
      "Epoch 24/50\n",
      "\u001b[1m43/43\u001b[0m \u001b[32m━━━━━━━━━━━━━━━━━━━━\u001b[0m\u001b[37m\u001b[0m \u001b[1m0s\u001b[0m 5ms/step - accuracy: 0.9982 - loss: 0.0128 - val_accuracy: 0.9911 - val_loss: 0.0193\n",
      "Epoch 25/50\n",
      "\u001b[1m43/43\u001b[0m \u001b[32m━━━━━━━━━━━━━━━━━━━━\u001b[0m\u001b[37m\u001b[0m \u001b[1m0s\u001b[0m 5ms/step - accuracy: 0.9985 - loss: 0.0175 - val_accuracy: 0.9911 - val_loss: 0.0196\n",
      "Epoch 26/50\n",
      "\u001b[1m43/43\u001b[0m \u001b[32m━━━━━━━━━━━━━━━━━━━━\u001b[0m\u001b[37m\u001b[0m \u001b[1m0s\u001b[0m 5ms/step - accuracy: 0.9967 - loss: 0.0149 - val_accuracy: 0.9911 - val_loss: 0.0182\n",
      "Epoch 27/50\n",
      "\u001b[1m43/43\u001b[0m \u001b[32m━━━━━━━━━━━━━━━━━━━━\u001b[0m\u001b[37m\u001b[0m \u001b[1m0s\u001b[0m 4ms/step - accuracy: 0.9984 - loss: 0.0152 - val_accuracy: 0.9911 - val_loss: 0.0216\n",
      "Epoch 28/50\n",
      "\u001b[1m43/43\u001b[0m \u001b[32m━━━━━━━━━━━━━━━━━━━━\u001b[0m\u001b[37m\u001b[0m \u001b[1m0s\u001b[0m 5ms/step - accuracy: 0.9998 - loss: 0.0131 - val_accuracy: 0.9941 - val_loss: 0.0180\n",
      "Epoch 29/50\n",
      "\u001b[1m43/43\u001b[0m \u001b[32m━━━━━━━━━━━━━━━━━━━━\u001b[0m\u001b[37m\u001b[0m \u001b[1m0s\u001b[0m 5ms/step - accuracy: 0.9968 - loss: 0.0189 - val_accuracy: 0.9882 - val_loss: 0.0250\n",
      "Epoch 30/50\n",
      "\u001b[1m43/43\u001b[0m \u001b[32m━━━━━━━━━━━━━━━━━━━━\u001b[0m\u001b[37m\u001b[0m \u001b[1m0s\u001b[0m 6ms/step - accuracy: 0.9975 - loss: 0.0153 - val_accuracy: 0.9911 - val_loss: 0.0205\n",
      "Epoch 31/50\n",
      "\u001b[1m43/43\u001b[0m \u001b[32m━━━━━━━━━━━━━━━━━━━━\u001b[0m\u001b[37m\u001b[0m \u001b[1m0s\u001b[0m 7ms/step - accuracy: 0.9954 - loss: 0.0162 - val_accuracy: 0.9941 - val_loss: 0.0215\n",
      "Epoch 32/50\n",
      "\u001b[1m43/43\u001b[0m \u001b[32m━━━━━━━━━━━━━━━━━━━━\u001b[0m\u001b[37m\u001b[0m \u001b[1m0s\u001b[0m 7ms/step - accuracy: 0.9905 - loss: 0.0327 - val_accuracy: 0.9882 - val_loss: 0.0229\n",
      "Epoch 33/50\n",
      "\u001b[1m43/43\u001b[0m \u001b[32m━━━━━━━━━━━━━━━━━━━━\u001b[0m\u001b[37m\u001b[0m \u001b[1m0s\u001b[0m 10ms/step - accuracy: 0.9903 - loss: 0.0280 - val_accuracy: 0.9822 - val_loss: 0.0290\n",
      "Epoch 34/50\n",
      "\u001b[1m43/43\u001b[0m \u001b[32m━━━━━━━━━━━━━━━━━━━━\u001b[0m\u001b[37m\u001b[0m \u001b[1m0s\u001b[0m 7ms/step - accuracy: 0.9985 - loss: 0.0139 - val_accuracy: 0.9941 - val_loss: 0.0210\n",
      "Epoch 35/50\n",
      "\u001b[1m43/43\u001b[0m \u001b[32m━━━━━━━━━━━━━━━━━━━━\u001b[0m\u001b[37m\u001b[0m \u001b[1m0s\u001b[0m 5ms/step - accuracy: 0.9944 - loss: 0.0194 - val_accuracy: 0.9941 - val_loss: 0.0206\n",
      "Epoch 36/50\n",
      "\u001b[1m43/43\u001b[0m \u001b[32m━━━━━━━━━━━━━━━━━━━━\u001b[0m\u001b[37m\u001b[0m \u001b[1m0s\u001b[0m 8ms/step - accuracy: 0.9964 - loss: 0.0143 - val_accuracy: 0.9941 - val_loss: 0.0253\n",
      "Epoch 37/50\n",
      "\u001b[1m43/43\u001b[0m \u001b[32m━━━━━━━━━━━━━━━━━━━━\u001b[0m\u001b[37m\u001b[0m \u001b[1m0s\u001b[0m 6ms/step - accuracy: 0.9950 - loss: 0.0143 - val_accuracy: 0.9911 - val_loss: 0.0164\n",
      "Epoch 38/50\n",
      "\u001b[1m43/43\u001b[0m \u001b[32m━━━━━━━━━━━━━━━━━━━━\u001b[0m\u001b[37m\u001b[0m \u001b[1m0s\u001b[0m 6ms/step - accuracy: 0.9970 - loss: 0.0170 - val_accuracy: 0.9970 - val_loss: 0.0240\n",
      "Epoch 39/50\n",
      "\u001b[1m43/43\u001b[0m \u001b[32m━━━━━━━━━━━━━━━━━━━━\u001b[0m\u001b[37m\u001b[0m \u001b[1m0s\u001b[0m 6ms/step - accuracy: 0.9968 - loss: 0.0206 - val_accuracy: 0.9882 - val_loss: 0.0222\n",
      "Epoch 40/50\n",
      "\u001b[1m43/43\u001b[0m \u001b[32m━━━━━━━━━━━━━━━━━━━━\u001b[0m\u001b[37m\u001b[0m \u001b[1m0s\u001b[0m 6ms/step - accuracy: 0.9979 - loss: 0.0139 - val_accuracy: 0.9941 - val_loss: 0.0262\n",
      "Epoch 41/50\n",
      "\u001b[1m43/43\u001b[0m \u001b[32m━━━━━━━━━━━━━━━━━━━━\u001b[0m\u001b[37m\u001b[0m \u001b[1m0s\u001b[0m 6ms/step - accuracy: 0.9967 - loss: 0.0178 - val_accuracy: 0.9852 - val_loss: 0.0223\n",
      "Epoch 42/50\n",
      "\u001b[1m43/43\u001b[0m \u001b[32m━━━━━━━━━━━━━━━━━━━━\u001b[0m\u001b[37m\u001b[0m \u001b[1m0s\u001b[0m 7ms/step - accuracy: 1.0000 - loss: 0.0076 - val_accuracy: 0.9911 - val_loss: 0.0185\n",
      "Epoch 43/50\n",
      "\u001b[1m43/43\u001b[0m \u001b[32m━━━━━━━━━━━━━━━━━━━━\u001b[0m\u001b[37m\u001b[0m \u001b[1m0s\u001b[0m 9ms/step - accuracy: 0.9992 - loss: 0.0094 - val_accuracy: 0.9882 - val_loss: 0.0244\n",
      "Epoch 44/50\n",
      "\u001b[1m43/43\u001b[0m \u001b[32m━━━━━━━━━━━━━━━━━━━━\u001b[0m\u001b[37m\u001b[0m \u001b[1m0s\u001b[0m 9ms/step - accuracy: 0.9971 - loss: 0.0126 - val_accuracy: 0.9882 - val_loss: 0.0211\n",
      "Epoch 45/50\n",
      "\u001b[1m43/43\u001b[0m \u001b[32m━━━━━━━━━━━━━━━━━━━━\u001b[0m\u001b[37m\u001b[0m \u001b[1m0s\u001b[0m 7ms/step - accuracy: 0.9971 - loss: 0.0110 - val_accuracy: 0.9911 - val_loss: 0.0219\n",
      "Epoch 46/50\n",
      "\u001b[1m43/43\u001b[0m \u001b[32m━━━━━━━━━━━━━━━━━━━━\u001b[0m\u001b[37m\u001b[0m \u001b[1m0s\u001b[0m 7ms/step - accuracy: 0.9980 - loss: 0.0105 - val_accuracy: 0.9911 - val_loss: 0.0220\n",
      "Epoch 47/50\n",
      "\u001b[1m43/43\u001b[0m \u001b[32m━━━━━━━━━━━━━━━━━━━━\u001b[0m\u001b[37m\u001b[0m \u001b[1m0s\u001b[0m 9ms/step - accuracy: 0.9982 - loss: 0.0099 - val_accuracy: 0.9911 - val_loss: 0.0200\n",
      "Epoch 48/50\n",
      "\u001b[1m43/43\u001b[0m \u001b[32m━━━━━━━━━━━━━━━━━━━━\u001b[0m\u001b[37m\u001b[0m \u001b[1m0s\u001b[0m 7ms/step - accuracy: 0.9974 - loss: 0.0180 - val_accuracy: 0.9822 - val_loss: 0.0315\n",
      "Epoch 49/50\n",
      "\u001b[1m43/43\u001b[0m \u001b[32m━━━━━━━━━━━━━━━━━━━━\u001b[0m\u001b[37m\u001b[0m \u001b[1m0s\u001b[0m 6ms/step - accuracy: 0.9942 - loss: 0.0183 - val_accuracy: 0.9941 - val_loss: 0.0198\n",
      "Epoch 50/50\n",
      "\u001b[1m43/43\u001b[0m \u001b[32m━━━━━━━━━━━━━━━━━━━━\u001b[0m\u001b[37m\u001b[0m \u001b[1m0s\u001b[0m 6ms/step - accuracy: 0.9993 - loss: 0.0079 - val_accuracy: 0.9852 - val_loss: 0.0199\n"
     ]
    },
    {
     "data": {
      "text/plain": [
       "<keras.src.callbacks.history.History at 0x20546e3bd90>"
      ]
     },
     "execution_count": 22,
     "metadata": {},
     "output_type": "execute_result"
    }
   ],
   "source": [
    "# Class weighting\n",
    "class_weights = {0: 1, 1: 2}  # Give more weight to the minority class\n",
    "model.fit(X_train, y_train, class_weight=class_weights, epochs=50, batch_size=32, validation_data=(X_test, y_test))"
   ]
  },
  {
   "cell_type": "code",
   "execution_count": 25,
   "metadata": {},
   "outputs": [
    {
     "data": {
      "image/png": "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",
      "text/plain": [
       "<Figure size 640x480 with 1 Axes>"
      ]
     },
     "metadata": {},
     "output_type": "display_data"
    }
   ],
   "source": [
    "import matplotlib.pyplot as plt\n",
    "\n",
    "plt.plot(history.history['loss'], label='Train Loss')\n",
    "plt.plot(history.history['val_loss'], label='Validation Loss')\n",
    "plt.legend()\n",
    "plt.show()\n"
   ]
  },
  {
   "cell_type": "code",
   "execution_count": 23,
   "metadata": {},
   "outputs": [
    {
     "name": "stdout",
     "output_type": "stream",
     "text": [
      "churn\n",
      "1    981\n",
      "0    981\n",
      "Name: count, dtype: int64\n"
>>>>>>> 3a9edb88 (Initial commit)
     ]
    }
   ],
   "source": [
<<<<<<< HEAD
    "model.save('churn_prediction_ann_model.h5')"
=======
    "print(y_train_resampled.value_counts())  # Ensure the dataset isn't heavily imbalanced\n"
   ]
  },
  {
   "cell_type": "markdown",
   "metadata": {},
   "source": [
    "Save the Model"
   ]
  },
  {
   "cell_type": "code",
   "execution_count": 24,
   "metadata": {},
   "outputs": [],
   "source": [
    "#model.save('churn_prediction_ann_model.h5')"
>>>>>>> 3a9edb88 (Initial commit)
   ]
  },
  {
   "cell_type": "markdown",
   "metadata": {},
   "source": []
  }
 ],
 "metadata": {
  "kernelspec": {
   "display_name": ".venv",
   "language": "python",
   "name": "python3"
  },
  "language_info": {
   "codemirror_mode": {
    "name": "ipython",
    "version": 3
   },
   "file_extension": ".py",
   "mimetype": "text/x-python",
   "name": "python",
   "nbconvert_exporter": "python",
   "pygments_lexer": "ipython3",
   "version": "3.10.9"
  }
 },
 "nbformat": 4,
 "nbformat_minor": 2
}
